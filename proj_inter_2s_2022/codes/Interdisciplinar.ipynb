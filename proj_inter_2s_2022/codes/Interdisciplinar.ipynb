{
 "cells": [
  {
   "cell_type": "markdown",
   "id": "90d31179",
   "metadata": {},
   "source": [
    "# 0. Imports\n"
   ]
  },
  {
   "cell_type": "code",
   "execution_count": 3,
   "id": "5f8ef3b1",
   "metadata": {},
   "outputs": [],
   "source": [
    "import boto3\n",
    "import pandas as pd\n",
    "from sagemaker import get_execution_role"
   ]
  },
  {
   "cell_type": "markdown",
   "id": "75c4e361",
   "metadata": {},
   "source": [
    "# 1. O Problema"
   ]
  },
  {
   "cell_type": "markdown",
   "id": "173f66ef",
   "metadata": {},
   "source": [
    "## 1.1 O que é League of legends"
   ]
  },
  {
   "cell_type": "markdown",
   "id": "4fcb8825",
   "metadata": {},
   "source": [
    "**League of Legends** (abreviado como **LoL** e comumente referido como League) é um jogo\n",
    "eletrônico do gênero multiplayer online battle arena (MOBA) desenvolvido e publicado pela Riot\n",
    "Games.\n",
    "\n",
    "\n",
    "No jogo, duas equipes de cinco jogadores batalham em um combate jogador contra jogador\n",
    "(PvP), com cada equipe ocupando e defendendo sua metade do mapa. Cada um dos dez\n",
    "jogadores controla um personagem, conhecido como \"campeão\", com habilidades únicas e\n",
    "diferentes estilos de jogo. Durante uma partida, os campeões se tornam mais poderosos ao\n",
    "coletarem pontos de experiência, ganharem ouro e comprarem itens a fim de derrotar a equipe\n",
    "adversária. No modo principal, Summoner's Rift, o objetivo primário é avançar até a base\n",
    "inimiga e destruir uma grande estrutura localizada em seu centro, sob o nome de \"Nexus"
   ]
  },
  {
   "cell_type": "markdown",
   "id": "c62ac746",
   "metadata": {},
   "source": [
    "## 1.2 Desafio"
   ]
  },
  {
   "cell_type": "markdown",
   "id": "516c31c8",
   "metadata": {},
   "source": [
    "**Objetivo:**\n",
    "Atualmente o Lol conta com 162 personagens disponiveis para escolha. Enquanto jogamos ou assistimos aos outros jogarem fica evidente que em alguns casos alguns personagens tem vantagens sobre os outros. Mas e se conseguissimos determinar qual a melhor escolha possível de forma a otimizar sua chace de vencer um jogo?\n",
    "\n",
    "O objetivo neste trabalho é criar um modelo que indique os campeões que maximizem a chance de um time vencer após a definição das outras 9 escolhas.\n",
    "\n",
    "O verdadeito game changer.\n",
    "\n",
    "**Planejamento da solução**\n",
    "\n",
    "- Analisar a viabilidade do modelo a partir de dados passados, ou seja com todas as informações que aocnteceram em uma partida\n",
    "- Criar bases auxiliares com estetisticas dos personagens para que possomos criar um modelo a partir apenas dos personagens e alimentando com essas informações auxiliares (observação: Essa base deve conter apenas informações da base treino)\n",
    "- Refazer o treinamento do modelo 1 com as novas indicações de estatisticas\n",
    "- Modelo de regressão\n",
    "- Métricas\n",
    "    - F1-score\n",
    "\n",
    "\n"
   ]
  },
  {
   "cell_type": "markdown",
   "id": "ef5c41b3",
   "metadata": {},
   "source": [
    "# 2. Fonte de dados"
   ]
  },
  {
   "cell_type": "markdown",
   "id": "1862ab7d",
   "metadata": {},
   "source": [
    "## 2.1 Extração API"
   ]
  },
  {
   "cell_type": "markdown",
   "id": "459c77a5",
   "metadata": {},
   "source": [
    "O league of legends tem uma API própia para aqueles que desejam analisar os dados das partidas.\n",
    "\n",
    "A API pdoe ser acessada pelo site https://developer.riotgames.com/\n",
    "\n",
    "Neste trabalho foi necessário renovar a key toda a vez que era necessário uma extração de dados, porêm é possível solicitar uma key permanente, mas isso leva algum tempo, e não foi possível usa-la para este trabalho.\n",
    "\n",
    "Por essse motivo o script de extração de dados foi executado na máquina local, extraindo dados das partidas dos 200 melhores jogadores da região do Brasil.\n",
    "\n",
    "O script pode ser encontrado no githhub: **Colocar link aqui**"
   ]
  },
  {
   "cell_type": "markdown",
   "id": "42b9027a",
   "metadata": {},
   "source": [
    "## 2.2 Carregando os dados"
   ]
  },
  {
   "cell_type": "code",
   "execution_count": 4,
   "id": "6855d3f5",
   "metadata": {},
   "outputs": [],
   "source": [
    "role = get_execution_role()\n",
    "bucket='projeto-interdisciplinar'\n",
    "data_key = 'partidas_detalhadas.xlsx'\n",
    "data_location = 's3://{}/{}'.format(bucket, data_key)\n"
   ]
  },
  {
   "cell_type": "code",
   "execution_count": 3,
   "id": "7bd2ebcc",
   "metadata": {},
   "outputs": [],
   "source": [
    "base = pd.read_excel(data_location)"
   ]
  },
  {
   "cell_type": "code",
   "execution_count": 7,
   "id": "d6cf6a04",
   "metadata": {},
   "outputs": [
    {
     "data": {
      "text/html": [
       "<div>\n",
       "<style scoped>\n",
       "    .dataframe tbody tr th:only-of-type {\n",
       "        vertical-align: middle;\n",
       "    }\n",
       "\n",
       "    .dataframe tbody tr th {\n",
       "        vertical-align: top;\n",
       "    }\n",
       "\n",
       "    .dataframe thead th {\n",
       "        text-align: right;\n",
       "    }\n",
       "</style>\n",
       "<table border=\"1\" class=\"dataframe\">\n",
       "  <thead>\n",
       "    <tr style=\"text-align: right;\">\n",
       "      <th></th>\n",
       "      <th>Partida</th>\n",
       "      <th>Tempo</th>\n",
       "      <th>Blue Team Victory</th>\n",
       "      <th>champion_id_Top_blue_side</th>\n",
       "      <th>champion_Top_blue_side</th>\n",
       "      <th>kill_Top_blue_side</th>\n",
       "      <th>death_Top_blue_side</th>\n",
       "      <th>assist_Top_blue_side</th>\n",
       "      <th>damage_per_minute_Top_blue_side</th>\n",
       "      <th>gold_per_minute_Top_blue_side</th>\n",
       "      <th>...</th>\n",
       "      <th>gold_per_minute_Adc_red_side</th>\n",
       "      <th>vision_per_minute_Adc_red_side</th>\n",
       "      <th>champion_id_Sup_red_side</th>\n",
       "      <th>champion_Sup_red_side</th>\n",
       "      <th>kill_Sup_red_side</th>\n",
       "      <th>death_Sup_red_side</th>\n",
       "      <th>assist_Sup_red_side</th>\n",
       "      <th>damage_per_minute_Sup_red_side</th>\n",
       "      <th>gold_per_minute_Sup_red_side</th>\n",
       "      <th>vision_per_minute_Sup_red_side</th>\n",
       "    </tr>\n",
       "  </thead>\n",
       "  <tbody>\n",
       "    <tr>\n",
       "      <th>0</th>\n",
       "      <td>BR1_2607889462</td>\n",
       "      <td>32.950000</td>\n",
       "      <td>False</td>\n",
       "      <td>266</td>\n",
       "      <td>Aatrox</td>\n",
       "      <td>0</td>\n",
       "      <td>1</td>\n",
       "      <td>6</td>\n",
       "      <td>440.169051</td>\n",
       "      <td>390.094271</td>\n",
       "      <td>...</td>\n",
       "      <td>424.966404</td>\n",
       "      <td>1.226336</td>\n",
       "      <td>104.0</td>\n",
       "      <td>Graves</td>\n",
       "      <td>2.0</td>\n",
       "      <td>5.0</td>\n",
       "      <td>2.0</td>\n",
       "      <td>454.543289</td>\n",
       "      <td>375.587076</td>\n",
       "      <td>3.715915</td>\n",
       "    </tr>\n",
       "    <tr>\n",
       "      <th>1</th>\n",
       "      <td>BR1_2607868377</td>\n",
       "      <td>17.466667</td>\n",
       "      <td>False</td>\n",
       "      <td>84</td>\n",
       "      <td>Akali</td>\n",
       "      <td>6</td>\n",
       "      <td>3</td>\n",
       "      <td>0</td>\n",
       "      <td>640.653606</td>\n",
       "      <td>437.823471</td>\n",
       "      <td>...</td>\n",
       "      <td>612.495282</td>\n",
       "      <td>0.466930</td>\n",
       "      <td>412.0</td>\n",
       "      <td>Thresh</td>\n",
       "      <td>1.0</td>\n",
       "      <td>1.0</td>\n",
       "      <td>13.0</td>\n",
       "      <td>232.126795</td>\n",
       "      <td>306.794212</td>\n",
       "      <td>1.136832</td>\n",
       "    </tr>\n",
       "    <tr>\n",
       "      <th>2</th>\n",
       "      <td>BR1_2607843393</td>\n",
       "      <td>16.750000</td>\n",
       "      <td>False</td>\n",
       "      <td>164</td>\n",
       "      <td>Camille</td>\n",
       "      <td>2</td>\n",
       "      <td>4</td>\n",
       "      <td>4</td>\n",
       "      <td>452.764237</td>\n",
       "      <td>375.834466</td>\n",
       "      <td>...</td>\n",
       "      <td>623.614783</td>\n",
       "      <td>0.413094</td>\n",
       "      <td>25.0</td>\n",
       "      <td>Morgana</td>\n",
       "      <td>2.0</td>\n",
       "      <td>1.0</td>\n",
       "      <td>19.0</td>\n",
       "      <td>297.290379</td>\n",
       "      <td>373.592809</td>\n",
       "      <td>1.283953</td>\n",
       "    </tr>\n",
       "    <tr>\n",
       "      <th>3</th>\n",
       "      <td>BR1_2607796695</td>\n",
       "      <td>29.033333</td>\n",
       "      <td>True</td>\n",
       "      <td>164</td>\n",
       "      <td>Camille</td>\n",
       "      <td>6</td>\n",
       "      <td>4</td>\n",
       "      <td>3</td>\n",
       "      <td>688.090085</td>\n",
       "      <td>408.784779</td>\n",
       "      <td>...</td>\n",
       "      <td>463.537844</td>\n",
       "      <td>0.627343</td>\n",
       "      <td>497.0</td>\n",
       "      <td>Rakan</td>\n",
       "      <td>2.0</td>\n",
       "      <td>5.0</td>\n",
       "      <td>7.0</td>\n",
       "      <td>183.642915</td>\n",
       "      <td>247.911209</td>\n",
       "      <td>2.497650</td>\n",
       "    </tr>\n",
       "    <tr>\n",
       "      <th>4</th>\n",
       "      <td>BR1_2607756218</td>\n",
       "      <td>26.400000</td>\n",
       "      <td>True</td>\n",
       "      <td>157</td>\n",
       "      <td>Yasuo</td>\n",
       "      <td>7</td>\n",
       "      <td>0</td>\n",
       "      <td>10</td>\n",
       "      <td>601.782848</td>\n",
       "      <td>549.118970</td>\n",
       "      <td>...</td>\n",
       "      <td>331.528842</td>\n",
       "      <td>0.905511</td>\n",
       "      <td>24.0</td>\n",
       "      <td>Jax</td>\n",
       "      <td>2.0</td>\n",
       "      <td>4.0</td>\n",
       "      <td>0.0</td>\n",
       "      <td>385.149768</td>\n",
       "      <td>342.278600</td>\n",
       "      <td>1.018867</td>\n",
       "    </tr>\n",
       "  </tbody>\n",
       "</table>\n",
       "<p>5 rows × 83 columns</p>\n",
       "</div>"
      ],
      "text/plain": [
       "          Partida      Tempo  Blue Team Victory  champion_id_Top_blue_side  \\\n",
       "0  BR1_2607889462  32.950000              False                        266   \n",
       "1  BR1_2607868377  17.466667              False                         84   \n",
       "2  BR1_2607843393  16.750000              False                        164   \n",
       "3  BR1_2607796695  29.033333               True                        164   \n",
       "4  BR1_2607756218  26.400000               True                        157   \n",
       "\n",
       "  champion_Top_blue_side  kill_Top_blue_side  death_Top_blue_side  \\\n",
       "0                 Aatrox                   0                    1   \n",
       "1                  Akali                   6                    3   \n",
       "2                Camille                   2                    4   \n",
       "3                Camille                   6                    4   \n",
       "4                  Yasuo                   7                    0   \n",
       "\n",
       "   assist_Top_blue_side  damage_per_minute_Top_blue_side  \\\n",
       "0                     6                       440.169051   \n",
       "1                     0                       640.653606   \n",
       "2                     4                       452.764237   \n",
       "3                     3                       688.090085   \n",
       "4                    10                       601.782848   \n",
       "\n",
       "   gold_per_minute_Top_blue_side  ...  gold_per_minute_Adc_red_side  \\\n",
       "0                     390.094271  ...                    424.966404   \n",
       "1                     437.823471  ...                    612.495282   \n",
       "2                     375.834466  ...                    623.614783   \n",
       "3                     408.784779  ...                    463.537844   \n",
       "4                     549.118970  ...                    331.528842   \n",
       "\n",
       "   vision_per_minute_Adc_red_side champion_id_Sup_red_side  \\\n",
       "0                        1.226336                    104.0   \n",
       "1                        0.466930                    412.0   \n",
       "2                        0.413094                     25.0   \n",
       "3                        0.627343                    497.0   \n",
       "4                        0.905511                     24.0   \n",
       "\n",
       "   champion_Sup_red_side  kill_Sup_red_side  death_Sup_red_side  \\\n",
       "0                 Graves                2.0                 5.0   \n",
       "1                 Thresh                1.0                 1.0   \n",
       "2                Morgana                2.0                 1.0   \n",
       "3                  Rakan                2.0                 5.0   \n",
       "4                    Jax                2.0                 4.0   \n",
       "\n",
       "   assist_Sup_red_side  damage_per_minute_Sup_red_side  \\\n",
       "0                  2.0                      454.543289   \n",
       "1                 13.0                      232.126795   \n",
       "2                 19.0                      297.290379   \n",
       "3                  7.0                      183.642915   \n",
       "4                  0.0                      385.149768   \n",
       "\n",
       "   gold_per_minute_Sup_red_side  vision_per_minute_Sup_red_side  \n",
       "0                    375.587076                        3.715915  \n",
       "1                    306.794212                        1.136832  \n",
       "2                    373.592809                        1.283953  \n",
       "3                    247.911209                        2.497650  \n",
       "4                    342.278600                        1.018867  \n",
       "\n",
       "[5 rows x 83 columns]"
      ]
     },
     "execution_count": 7,
     "metadata": {},
     "output_type": "execute_result"
    }
   ],
   "source": [
    "base.head()"
   ]
  },
  {
   "cell_type": "markdown",
   "id": "d816fc14",
   "metadata": {},
   "source": [
    "## 2.3 Estrutura dos dados"
   ]
  },
  {
   "cell_type": "code",
   "execution_count": 8,
   "id": "6ccc77f0",
   "metadata": {},
   "outputs": [],
   "source": [
    "# como existem alguns dados nulos vamos remove-los para evitar ruidos já que são poucos. Isso não irá afetar nosso modelo final \n",
    "base.dropna(inplace=True)"
   ]
  },
  {
   "cell_type": "code",
   "execution_count": 9,
   "id": "7c35ccdb",
   "metadata": {
    "collapsed": true,
    "jupyter": {
     "outputs_hidden": true
    }
   },
   "outputs": [
    {
     "name": "stdout",
     "output_type": "stream",
     "text": [
      "<class 'pandas.core.frame.DataFrame'>\n",
      "Int64Index: 35309 entries, 0 to 35324\n",
      "Data columns (total 83 columns):\n",
      " #   Column                              Non-Null Count  Dtype  \n",
      "---  ------                              --------------  -----  \n",
      " 0   Partida                             35309 non-null  object \n",
      " 1   Tempo                               35309 non-null  float64\n",
      " 2   Blue Team Victory                   35309 non-null  bool   \n",
      " 3   champion_id_Top_blue_side           35309 non-null  int64  \n",
      " 4   champion_Top_blue_side              35309 non-null  object \n",
      " 5   kill_Top_blue_side                  35309 non-null  int64  \n",
      " 6   death_Top_blue_side                 35309 non-null  int64  \n",
      " 7   assist_Top_blue_side                35309 non-null  int64  \n",
      " 8   damage_per_minute_Top_blue_side     35309 non-null  float64\n",
      " 9   gold_per_minute_Top_blue_side       35309 non-null  float64\n",
      " 10  vision_per_minute_Top_blue_side     35309 non-null  float64\n",
      " 11  champion_id_Jungle_blue_side        35309 non-null  float64\n",
      " 12  champion_Jungle_blue_side           35309 non-null  object \n",
      " 13  kill_Jungle_blue_side               35309 non-null  float64\n",
      " 14  death_Jungle_blue_side              35309 non-null  float64\n",
      " 15  assist_Jungle_blue_side             35309 non-null  float64\n",
      " 16  damage_per_minute_Jungle_blue_side  35309 non-null  float64\n",
      " 17  gold_per_minute_Jungle_blue_side    35309 non-null  float64\n",
      " 18  vision_per_minute_Jungle_blue_side  35309 non-null  float64\n",
      " 19  champion_id_Mid_blue_side           35309 non-null  float64\n",
      " 20  champion_Mid_blue_side              35309 non-null  object \n",
      " 21  kill_Mid_blue_side                  35309 non-null  float64\n",
      " 22  death_Mid_blue_side                 35309 non-null  float64\n",
      " 23  assist_Mid_blue_side                35309 non-null  float64\n",
      " 24  damage_per_minute_Mid_blue_side     35309 non-null  float64\n",
      " 25  gold_per_minute_Mid_blue_side       35309 non-null  float64\n",
      " 26  vision_per_minute_Mid_blue_side     35309 non-null  float64\n",
      " 27  champion_id_Adc_blue_side           35309 non-null  float64\n",
      " 28  champion_Adc_blue_side              35309 non-null  object \n",
      " 29  kill_Adc_blue_side                  35309 non-null  float64\n",
      " 30  death_Adc_blue_side                 35309 non-null  float64\n",
      " 31  assist_Adc_blue_side                35309 non-null  float64\n",
      " 32  damage_per_minute_Adc_blue_side     35309 non-null  float64\n",
      " 33  gold_per_minute_Adc_blue_side       35309 non-null  float64\n",
      " 34  vision_per_minute_Adc_blue_side     35309 non-null  float64\n",
      " 35  champion_id_Sup_blue_side           35309 non-null  float64\n",
      " 36  champion_Sup_blue_side              35309 non-null  object \n",
      " 37  kill_Sup_blue_side                  35309 non-null  float64\n",
      " 38  death_Sup_blue_side                 35309 non-null  float64\n",
      " 39  assist_Sup_blue_side                35309 non-null  float64\n",
      " 40  damage_per_minute_Sup_blue_side     35309 non-null  float64\n",
      " 41  gold_per_minute_Sup_blue_side       35309 non-null  float64\n",
      " 42  vision_per_minute_Sup_blue_side     35309 non-null  float64\n",
      " 43  champion_id_Top_red_side            35309 non-null  float64\n",
      " 44  champion_Top_red_side               35309 non-null  object \n",
      " 45  kill_Top_red_side                   35309 non-null  float64\n",
      " 46  death_Top_red_side                  35309 non-null  float64\n",
      " 47  assist_Top_red_side                 35309 non-null  float64\n",
      " 48  damage_per_minute_Top_red_side      35309 non-null  float64\n",
      " 49  gold_per_minute_Top_red_side        35309 non-null  float64\n",
      " 50  vision_per_minute_Top_red_side      35309 non-null  float64\n",
      " 51  champion_id_Jungle_red_side         35309 non-null  int64  \n",
      " 52  champion_Jungle_red_side            35309 non-null  object \n",
      " 53  kill_Jungle_red_side                35309 non-null  int64  \n",
      " 54  death_Jungle_red_side               35309 non-null  int64  \n",
      " 55  assist_Jungle_red_side              35309 non-null  int64  \n",
      " 56  damage_per_minute_Jungle_red_side   35309 non-null  float64\n",
      " 57  gold_per_minute_Jungle_red_side     35309 non-null  float64\n",
      " 58  vision_per_minute_Jungle_red_side   35309 non-null  float64\n",
      " 59  champion_id_Mid_red_side            35309 non-null  float64\n",
      " 60  champion_Mid_red_side               35309 non-null  object \n",
      " 61  kill_Mid_red_side                   35309 non-null  float64\n",
      " 62  death_Mid_red_side                  35309 non-null  float64\n",
      " 63  assist_Mid_red_side                 35309 non-null  float64\n",
      " 64  damage_per_minute_Mid_red_side      35309 non-null  float64\n",
      " 65  gold_per_minute_Mid_red_side        35309 non-null  float64\n",
      " 66  vision_per_minute_Mid_red_side      35309 non-null  float64\n",
      " 67  champion_id_Adc_red_side            35309 non-null  float64\n",
      " 68  champion_Adc_red_side               35309 non-null  object \n",
      " 69  kill_Adc_red_side                   35309 non-null  float64\n",
      " 70  death_Adc_red_side                  35309 non-null  float64\n",
      " 71  assist_Adc_red_side                 35309 non-null  float64\n",
      " 72  damage_per_minute_Adc_red_side      35309 non-null  float64\n",
      " 73  gold_per_minute_Adc_red_side        35309 non-null  float64\n",
      " 74  vision_per_minute_Adc_red_side      35309 non-null  float64\n",
      " 75  champion_id_Sup_red_side            35309 non-null  float64\n",
      " 76  champion_Sup_red_side               35309 non-null  object \n",
      " 77  kill_Sup_red_side                   35309 non-null  float64\n",
      " 78  death_Sup_red_side                  35309 non-null  float64\n",
      " 79  assist_Sup_red_side                 35309 non-null  float64\n",
      " 80  damage_per_minute_Sup_red_side      35309 non-null  float64\n",
      " 81  gold_per_minute_Sup_red_side        35309 non-null  float64\n",
      " 82  vision_per_minute_Sup_red_side      35309 non-null  float64\n",
      "dtypes: bool(1), float64(63), int64(8), object(11)\n",
      "memory usage: 22.4+ MB\n"
     ]
    }
   ],
   "source": [
    "base.info()"
   ]
  },
  {
   "cell_type": "markdown",
   "id": "4184fe07",
   "metadata": {},
   "source": [
    "Apesar da grande qauntidade de features, podemos resumir as 83 colunas em 11 tipos:\n",
    "\n",
    "- Partida : Código da partida, irrelevante para análise e será retirado na hora da análise\n",
    "\n",
    "- Tempo : Duração da partida                         \n",
    "\n",
    "- Blue Team Victory : Indica a vitória ou derrota do time do lado azul\n",
    "\n",
    "- champion_id_{**Posição**}_{**Time**}_side : Código do campeão escolhido pelo time na posição\n",
    "\n",
    "- champion_{**Posição**}_{**Time**}_side: Nome do campeão escolhido pelo time na posição\n",
    "\n",
    "- kill_{**Posição**}_{**Time**}_side: Abates do campeão escolhido pelo time na posição\n",
    "\n",
    "- death_{**Posição**}_{**Time**}_side: Mortes do campeão escolhido pelo time na posição\n",
    "\n",
    "- assist_{**Posição**}_{**Time**}_side: Assistências do campeão escolhido pelo time na posição\n",
    "\n",
    "- damage_per_minute_{**Posição**}_{**Time**}_side: Dano por minuto do campeão escolhido pelo time na posição\n",
    "\n",
    "- gold_per_minute_{**Posição**}_{**Time**}_side: Ouro ganho por minuto do campeão escolhido pelo time na posição\n",
    "\n",
    "- vision_per_minute_{**Posição**}_{**Time**}_side: Ouro ganho por minuto do campeão escolhido pelo time na posição\n"
   ]
  },
  {
   "cell_type": "markdown",
   "id": "859d06cd",
   "metadata": {},
   "source": [
    "## 2.4 Pré vizualização"
   ]
  },
  {
   "cell_type": "code",
   "execution_count": 15,
   "id": "7e335dcb",
   "metadata": {},
   "outputs": [],
   "source": [
    "posicao = [ \"Top\", \"Jungle\", \"Mid\", \"Adc\", \"Sup\"]\n",
    "times = [\"red\", 'blue']"
   ]
  },
  {
   "cell_type": "code",
   "execution_count": 4,
   "id": "675eab56",
   "metadata": {},
   "outputs": [],
   "source": [
    "def display_analise(posicao, time):\n",
    "    colunas = [ f'kill_{posicao}_{time}_side',\n",
    "                f'death_{posicao}_{time}_side',\n",
    "                f'assist_{posicao}_{time}_side',\n",
    "                f'damage_per_minute_{posicao}_{time}_side',\n",
    "                f'gold_per_minute_{posicao}_{time}_side',\n",
    "                f'vision_per_minute_{posicao}_{time}_side']\n",
    "    base_aux = base[colunas]\n",
    "    base_aux.hist(bins=50, figsize=(20,15),color = time)\n",
    "    display()"
   ]
  },
  {
   "cell_type": "code",
   "execution_count": null,
   "id": "2d00bcea",
   "metadata": {},
   "outputs": [],
   "source": [
    "for posi in posicao:\n",
    "    for team in times:\n",
    "        display_analise(posi, team)"
   ]
  },
  {
   "cell_type": "markdown",
   "id": "6cd87f5f",
   "metadata": {},
   "source": [
    "## 2.5 Treino e teste"
   ]
  },
  {
   "cell_type": "markdown",
   "id": "eddcc2b6",
   "metadata": {},
   "source": [
    "Checando por dados duplicados"
   ]
  },
  {
   "cell_type": "code",
   "execution_count": 13,
   "id": "0588fd5d",
   "metadata": {},
   "outputs": [
    {
     "data": {
      "text/plain": [
       "True"
      ]
     },
     "execution_count": 13,
     "metadata": {},
     "output_type": "execute_result"
    }
   ],
   "source": [
    "base.duplicated().any()"
   ]
  },
  {
   "cell_type": "code",
   "execution_count": 14,
   "id": "0efb2932",
   "metadata": {},
   "outputs": [
    {
     "data": {
      "text/plain": [
       "27477"
      ]
     },
     "execution_count": 14,
     "metadata": {},
     "output_type": "execute_result"
    }
   ],
   "source": [
    "len(base[\"Partida\"].unique())"
   ]
  },
  {
   "cell_type": "code",
   "execution_count": 15,
   "id": "2381b52e",
   "metadata": {},
   "outputs": [],
   "source": [
    "base = base.drop_duplicates()"
   ]
  },
  {
   "cell_type": "code",
   "execution_count": 16,
   "id": "8d5b02cb",
   "metadata": {},
   "outputs": [
    {
     "data": {
      "text/plain": [
       "False"
      ]
     },
     "execution_count": 16,
     "metadata": {},
     "output_type": "execute_result"
    }
   ],
   "source": [
    "base.duplicated().any()"
   ]
  },
  {
   "cell_type": "markdown",
   "id": "bafe733d",
   "metadata": {},
   "source": [
    "Ao analisar os dados podemos ver que a feature de visão por minuto apresenta um comportamento estranho próximo ao 0, por enquanto amnteremos esse dado assim, caso necessário após alguns testes podemos fazer algo a respeito disso."
   ]
  },
  {
   "cell_type": "markdown",
   "id": "50afc68e",
   "metadata": {},
   "source": [
    "**Amostras**"
   ]
  },
  {
   "cell_type": "code",
   "execution_count": 17,
   "id": "c376ebb5",
   "metadata": {},
   "outputs": [],
   "source": [
    "#Vamos remover a coluna que indica a partida\n",
    "base.drop(\"Partida\", axis = 1 , inplace = True)"
   ]
  },
  {
   "cell_type": "code",
   "execution_count": 18,
   "id": "25dcc5ba",
   "metadata": {},
   "outputs": [],
   "source": [
    "base.reset_index(inplace= True, drop = True)"
   ]
  },
  {
   "cell_type": "code",
   "execution_count": 19,
   "id": "3145486f",
   "metadata": {},
   "outputs": [],
   "source": [
    "base[\"Blue Team Victory\"] = base[\"Blue Team Victory\"].astype(int)"
   ]
  },
  {
   "cell_type": "code",
   "execution_count": 20,
   "id": "3466ca3f",
   "metadata": {},
   "outputs": [],
   "source": [
    "#Removendo os códigos dos campeões\n",
    "for posi in posicao:\n",
    "    for team in times:\n",
    "        base.drop(f\"champion_id_{posi}_{team}_side\", axis = 1 , inplace = True)"
   ]
  },
  {
   "cell_type": "code",
   "execution_count": 21,
   "id": "e7655ca6",
   "metadata": {},
   "outputs": [],
   "source": [
    "from sklearn.model_selection import train_test_split\n",
    "\n",
    "base_train, base_test = train_test_split(base, test_size=0.2, stratify=base['Blue Team Victory'], random_state=42)"
   ]
  },
  {
   "cell_type": "code",
   "execution_count": 22,
   "id": "a6ccc1e8",
   "metadata": {},
   "outputs": [
    {
     "data": {
      "text/plain": [
       "(5496, 72)"
      ]
     },
     "execution_count": 22,
     "metadata": {},
     "output_type": "execute_result"
    }
   ],
   "source": [
    "\n",
    "base_test.shape"
   ]
  },
  {
   "cell_type": "code",
   "execution_count": 23,
   "id": "ff4c2096",
   "metadata": {},
   "outputs": [
    {
     "data": {
      "text/plain": [
       "(21981, 72)"
      ]
     },
     "execution_count": 23,
     "metadata": {},
     "output_type": "execute_result"
    }
   ],
   "source": [
    "base_train.shape"
   ]
  },
  {
   "cell_type": "markdown",
   "id": "83c2729c",
   "metadata": {},
   "source": [
    "**Salvando as bases de treino e teste**"
   ]
  },
  {
   "cell_type": "code",
   "execution_count": 24,
   "id": "53304854",
   "metadata": {},
   "outputs": [],
   "source": [
    "base_train.to_excel('s3://{}/{}'.format(bucket, \"treino.xlsx\"), index = False)"
   ]
  },
  {
   "cell_type": "code",
   "execution_count": 25,
   "id": "b84676d6",
   "metadata": {},
   "outputs": [],
   "source": [
    "base_test.to_excel('s3://{}/{}'.format(bucket, \"teste.xlsx\"), index = False)"
   ]
  },
  {
   "cell_type": "code",
   "execution_count": 5,
   "id": "50a680a0",
   "metadata": {},
   "outputs": [],
   "source": [
    "base_train = pd.read_excel('s3://{}/{}'.format(bucket, \"treino.xlsx\"))\n",
    "base_test = pd.read_excel('s3://{}/{}'.format(bucket, \"teste.xlsx\"))"
   ]
  },
  {
   "cell_type": "markdown",
   "id": "0a4731f7",
   "metadata": {},
   "source": [
    "# 4. Explorando os dados"
   ]
  },
  {
   "cell_type": "markdown",
   "id": "d3b18102",
   "metadata": {},
   "source": [
    "Correlação"
   ]
  },
  {
   "cell_type": "code",
   "execution_count": 6,
   "id": "1e3faa70",
   "metadata": {},
   "outputs": [],
   "source": [
    "import matplotlib.pyplot as plt\n",
    "import seaborn as sns\n",
    "import numpy as np"
   ]
  },
  {
   "cell_type": "code",
   "execution_count": 27,
   "id": "ef0f51d4",
   "metadata": {},
   "outputs": [
    {
     "data": {
      "text/plain": [
       "Blue Team Victory                   1.000000\n",
       "death_Jungle_red_side               0.401020\n",
       "assist_Sup_blue_side                0.391659\n",
       "gold_per_minute_Jungle_blue_side    0.371917\n",
       "death_Adc_red_side                  0.356042\n",
       "                                      ...   \n",
       "death_Mid_blue_side                -0.335401\n",
       "death_Sup_blue_side                -0.340332\n",
       "death_Adc_blue_side                -0.353507\n",
       "assist_Sup_red_side                -0.385561\n",
       "death_Jungle_blue_side             -0.398823\n",
       "Name: Blue Team Victory, Length: 62, dtype: float64"
      ]
     },
     "execution_count": 27,
     "metadata": {},
     "output_type": "execute_result"
    }
   ],
   "source": [
    "base_train.corr()[\"Blue Team Victory\"].sort_values(ascending=False)"
   ]
  },
  {
   "cell_type": "markdown",
   "id": "20f5c2b6",
   "metadata": {},
   "source": [
    "# 5. Preparando os dados"
   ]
  },
  {
   "cell_type": "markdown",
   "id": "e3dcf967",
   "metadata": {},
   "source": [
    "## 5.1 Separando o target do resto"
   ]
  },
  {
   "cell_type": "code",
   "execution_count": 7,
   "id": "9516c489",
   "metadata": {},
   "outputs": [],
   "source": [
    "# separando o target do resto\n",
    "base_train_pre = base_train.drop(columns=['Blue Team Victory'])\n",
    "base_train_target = base_train['Blue Team Victory'].copy()"
   ]
  },
  {
   "cell_type": "markdown",
   "id": "90520dae",
   "metadata": {},
   "source": [
    "## 5.2 Separando Variáveis categóricas do resto"
   ]
  },
  {
   "cell_type": "code",
   "execution_count": 10,
   "id": "4edde3e9",
   "metadata": {},
   "outputs": [],
   "source": [
    "# categorical\n",
    "categorical = []\n",
    "for posi in posicao:\n",
    "    for team in times:\n",
    "        categorical.append(f\"champion_{posi}_{team}_side\")\n",
    "\n",
    "\n",
    "# numerical atributes\n",
    "num_attributes = base_train_pre.columns.drop(categorical)\n",
    "#num_attributes = base_train_pre.columns.drop(\"Tempo\")\n",
    "\n",
    "# separating the features\n",
    "base_train_pre_num = base_train_pre[num_attributes]\n",
    "base_train_pre_cat = base_train_pre[categorical]"
   ]
  },
  {
   "cell_type": "markdown",
   "id": "5a1ccc57",
   "metadata": {},
   "source": [
    "## 5.3 Pipeline"
   ]
  },
  {
   "cell_type": "code",
   "execution_count": 11,
   "id": "23dc73cd",
   "metadata": {},
   "outputs": [],
   "source": [
    "from sklearn.impute import SimpleImputer\n",
    "from sklearn.preprocessing import RobustScaler\n",
    "from sklearn.preprocessing import OneHotEncoder\n",
    "\n",
    "from sklearn.pipeline import Pipeline\n",
    "from sklearn.compose import ColumnTransformer\n",
    "\n",
    "num_pipeline = Pipeline([\n",
    "    ('imputer', SimpleImputer(strategy='median')),\n",
    "    ('robust_scaler', RobustScaler())\n",
    "])\n",
    "\n",
    "\n",
    "cat_pipeline = Pipeline([\n",
    "    ('imputer', SimpleImputer(strategy='most_frequent')),  # as the categories are numbers, we can use the SimpleImputer\n",
    "    ('one-hot-encoding', OneHotEncoder(handle_unknown='ignore'))\n",
    "])\n",
    "\n",
    "\n",
    "# (name, transformer, columns)\n",
    "preprocessed_pipeline = ColumnTransformer([\n",
    "    ('numerical', num_pipeline, num_attributes),\n",
    "    ('categorical', cat_pipeline, categorical)\n",
    "])"
   ]
  },
  {
   "cell_type": "markdown",
   "id": "5177a5b1",
   "metadata": {},
   "source": [
    "# 6. Seleção de modelos inicial"
   ]
  },
  {
   "cell_type": "code",
   "execution_count": 12,
   "id": "2682eef0",
   "metadata": {},
   "outputs": [
    {
     "data": {
      "text/plain": [
       "(21981, 1680)"
      ]
     },
     "execution_count": 12,
     "metadata": {},
     "output_type": "execute_result"
    }
   ],
   "source": [
    "X_train = preprocessed_pipeline.fit_transform(base_train_pre)\n",
    "X_train.shape"
   ]
  },
  {
   "cell_type": "code",
   "execution_count": 13,
   "id": "c8948175",
   "metadata": {},
   "outputs": [],
   "source": [
    "y_train = base_train_target"
   ]
  },
  {
   "cell_type": "code",
   "execution_count": 8,
   "id": "8d4a67c3",
   "metadata": {},
   "outputs": [],
   "source": [
    "# printing function\n",
    "import statistics\n",
    "def display_scores(scores):\n",
    "    print(\"Scores:\", scores)\n",
    "    try:\n",
    "        print(\"\\nMean:\", scores.mean())\n",
    "        print(\"Standard deviation:\", scores.std())\n",
    "    except:\n",
    "        print(\"\\nMean:\", statistics.mean(scores))\n",
    "        print(\"Standard deviation:\", statistics.stdev(scores))"
   ]
  },
  {
   "cell_type": "markdown",
   "id": "f750cb4e",
   "metadata": {},
   "source": [
    "## 6.1 Modelos classificadores"
   ]
  },
  {
   "cell_type": "code",
   "execution_count": 6,
   "id": "2f781c18",
   "metadata": {},
   "outputs": [],
   "source": [
    "import warnings\n",
    "warnings.filterwarnings(\"ignore\")"
   ]
  },
  {
   "cell_type": "code",
   "execution_count": 7,
   "id": "fc1fe3d3",
   "metadata": {},
   "outputs": [],
   "source": [
    "from sklearn.model_selection import cross_val_score , cross_val_predict\n",
    "from sklearn.neighbors import KNeighborsClassifier\n",
    "from sklearn.svm import SVC, LinearSVC, NuSVC\n",
    "from sklearn.tree import DecisionTreeClassifier\n",
    "from sklearn.ensemble import RandomForestClassifier, AdaBoostClassifier, GradientBoostingClassifier"
   ]
  },
  {
   "cell_type": "markdown",
   "id": "c43722b2",
   "metadata": {},
   "source": [
    "### 6.1.1 KNN"
   ]
  },
  {
   "cell_type": "code",
   "execution_count": 30,
   "id": "dbbf955f",
   "metadata": {},
   "outputs": [
    {
     "name": "stdout",
     "output_type": "stream",
     "text": [
      "Scores: [0.92769953 0.93040991 0.92850511 0.93432007 0.91856061 0.92565056\n",
      " 0.92336802 0.92307692 0.93080569 0.91825095 0.91115312 0.91346154\n",
      " 0.93142857 0.93457944 0.92775665 0.9273743  0.92205323 0.91753555\n",
      " 0.93506494 0.92509363]\n",
      "\n",
      "Mean: 0.9253074170816186\n",
      "Standard deviation: 0.006701620729891724\n"
     ]
    }
   ],
   "source": [
    "knn = KNeighborsClassifier()  # C=1.0, loss='squared hinge'\n",
    "knn_accs = cross_val_score(knn, X_train, y_train, scoring=\"f1\", cv=20)\n",
    "\n",
    "display_scores(knn_accs)"
   ]
  },
  {
   "cell_type": "markdown",
   "id": "3ff607d1",
   "metadata": {},
   "source": [
    "### 6.1.2 SVC"
   ]
  },
  {
   "cell_type": "code",
   "execution_count": 29,
   "id": "519aecbc",
   "metadata": {},
   "outputs": [
    {
     "name": "stdout",
     "output_type": "stream",
     "text": [
      "Scores: [0.96545285 0.97282099 0.97191011 0.97378277 0.96707432 0.97089202\n",
      " 0.96986817 0.96635514 0.97744361 0.95692884 0.96545285 0.95798319\n",
      " 0.95970009 0.96525822 0.97276995 0.96089385 0.96525822 0.96310312\n",
      " 0.96913003 0.96157451]\n",
      "\n",
      "Mean: 0.9666826427954474\n",
      "Standard deviation: 0.0054838860441932735\n"
     ]
    }
   ],
   "source": [
    "svc = SVC()  # C=1.0, loss='squared hinge'\n",
    "svc_accs = cross_val_score(svc, X_train, y_train, scoring=\"f1\", cv=20)\n",
    "\n",
    "display_scores(svc_accs)"
   ]
  },
  {
   "cell_type": "markdown",
   "id": "1343ba6f",
   "metadata": {},
   "source": [
    "### 6.1.3 LinearSVC"
   ]
  },
  {
   "cell_type": "code",
   "execution_count": 31,
   "id": "67486f4f",
   "metadata": {},
   "outputs": [
    {
     "name": "stdout",
     "output_type": "stream",
     "text": [
      "Scores: [0.96499527 0.97191011 0.96512724 0.96713615 0.97940075 0.96261682\n",
      " 0.96506138 0.9587242  0.9587242  0.9587242  0.96338028 0.95112782\n",
      " 0.96219282 0.96992481 0.96499527 0.95042095 0.94835681 0.96387833\n",
      " 0.96338028 0.95700935]\n",
      "\n",
      "Mean: 0.9623543522201373\n",
      "Standard deviation: 0.007169495490405395\n"
     ]
    }
   ],
   "source": [
    "model = LinearSVC()  # C=1.0, loss='squared hinge'\n",
    "model_accs = cross_val_score(model, X_train, y_train, scoring=\"f1\", cv=20)\n",
    "\n",
    "display_scores(model_accs)"
   ]
  },
  {
   "cell_type": "markdown",
   "id": "c90394e8",
   "metadata": {},
   "source": [
    "### 6.1.4 NuSVC"
   ]
  },
  {
   "cell_type": "code",
   "execution_count": 32,
   "id": "57caafb4",
   "metadata": {},
   "outputs": [
    {
     "name": "stdout",
     "output_type": "stream",
     "text": [
      "Scores: [0.94336119 0.94418165 0.93930906 0.94444444 0.9382716  0.94150418\n",
      " 0.94207028 0.942723   0.94528302 0.93521127 0.94018692 0.92048644\n",
      " 0.94062205 0.95291902 0.94657919 0.94357077 0.94050992 0.94486692\n",
      " 0.93996248 0.93984962]\n",
      "\n",
      "Mean: 0.9412956505306387\n",
      "Standard deviation: 0.005963817023057425\n"
     ]
    }
   ],
   "source": [
    "model = NuSVC()  \n",
    "model_accs = cross_val_score(model, X_train, y_train, scoring=\"f1\", cv=20)\n",
    "\n",
    "display_scores(model_accs)"
   ]
  },
  {
   "cell_type": "markdown",
   "id": "bd86b667",
   "metadata": {},
   "source": [
    "### 6.1.5 DecisionTreeClassifier"
   ]
  },
  {
   "cell_type": "code",
   "execution_count": 33,
   "id": "c3cd4b00",
   "metadata": {},
   "outputs": [
    {
     "name": "stdout",
     "output_type": "stream",
     "text": [
      "Scores: [0.87028519 0.87164751 0.8531856  0.86245353 0.86592179 0.87453184\n",
      " 0.86171214 0.88059701 0.85956645 0.8547486  0.85983067 0.84030418\n",
      " 0.86544046 0.86931818 0.87255814 0.85793872 0.85714286 0.85416667\n",
      " 0.86915888 0.86792453]\n",
      "\n",
      "Mean: 0.863421646723641\n",
      "Standard deviation: 0.008989267541452144\n"
     ]
    }
   ],
   "source": [
    "model = DecisionTreeClassifier()  \n",
    "model_accs = cross_val_score(model, X_train, y_train, scoring=\"f1\", cv=20)\n",
    "\n",
    "display_scores(model_accs)"
   ]
  },
  {
   "cell_type": "markdown",
   "id": "0f69169e",
   "metadata": {},
   "source": [
    "### 6.1.6 RandomForestClassifier"
   ]
  },
  {
   "cell_type": "code",
   "execution_count": 34,
   "id": "bd332834",
   "metadata": {},
   "outputs": [
    {
     "name": "stdout",
     "output_type": "stream",
     "text": [
      "Scores: [0.95416277 0.94646272 0.93533271 0.94413408 0.94817658 0.94428706\n",
      " 0.93333333 0.9388523  0.93726236 0.93472091 0.94106464 0.93132643\n",
      " 0.93950851 0.95184136 0.9535545  0.9354537  0.94117647 0.94207028\n",
      " 0.95265152 0.94128788]\n",
      "\n",
      "Mean: 0.942333004923038\n",
      "Standard deviation: 0.006809309184349222\n"
     ]
    }
   ],
   "source": [
    "model = RandomForestClassifier()  \n",
    "model_accs = cross_val_score(model, X_train, y_train, scoring=\"f1\", cv=20)\n",
    "\n",
    "display_scores(model_accs)"
   ]
  },
  {
   "cell_type": "markdown",
   "id": "bb45608c",
   "metadata": {},
   "source": [
    "### 6.1.7 AdaBoostClassifier"
   ]
  },
  {
   "cell_type": "code",
   "execution_count": 35,
   "id": "ed740505",
   "metadata": {},
   "outputs": [
    {
     "name": "stdout",
     "output_type": "stream",
     "text": [
      "Scores: [0.94007491 0.95103578 0.93560606 0.93196645 0.94423792 0.93445693\n",
      " 0.93207547 0.93395349 0.92843691 0.93370682 0.93472091 0.92987512\n",
      " 0.93862134 0.943074   0.93791786 0.93933824 0.92883895 0.9370229\n",
      " 0.93408663 0.94052045]\n",
      "\n",
      "Mean: 0.936478356420435\n",
      "Standard deviation: 0.005450361761507367\n"
     ]
    }
   ],
   "source": [
    "model = AdaBoostClassifier()  \n",
    "model_accs = cross_val_score(model, X_train, y_train, scoring=\"f1\", cv=20)\n",
    "\n",
    "display_scores(model_accs)"
   ]
  },
  {
   "cell_type": "markdown",
   "id": "56368c36",
   "metadata": {},
   "source": [
    "### 6.1.8 GradientBoostingClassifier"
   ]
  },
  {
   "cell_type": "code",
   "execution_count": 36,
   "id": "062f4ac7",
   "metadata": {},
   "outputs": [
    {
     "name": "stdout",
     "output_type": "stream",
     "text": [
      "Scores: [0.95586854 0.96506138 0.94924812 0.95813953 0.94706994 0.96344892\n",
      " 0.94706994 0.95708955 0.9472693  0.94953271 0.95931883 0.9462771\n",
      " 0.94995279 0.95463138 0.94995279 0.95255814 0.94806421 0.95364238\n",
      " 0.96233522 0.94360902]\n",
      "\n",
      "Mean: 0.9530069901224051\n",
      "Standard deviation: 0.006090806382000204\n"
     ]
    }
   ],
   "source": [
    "model = GradientBoostingClassifier()  \n",
    "model_accs = cross_val_score(model, X_train, y_train, scoring=\"f1\", cv=20)\n",
    "\n",
    "display_scores(model_accs)"
   ]
  },
  {
   "cell_type": "markdown",
   "id": "90356303",
   "metadata": {},
   "source": [
    "## 6.2 Regressores"
   ]
  },
  {
   "cell_type": "code",
   "execution_count": 67,
   "id": "0f11b914",
   "metadata": {},
   "outputs": [
    {
     "name": "stdout",
     "output_type": "stream",
     "text": [
      "Looking in indexes: https://pypi.org/simple, https://pip.repos.neuron.amazonaws.com\n",
      "Collecting lightgbm\n",
      "  Downloading lightgbm-3.3.3-py3-none-manylinux1_x86_64.whl (2.0 MB)\n",
      "\u001b[2K     \u001b[90m━━━━━━━━━━━━━━━━━━━━━━━━━━━━━━━━━━━━━━━━\u001b[0m \u001b[32m2.0/2.0 MB\u001b[0m \u001b[31m22.1 MB/s\u001b[0m eta \u001b[36m0:00:00\u001b[0m:00:01\u001b[0m\n",
      "\u001b[?25hRequirement already satisfied: scipy in /home/ec2-user/anaconda3/envs/python3/lib/python3.8/site-packages (from lightgbm) (1.5.3)\n",
      "Requirement already satisfied: wheel in /home/ec2-user/anaconda3/envs/python3/lib/python3.8/site-packages (from lightgbm) (0.37.0)\n",
      "Requirement already satisfied: numpy in /home/ec2-user/anaconda3/envs/python3/lib/python3.8/site-packages (from lightgbm) (1.20.3)\n",
      "Requirement already satisfied: scikit-learn!=0.22.0 in /home/ec2-user/anaconda3/envs/python3/lib/python3.8/site-packages (from lightgbm) (1.0.1)\n",
      "Requirement already satisfied: joblib>=0.11 in /home/ec2-user/anaconda3/envs/python3/lib/python3.8/site-packages (from scikit-learn!=0.22.0->lightgbm) (1.1.0)\n",
      "Requirement already satisfied: threadpoolctl>=2.0.0 in /home/ec2-user/anaconda3/envs/python3/lib/python3.8/site-packages (from scikit-learn!=0.22.0->lightgbm) (3.0.0)\n",
      "Installing collected packages: lightgbm\n",
      "Successfully installed lightgbm-3.3.3\n",
      "\u001b[33mWARNING: You are using pip version 22.0.4; however, version 22.3.1 is available.\n",
      "You should consider upgrading via the '/home/ec2-user/anaconda3/envs/python3/bin/python -m pip install --upgrade pip' command.\u001b[0m\u001b[33m\n",
      "\u001b[0mNote: you may need to restart the kernel to use updated packages.\n"
     ]
    }
   ],
   "source": [
    "pip install  lightgbm"
   ]
  },
  {
   "cell_type": "code",
   "execution_count": 68,
   "id": "b5881343",
   "metadata": {},
   "outputs": [],
   "source": [
    "from sklearn.linear_model import LogisticRegression\n",
    "from sklearn.tree import DecisionTreeRegressor\n",
    "from sklearn.linear_model import LinearRegression\n",
    "from sklearn.preprocessing import PolynomialFeatures\n",
    "from sklearn.ensemble import AdaBoostRegressor\n",
    "from sklearn.ensemble import GradientBoostingRegressor\n",
    "from sklearn.ensemble import RandomForestRegressor\n",
    "#from xgboost.sklearn import XGBRegressor\n",
    "from lightgbm import LGBMRegressor\n",
    "from sklearn.linear_model import BayesianRidge\n",
    "from sklearn.metrics import f1_score\n",
    "from sklearn.model_selection import KFold"
   ]
  },
  {
   "cell_type": "code",
   "execution_count": 64,
   "id": "66aa8d00",
   "metadata": {},
   "outputs": [],
   "source": [
    "def arredonda(num):\n",
    "    if num > 0.51:\n",
    "        return 1\n",
    "    else:\n",
    "        return 0\n",
    "    \n",
    "def treino_modelos(clf):\n",
    "    y_train_teste = y_train.values\n",
    "    X_train_teste = X_train.toarray()\n",
    "    cv = KFold(n_splits=20 ,shuffle = True)\n",
    "    \n",
    "    lst_f1 = []\n",
    "    i=1\n",
    "    for train_index, test_index in cv.split(X_train_teste,y_train_teste):\n",
    "        print(i)\n",
    "        x_train_fold, x_test_fold = X_train_teste[train_index], X_train_teste[test_index]\n",
    "        y_train_fold, y_test_fold = y_train_teste[train_index], y_train_teste[test_index]\n",
    "        #print( len(train_index ),len(test_index),len(x_train_fold ),len(x_test_fold ),len(y_train_fold ),len(y_test_fold ))\n",
    "        clf.fit(x_train_fold, y_train_fold)\n",
    "        preds = clf.predict(x_test_fold)\n",
    "        preds = [arredonda(num) for num in preds]\n",
    "        lst_f1.append(f1_score(y_test_fold, preds, zero_division=1))\n",
    "        i+=1\n",
    "    display_scores(lst_f1)"
   ]
  },
  {
   "cell_type": "markdown",
   "id": "354fe930",
   "metadata": {},
   "source": [
    "### 6.2.1 Regressor logistico"
   ]
  },
  {
   "cell_type": "code",
   "execution_count": 94,
   "id": "5230dafd",
   "metadata": {},
   "outputs": [
    {
     "name": "stdout",
     "output_type": "stream",
     "text": [
      "Scores: [0.9766136576239476, 0.9696969696969696, 0.9695238095238096, 0.9610894941634242, 0.9602954755309325, 0.9770723104056438, 0.9689922480620154, 0.9830827067669171, 0.9690309690309691, 0.9736123748862602, 0.9704480457578646, 0.9703153988868276, 0.9703504043126685, 0.9724770642201834, 0.9754178957718781, 0.9688715953307393, 0.974074074074074, 0.9714285714285715, 0.983050847457627, 0.9693023255813953]\n",
      "\n",
      "Mean: 0.971737311925636\n",
      "Standard deviation: 0.005712790558103677\n"
     ]
    }
   ],
   "source": [
    "clf = LogisticRegression()\n",
    "treino_modelos(clf)"
   ]
  },
  {
   "cell_type": "markdown",
   "id": "2108066a",
   "metadata": {},
   "source": [
    "### 6.2.2 Regressor de Árvore de decisão "
   ]
  },
  {
   "cell_type": "code",
   "execution_count": 24,
   "id": "eaaaee6b",
   "metadata": {},
   "outputs": [
    {
     "name": "stdout",
     "output_type": "stream",
     "text": [
      "Scores: [0.8785046728971962, 0.8764867337602927, 0.8703007518796992, 0.849624060150376, 0.8595194085027726, 0.8602362204724409, 0.8616600790513833, 0.8493919550982226, 0.8294062205466541, 0.8612716763005781, 0.8630783758262511, 0.8472095150960658, 0.8595988538681949, 0.8592730661696178, 0.86219739292365, 0.8670944087992667, 0.8568824065633546, 0.870822041553749, 0.8444863336475024, 0.8706099815157117]\n",
      "\n",
      "Mean: 0.8598827077311489\n",
      "Standard deviation: 0.011675206465577964\n"
     ]
    }
   ],
   "source": [
    "clf = DecisionTreeRegressor()\n",
    "treino_modelos(clf)"
   ]
  },
  {
   "cell_type": "markdown",
   "id": "9fbed6a0",
   "metadata": {},
   "source": [
    "### 6.2.3 Regressão Linear"
   ]
  },
  {
   "cell_type": "code",
   "execution_count": 31,
   "id": "11b1e37f",
   "metadata": {},
   "outputs": [
    {
     "name": "stdout",
     "output_type": "stream",
     "text": [
      "Scores: [0.9526515151515151, 0.9467680608365018, 0.9583736689254598, 0.9520225776105361, 0.9586140519730509, 0.962671905697446, 0.9396226415094339, 0.9468503937007874, 0.9527272727272726, 0.9603864734299516, 0.9585172109443953, 0.9468779123951537, 0.9467680608365019, 0.9533582089552239, 0.9417293233082706, 0.9489322191272053, 0.9519230769230769, 0.952734012974977, 0.9580952380952381, 0.9488117001828154]\n",
      "\n",
      "Mean: 0.9519217762652407\n",
      "Standard deviation: 0.006228971801186495\n"
     ]
    }
   ],
   "source": [
    "clf = LinearRegression()\n",
    "treino_modelos(clf)"
   ]
  },
  {
   "cell_type": "markdown",
   "id": "e8d4160b",
   "metadata": {},
   "source": [
    "### 6.2.4 Adaboost Regressor"
   ]
  },
  {
   "cell_type": "code",
   "execution_count": 35,
   "id": "3c5e21d9",
   "metadata": {
    "collapsed": true,
    "jupyter": {
     "outputs_hidden": true
    }
   },
   "outputs": [
    {
     "name": "stdout",
     "output_type": "stream",
     "text": [
      "1\n",
      "2\n",
      "3\n",
      "4\n",
      "5\n",
      "6\n",
      "7\n",
      "8\n",
      "9\n",
      "10\n",
      "11\n",
      "12\n",
      "13\n",
      "14\n",
      "15\n",
      "16\n",
      "17\n",
      "18\n",
      "19\n",
      "20\n",
      "Scores: [0.9079422382671481, 0.9206349206349207, 0.9192546583850931, 0.9089301503094607, 0.9102333931777379, 0.904363974001857, 0.9001814882032668, 0.8984156570363466, 0.9169000933706816, 0.8959537572254336, 0.9057301293900185, 0.8920863309352518, 0.9092558983666063, 0.9105691056910568, 0.9035812672176308, 0.9052437902483902, 0.9033457249070631, 0.9090909090909092, 0.9050387596899225, 0.9188156638013371]\n",
      "\n",
      "Mean: 0.9072783954975067\n",
      "Standard deviation: 0.007659120681065911\n"
     ]
    }
   ],
   "source": [
    "clf = AdaBoostRegressor()\n",
    "treino_modelos(clf)"
   ]
  },
  {
   "cell_type": "markdown",
   "id": "85850df9",
   "metadata": {},
   "source": [
    "### 6.2.5 Gradiente Boosting Regressor"
   ]
  },
  {
   "cell_type": "code",
   "execution_count": 37,
   "id": "2014b2e2",
   "metadata": {
    "collapsed": true,
    "jupyter": {
     "outputs_hidden": true
    }
   },
   "outputs": [
    {
     "name": "stdout",
     "output_type": "stream",
     "text": [
      "1\n",
      "2\n",
      "3\n",
      "4\n",
      "5\n",
      "6\n",
      "7\n",
      "8\n",
      "9\n",
      "10\n",
      "11\n",
      "12\n",
      "13\n",
      "14\n",
      "15\n",
      "16\n",
      "17\n",
      "18\n",
      "19\n",
      "20\n",
      "Scores: [0.9350145489815712, 0.9622641509433963, 0.9448529411764707, 0.9434306569343065, 0.9371428571428572, 0.9366336633663366, 0.9402546523016649, 0.9274809160305343, 0.9399428026692088, 0.9433962264150944, 0.9353049907578558, 0.9517625231910946, 0.9509713228492138, 0.9366130558183537, 0.9307116104868914, 0.944015444015444, 0.9362101313320825, 0.9368029739776952, 0.9474671669793622, 0.95311004784689]\n",
      "\n",
      "Mean: 0.9416691341608162\n",
      "Standard deviation: 0.008381772826467526\n"
     ]
    }
   ],
   "source": [
    "clf = GradientBoostingRegressor()\n",
    "treino_modelos(clf)"
   ]
  },
  {
   "cell_type": "markdown",
   "id": "53155499",
   "metadata": {},
   "source": [
    "### 6.2.6  XgBoost"
   ]
  },
  {
   "cell_type": "code",
   "execution_count": 28,
   "id": "3e3dbe18",
   "metadata": {},
   "outputs": [
    {
     "name": "stdout",
     "output_type": "stream",
     "text": [
      "Scores: [0.94257064721969, 0.9557021677662583, 0.9419354838709678, 0.9494020239190433, 0.943798449612403, 0.9374416433239963, 0.9514747859181732, 0.9408341416100873, 0.9396226415094339, 0.9486510008703221, 0.9509366636931311, 0.9474671669793621, 0.9458413926499033, 0.9436893203883495, 0.9508196721311475, 0.9401869158878503, 0.9462809917355373, 0.951035781544256, 0.9521126760563381, 0.9377431906614786]\n",
      "\n",
      "Mean: 0.9458773378673865\n",
      "Standard deviation: 0.005311469234681345\n"
     ]
    }
   ],
   "source": [
    "clf = XGBRegressor()\n",
    "treino_modelos(clf)"
   ]
  },
  {
   "cell_type": "markdown",
   "id": "00ec7022",
   "metadata": {},
   "source": [
    "### 6.2.7  LightXgBoost"
   ]
  },
  {
   "cell_type": "code",
   "execution_count": 31,
   "id": "2ebeda12",
   "metadata": {},
   "outputs": [
    {
     "name": "stdout",
     "output_type": "stream",
     "text": [
      "1\n",
      "2\n",
      "3\n",
      "4\n",
      "5\n",
      "6\n",
      "7\n",
      "8\n",
      "9\n",
      "10\n",
      "11\n",
      "12\n",
      "13\n",
      "14\n",
      "15\n",
      "16\n",
      "17\n",
      "18\n",
      "19\n",
      "20\n",
      "Scores: [0.9568480300187617, 0.9705882352941176, 0.9560336763330215, 0.9589552238805971, 0.9497098646034815, 0.9446064139941691, 0.9602272727272728, 0.9527559055118111, 0.9440879926672776, 0.9439696106362773, 0.9481915933528836, 0.9543795620437956, 0.9558823529411764, 0.9446564885496184, 0.9566929133858267, 0.9572338489535941, 0.9484936831875607, 0.9569990850869168, 0.9442870632672332, 0.9571694599627559]\n",
      "\n",
      "Mean: 0.9530884138199074\n",
      "Standard deviation: 0.006986134635588862\n"
     ]
    }
   ],
   "source": [
    "clf = LGBMRegressor()\n",
    "treino_modelos(clf)"
   ]
  },
  {
   "cell_type": "markdown",
   "id": "0816a190",
   "metadata": {},
   "source": [
    "### 6.2.8  BayesianRidge"
   ]
  },
  {
   "cell_type": "code",
   "execution_count": null,
   "id": "706a4b6d",
   "metadata": {},
   "outputs": [
    {
     "name": "stdout",
     "output_type": "stream",
     "text": [
      "1\n",
      "3\n",
      "4\n",
      "5\n",
      "6\n",
      "7\n",
      "8\n",
      "9\n",
      "10\n",
      "11\n",
      "12\n",
      "13\n",
      "14\n",
      "15\n",
      "16\n",
      "17\n",
      "18\n",
      "19\n",
      "20\n",
      "Scores: [0.972972972972973, 0.9602272727272728, 0.9586776859504132, 0.9745454545454546, 0.9521912350597609, 0.9599271402550091, 0.955223880597015, 0.9549218031278749, 0.9514370664023786, 0.9602220166512488, 0.9603024574669187, 0.960573476702509, 0.9620253164556962, 0.9658536585365853, 0.9537299338999056, 0.9531405782652044, 0.9611111111111111, 0.9591642924976258, 0.9642512077294686, 0.9625570776255709]\n",
      "\n",
      "Mean: 0.9601527819289999\n",
      "Standard deviation: 0.006138119045365233\n"
     ]
    }
   ],
   "source": [
    "clf = BayesianRidge()\n",
    "treino_modelos(clf)"
   ]
  },
  {
   "cell_type": "markdown",
   "id": "bb3d98bc",
   "metadata": {},
   "source": [
    "## 6.3 Modelos selecionados"
   ]
  },
  {
   "cell_type": "markdown",
   "id": "22788c7a",
   "metadata": {},
   "source": [
    "Pudemos observar que a maioria dos modelos apresenta um score médio de 0.95, porêm devemos levar em consideração que para o sistema de recomendação planejado é necessário um moidelo que nos forneça um resutlado continuo entre 0 e 1. Sendo assim os classificadores estão eliminados.\n",
    "O Modelo de regressão logistica apensar de ser um classificador binário pretendiamos usa-lo a partir das probabilidades fornecidas, mas não houve tempo de seguir por este caminho portanto também foi eliminado.\n",
    "Dos modelos restantes vamos escolher os que obtiveram melhores médias de score:\n",
    "- **BayesianRidge**\n",
    "- **LightXgBoost**"
   ]
  },
  {
   "cell_type": "markdown",
   "id": "5c4ec4f2",
   "metadata": {},
   "source": [
    "Agora precisamos generalizar os dados, ou seja, as colunas de dano, ouro, visão, etc deve ser obtidas a aprtid da média do campeão usado.\n",
    "Para isso vamos vafzer uma nova divisão dos dados de treino em treino e teste e a partir disso desenvolver uma base auxiliar para consultas"
   ]
  },
  {
   "cell_type": "markdown",
   "id": "b899fdc3",
   "metadata": {},
   "source": [
    "# 7. Generalização "
   ]
  },
  {
   "cell_type": "markdown",
   "id": "c8c6ee90",
   "metadata": {},
   "source": [
    "## 7.1 Base aulixiar"
   ]
  },
  {
   "cell_type": "markdown",
   "id": "119a0f30",
   "metadata": {},
   "source": [
    "**Tentar criar a tabela auxiliarpensndo em quem é o adversário**"
   ]
  },
  {
   "cell_type": "code",
   "execution_count": 11,
   "id": "201ca939",
   "metadata": {},
   "outputs": [],
   "source": [
    "from sklearn.model_selection import train_test_split\n"
   ]
  },
  {
   "cell_type": "code",
   "execution_count": 10,
   "id": "3d909f10",
   "metadata": {},
   "outputs": [],
   "source": [
    "base_train = pd.read_excel('s3://{}/{}'.format(bucket, \"treino.xlsx\"))"
   ]
  },
  {
   "cell_type": "code",
   "execution_count": 13,
   "id": "003ef9aa",
   "metadata": {},
   "outputs": [],
   "source": [
    "base_train_final, base_test_final = train_test_split(base_train, test_size=0.2, stratify=base_train['Blue Team Victory'], random_state=42)"
   ]
  },
  {
   "cell_type": "code",
   "execution_count": 26,
   "id": "ceae601a",
   "metadata": {},
   "outputs": [],
   "source": [
    "def analise_auxiliar(posicao, time, campeao,base_train_final):\n",
    "    dicionario = {}\n",
    "    dicionario[\"campeao\"] = campeao\n",
    "    dicionario[\"time\"] = time\n",
    "    dicionario[\"posicao\"] = posicao\n",
    "    dicionario[\"kill\"] = statistics.mean(base_train_final.loc[base_train_final[f'champion_{posi}_{team}_side'] == campeao,   f'kill_{posicao}_{time}_side'])\n",
    "    dicionario[\"death\"] = statistics.mean(base_train_final.loc[base_train_final[f'champion_{posi}_{team}_side'] == campeao,   f'death_{posicao}_{time}_side'])\n",
    "    dicionario[\"assist\"] = statistics.mean(base_train_final.loc[base_train_final[f'champion_{posi}_{team}_side'] == campeao,   f'assist_{posicao}_{time}_side'])\n",
    "    dicionario[\"dano\"] = statistics.mean(base_train_final.loc[base_train_final[f'champion_{posi}_{team}_side'] == campeao,   f'damage_per_minute_{posicao}_{time}_side'])\n",
    "    dicionario[\"ouro\"] = statistics.mean(base_train_final.loc[base_train_final[f'champion_{posi}_{team}_side'] == campeao,   f'gold_per_minute_{posicao}_{time}_side'])\n",
    "    dicionario[\"visao\"] = statistics.mean(base_train_final.loc[base_train_final[f'champion_{posi}_{team}_side'] == campeao,   f'vision_per_minute_{posicao}_{time}_side'])\n",
    "    return dicionario\n"
   ]
  },
  {
   "cell_type": "code",
   "execution_count": 30,
   "id": "887813e4",
   "metadata": {},
   "outputs": [],
   "source": [
    "lista_auxiliar = []\n",
    "for posi in posicao:\n",
    "    for team in times:\n",
    "        for campeao in base_train_final[f'champion_{posi}_{team}_side'].unique():\n",
    "            lista_auxiliar.append(analise_auxiliar(posi, team, campeao,base_train_final))\n",
    "            \n",
    " \n",
    "aux_exploratorio = pd.DataFrame(lista_auxiliar)"
   ]
  },
  {
   "cell_type": "code",
   "execution_count": 35,
   "id": "c729d119",
   "metadata": {},
   "outputs": [],
   "source": [
    "def busca_aux(time, posicao, campeao, feature):\n",
    "    return aux_exploratorio.loc[(aux_exploratorio[\"campeao\"] == campeao) & (aux_exploratorio[\"time\"] == time) & (aux_exploratorio[\"posicao\"] == posicao),feature].values[0]"
   ]
  },
  {
   "cell_type": "code",
   "execution_count": 40,
   "id": "790290a5",
   "metadata": {},
   "outputs": [],
   "source": [
    "for posi in posicao:\n",
    "    for team in times:\n",
    "        base_train_final[ f'kill_{posi}_{team}_side'] = base_train_final.apply(lambda x:busca_aux(team,posi,x[f'champion_{posi}_{team}_side'],\"kill\"),axis = 1)\n",
    "        base_train_final[f'death_{posi}_{team}_side'] = base_train_final.apply(lambda x:busca_aux(team,posi,x[f'champion_{posi}_{team}_side'],\"death\"),axis = 1)\n",
    "        base_train_final[f'assist_{posi}_{team}_side'] = base_train_final.apply(lambda x:busca_aux(team,posi,x[f'champion_{posi}_{team}_side'],\"assist\"),axis = 1)\n",
    "        base_train_final[f'damage_per_minute_{posi}_{team}_side'] = base_train_final.apply(lambda x:busca_aux(team,posi,x[f'champion_{posi}_{team}_side'],\"dano\"),axis = 1)\n",
    "        base_train_final[f'gold_per_minute_{posi}_{team}_side'] = base_train_final.apply(lambda x:busca_aux(team,posi,x[f'champion_{posi}_{team}_side'],\"ouro\"),axis = 1)\n",
    "        base_train_final[f'vision_per_minute_{posi}_{team}_side'] = base_train_final.apply(lambda x:busca_aux(team,posi,x[f'champion_{posi}_{team}_side'],\"visao\"),axis = 1)"
   ]
  },
  {
   "cell_type": "markdown",
   "id": "00093787",
   "metadata": {},
   "source": [
    "## 7.2 Pipeline"
   ]
  },
  {
   "cell_type": "code",
   "execution_count": 42,
   "id": "8cfd6829",
   "metadata": {},
   "outputs": [],
   "source": [
    "# separando o target do resto\n",
    "base_train_pre = base_train_final.drop(columns=['Blue Team Victory'])\n",
    "base_train_target = base_train_final['Blue Team Victory'].copy()"
   ]
  },
  {
   "cell_type": "code",
   "execution_count": 46,
   "id": "ef077436",
   "metadata": {},
   "outputs": [
    {
     "data": {
      "text/html": [
       "<div>\n",
       "<style scoped>\n",
       "    .dataframe tbody tr th:only-of-type {\n",
       "        vertical-align: middle;\n",
       "    }\n",
       "\n",
       "    .dataframe tbody tr th {\n",
       "        vertical-align: top;\n",
       "    }\n",
       "\n",
       "    .dataframe thead th {\n",
       "        text-align: right;\n",
       "    }\n",
       "</style>\n",
       "<table border=\"1\" class=\"dataframe\">\n",
       "  <thead>\n",
       "    <tr style=\"text-align: right;\">\n",
       "      <th></th>\n",
       "      <th>Tempo</th>\n",
       "      <th>champion_Top_blue_side</th>\n",
       "      <th>kill_Top_blue_side</th>\n",
       "      <th>death_Top_blue_side</th>\n",
       "      <th>assist_Top_blue_side</th>\n",
       "      <th>damage_per_minute_Top_blue_side</th>\n",
       "      <th>gold_per_minute_Top_blue_side</th>\n",
       "      <th>vision_per_minute_Top_blue_side</th>\n",
       "      <th>champion_Jungle_blue_side</th>\n",
       "      <th>kill_Jungle_blue_side</th>\n",
       "      <th>...</th>\n",
       "      <th>damage_per_minute_Adc_red_side</th>\n",
       "      <th>gold_per_minute_Adc_red_side</th>\n",
       "      <th>vision_per_minute_Adc_red_side</th>\n",
       "      <th>champion_Sup_red_side</th>\n",
       "      <th>kill_Sup_red_side</th>\n",
       "      <th>death_Sup_red_side</th>\n",
       "      <th>assist_Sup_red_side</th>\n",
       "      <th>damage_per_minute_Sup_red_side</th>\n",
       "      <th>gold_per_minute_Sup_red_side</th>\n",
       "      <th>vision_per_minute_Sup_red_side</th>\n",
       "    </tr>\n",
       "  </thead>\n",
       "  <tbody>\n",
       "    <tr>\n",
       "      <th>10112</th>\n",
       "      <td>26.483333</td>\n",
       "      <td>Aatrox</td>\n",
       "      <td>5.162775</td>\n",
       "      <td>5.013049</td>\n",
       "      <td>5.400412</td>\n",
       "      <td>698.103123</td>\n",
       "      <td>419.758708</td>\n",
       "      <td>0.716642</td>\n",
       "      <td>Kayn</td>\n",
       "      <td>7.912773</td>\n",
       "      <td>...</td>\n",
       "      <td>690.235088</td>\n",
       "      <td>498.657235</td>\n",
       "      <td>0.829964</td>\n",
       "      <td>Taric</td>\n",
       "      <td>1.664336</td>\n",
       "      <td>5.444056</td>\n",
       "      <td>14.846154</td>\n",
       "      <td>238.254842</td>\n",
       "      <td>298.282339</td>\n",
       "      <td>1.763996</td>\n",
       "    </tr>\n",
       "    <tr>\n",
       "      <th>2669</th>\n",
       "      <td>31.100000</td>\n",
       "      <td>Tryndamere</td>\n",
       "      <td>5.696970</td>\n",
       "      <td>4.375758</td>\n",
       "      <td>4.254545</td>\n",
       "      <td>612.828915</td>\n",
       "      <td>470.759573</td>\n",
       "      <td>0.685519</td>\n",
       "      <td>Kindred</td>\n",
       "      <td>7.812987</td>\n",
       "      <td>...</td>\n",
       "      <td>672.850183</td>\n",
       "      <td>490.777056</td>\n",
       "      <td>0.493654</td>\n",
       "      <td>Singed</td>\n",
       "      <td>2.666667</td>\n",
       "      <td>7.416667</td>\n",
       "      <td>11.583333</td>\n",
       "      <td>406.277997</td>\n",
       "      <td>373.191182</td>\n",
       "      <td>1.160130</td>\n",
       "    </tr>\n",
       "    <tr>\n",
       "      <th>4786</th>\n",
       "      <td>32.616667</td>\n",
       "      <td>Riven</td>\n",
       "      <td>6.230072</td>\n",
       "      <td>5.697464</td>\n",
       "      <td>5.056159</td>\n",
       "      <td>648.298310</td>\n",
       "      <td>433.811667</td>\n",
       "      <td>0.706489</td>\n",
       "      <td>Kindred</td>\n",
       "      <td>7.812987</td>\n",
       "      <td>...</td>\n",
       "      <td>650.204152</td>\n",
       "      <td>453.273969</td>\n",
       "      <td>0.668399</td>\n",
       "      <td>Karma</td>\n",
       "      <td>2.450609</td>\n",
       "      <td>5.420839</td>\n",
       "      <td>13.622463</td>\n",
       "      <td>429.467701</td>\n",
       "      <td>310.321287</td>\n",
       "      <td>2.121050</td>\n",
       "    </tr>\n",
       "    <tr>\n",
       "      <th>2097</th>\n",
       "      <td>24.066667</td>\n",
       "      <td>Ornn</td>\n",
       "      <td>3.000000</td>\n",
       "      <td>4.420690</td>\n",
       "      <td>8.565517</td>\n",
       "      <td>535.207496</td>\n",
       "      <td>371.202623</td>\n",
       "      <td>0.613090</td>\n",
       "      <td>LeeSin</td>\n",
       "      <td>7.489440</td>\n",
       "      <td>...</td>\n",
       "      <td>744.308436</td>\n",
       "      <td>458.793079</td>\n",
       "      <td>0.704246</td>\n",
       "      <td>Thresh</td>\n",
       "      <td>1.601093</td>\n",
       "      <td>5.561020</td>\n",
       "      <td>14.881603</td>\n",
       "      <td>250.478926</td>\n",
       "      <td>291.050098</td>\n",
       "      <td>1.848744</td>\n",
       "    </tr>\n",
       "    <tr>\n",
       "      <th>12540</th>\n",
       "      <td>20.400000</td>\n",
       "      <td>TahmKench</td>\n",
       "      <td>4.307692</td>\n",
       "      <td>5.782051</td>\n",
       "      <td>10.525641</td>\n",
       "      <td>646.066779</td>\n",
       "      <td>394.700474</td>\n",
       "      <td>0.563036</td>\n",
       "      <td>Qiyana</td>\n",
       "      <td>9.180328</td>\n",
       "      <td>...</td>\n",
       "      <td>863.987226</td>\n",
       "      <td>506.394345</td>\n",
       "      <td>0.326195</td>\n",
       "      <td>LeeSin</td>\n",
       "      <td>9.511111</td>\n",
       "      <td>7.911111</td>\n",
       "      <td>15.088889</td>\n",
       "      <td>973.820626</td>\n",
       "      <td>589.447313</td>\n",
       "      <td>0.474364</td>\n",
       "    </tr>\n",
       "    <tr>\n",
       "      <th>...</th>\n",
       "      <td>...</td>\n",
       "      <td>...</td>\n",
       "      <td>...</td>\n",
       "      <td>...</td>\n",
       "      <td>...</td>\n",
       "      <td>...</td>\n",
       "      <td>...</td>\n",
       "      <td>...</td>\n",
       "      <td>...</td>\n",
       "      <td>...</td>\n",
       "      <td>...</td>\n",
       "      <td>...</td>\n",
       "      <td>...</td>\n",
       "      <td>...</td>\n",
       "      <td>...</td>\n",
       "      <td>...</td>\n",
       "      <td>...</td>\n",
       "      <td>...</td>\n",
       "      <td>...</td>\n",
       "      <td>...</td>\n",
       "      <td>...</td>\n",
       "    </tr>\n",
       "    <tr>\n",
       "      <th>12266</th>\n",
       "      <td>25.850000</td>\n",
       "      <td>Fiora</td>\n",
       "      <td>5.310827</td>\n",
       "      <td>5.324796</td>\n",
       "      <td>4.481956</td>\n",
       "      <td>687.249773</td>\n",
       "      <td>421.490141</td>\n",
       "      <td>0.687646</td>\n",
       "      <td>Graves</td>\n",
       "      <td>6.868362</td>\n",
       "      <td>...</td>\n",
       "      <td>846.838436</td>\n",
       "      <td>439.868625</td>\n",
       "      <td>0.639034</td>\n",
       "      <td>Sona</td>\n",
       "      <td>2.189630</td>\n",
       "      <td>5.050370</td>\n",
       "      <td>14.440000</td>\n",
       "      <td>340.469242</td>\n",
       "      <td>303.231383</td>\n",
       "      <td>1.863283</td>\n",
       "    </tr>\n",
       "    <tr>\n",
       "      <th>19197</th>\n",
       "      <td>29.950000</td>\n",
       "      <td>Aatrox</td>\n",
       "      <td>5.162775</td>\n",
       "      <td>5.013049</td>\n",
       "      <td>5.400412</td>\n",
       "      <td>698.103123</td>\n",
       "      <td>419.758708</td>\n",
       "      <td>0.716642</td>\n",
       "      <td>Kayn</td>\n",
       "      <td>7.912773</td>\n",
       "      <td>...</td>\n",
       "      <td>808.981632</td>\n",
       "      <td>458.544341</td>\n",
       "      <td>0.665458</td>\n",
       "      <td>Senna</td>\n",
       "      <td>4.261456</td>\n",
       "      <td>6.115903</td>\n",
       "      <td>13.229111</td>\n",
       "      <td>604.519455</td>\n",
       "      <td>379.778006</td>\n",
       "      <td>2.071971</td>\n",
       "    </tr>\n",
       "    <tr>\n",
       "      <th>15260</th>\n",
       "      <td>29.566667</td>\n",
       "      <td>Aatrox</td>\n",
       "      <td>5.162775</td>\n",
       "      <td>5.013049</td>\n",
       "      <td>5.400412</td>\n",
       "      <td>698.103123</td>\n",
       "      <td>419.758708</td>\n",
       "      <td>0.716642</td>\n",
       "      <td>Nunu</td>\n",
       "      <td>4.523077</td>\n",
       "      <td>...</td>\n",
       "      <td>713.395366</td>\n",
       "      <td>454.937689</td>\n",
       "      <td>0.801932</td>\n",
       "      <td>Lux</td>\n",
       "      <td>3.752418</td>\n",
       "      <td>5.675048</td>\n",
       "      <td>13.214700</td>\n",
       "      <td>584.699852</td>\n",
       "      <td>356.163685</td>\n",
       "      <td>1.780478</td>\n",
       "    </tr>\n",
       "    <tr>\n",
       "      <th>6953</th>\n",
       "      <td>33.783333</td>\n",
       "      <td>Jax</td>\n",
       "      <td>5.213501</td>\n",
       "      <td>5.152276</td>\n",
       "      <td>4.130298</td>\n",
       "      <td>636.631361</td>\n",
       "      <td>424.607243</td>\n",
       "      <td>0.625879</td>\n",
       "      <td>Graves</td>\n",
       "      <td>6.868362</td>\n",
       "      <td>...</td>\n",
       "      <td>702.670432</td>\n",
       "      <td>458.525542</td>\n",
       "      <td>0.759202</td>\n",
       "      <td>Amumu</td>\n",
       "      <td>2.171123</td>\n",
       "      <td>7.418895</td>\n",
       "      <td>13.245989</td>\n",
       "      <td>316.480145</td>\n",
       "      <td>289.382624</td>\n",
       "      <td>1.831621</td>\n",
       "    </tr>\n",
       "    <tr>\n",
       "      <th>8708</th>\n",
       "      <td>20.783333</td>\n",
       "      <td>Brand</td>\n",
       "      <td>8.190476</td>\n",
       "      <td>9.761905</td>\n",
       "      <td>20.952381</td>\n",
       "      <td>1401.497391</td>\n",
       "      <td>629.033851</td>\n",
       "      <td>0.156981</td>\n",
       "      <td>Kalista</td>\n",
       "      <td>11.740741</td>\n",
       "      <td>...</td>\n",
       "      <td>604.233174</td>\n",
       "      <td>473.572680</td>\n",
       "      <td>0.551299</td>\n",
       "      <td>Renekton</td>\n",
       "      <td>5.866667</td>\n",
       "      <td>7.400000</td>\n",
       "      <td>10.800000</td>\n",
       "      <td>904.129503</td>\n",
       "      <td>529.251704</td>\n",
       "      <td>0.377823</td>\n",
       "    </tr>\n",
       "  </tbody>\n",
       "</table>\n",
       "<p>17584 rows × 71 columns</p>\n",
       "</div>"
      ],
      "text/plain": [
       "           Tempo champion_Top_blue_side  kill_Top_blue_side  \\\n",
       "10112  26.483333                 Aatrox            5.162775   \n",
       "2669   31.100000             Tryndamere            5.696970   \n",
       "4786   32.616667                  Riven            6.230072   \n",
       "2097   24.066667                   Ornn            3.000000   \n",
       "12540  20.400000              TahmKench            4.307692   \n",
       "...          ...                    ...                 ...   \n",
       "12266  25.850000                  Fiora            5.310827   \n",
       "19197  29.950000                 Aatrox            5.162775   \n",
       "15260  29.566667                 Aatrox            5.162775   \n",
       "6953   33.783333                    Jax            5.213501   \n",
       "8708   20.783333                  Brand            8.190476   \n",
       "\n",
       "       death_Top_blue_side  assist_Top_blue_side  \\\n",
       "10112             5.013049              5.400412   \n",
       "2669              4.375758              4.254545   \n",
       "4786              5.697464              5.056159   \n",
       "2097              4.420690              8.565517   \n",
       "12540             5.782051             10.525641   \n",
       "...                    ...                   ...   \n",
       "12266             5.324796              4.481956   \n",
       "19197             5.013049              5.400412   \n",
       "15260             5.013049              5.400412   \n",
       "6953              5.152276              4.130298   \n",
       "8708              9.761905             20.952381   \n",
       "\n",
       "       damage_per_minute_Top_blue_side  gold_per_minute_Top_blue_side  \\\n",
       "10112                       698.103123                     419.758708   \n",
       "2669                        612.828915                     470.759573   \n",
       "4786                        648.298310                     433.811667   \n",
       "2097                        535.207496                     371.202623   \n",
       "12540                       646.066779                     394.700474   \n",
       "...                                ...                            ...   \n",
       "12266                       687.249773                     421.490141   \n",
       "19197                       698.103123                     419.758708   \n",
       "15260                       698.103123                     419.758708   \n",
       "6953                        636.631361                     424.607243   \n",
       "8708                       1401.497391                     629.033851   \n",
       "\n",
       "       vision_per_minute_Top_blue_side champion_Jungle_blue_side  \\\n",
       "10112                         0.716642                      Kayn   \n",
       "2669                          0.685519                   Kindred   \n",
       "4786                          0.706489                   Kindred   \n",
       "2097                          0.613090                    LeeSin   \n",
       "12540                         0.563036                    Qiyana   \n",
       "...                                ...                       ...   \n",
       "12266                         0.687646                    Graves   \n",
       "19197                         0.716642                      Kayn   \n",
       "15260                         0.716642                      Nunu   \n",
       "6953                          0.625879                    Graves   \n",
       "8708                          0.156981                   Kalista   \n",
       "\n",
       "       kill_Jungle_blue_side  ...  damage_per_minute_Adc_red_side  \\\n",
       "10112               7.912773  ...                      690.235088   \n",
       "2669                7.812987  ...                      672.850183   \n",
       "4786                7.812987  ...                      650.204152   \n",
       "2097                7.489440  ...                      744.308436   \n",
       "12540               9.180328  ...                      863.987226   \n",
       "...                      ...  ...                             ...   \n",
       "12266               6.868362  ...                      846.838436   \n",
       "19197               7.912773  ...                      808.981632   \n",
       "15260               4.523077  ...                      713.395366   \n",
       "6953                6.868362  ...                      702.670432   \n",
       "8708               11.740741  ...                      604.233174   \n",
       "\n",
       "       gold_per_minute_Adc_red_side  vision_per_minute_Adc_red_side  \\\n",
       "10112                    498.657235                        0.829964   \n",
       "2669                     490.777056                        0.493654   \n",
       "4786                     453.273969                        0.668399   \n",
       "2097                     458.793079                        0.704246   \n",
       "12540                    506.394345                        0.326195   \n",
       "...                             ...                             ...   \n",
       "12266                    439.868625                        0.639034   \n",
       "19197                    458.544341                        0.665458   \n",
       "15260                    454.937689                        0.801932   \n",
       "6953                     458.525542                        0.759202   \n",
       "8708                     473.572680                        0.551299   \n",
       "\n",
       "       champion_Sup_red_side  kill_Sup_red_side death_Sup_red_side  \\\n",
       "10112                  Taric           1.664336           5.444056   \n",
       "2669                  Singed           2.666667           7.416667   \n",
       "4786                   Karma           2.450609           5.420839   \n",
       "2097                  Thresh           1.601093           5.561020   \n",
       "12540                 LeeSin           9.511111           7.911111   \n",
       "...                      ...                ...                ...   \n",
       "12266                   Sona           2.189630           5.050370   \n",
       "19197                  Senna           4.261456           6.115903   \n",
       "15260                    Lux           3.752418           5.675048   \n",
       "6953                   Amumu           2.171123           7.418895   \n",
       "8708                Renekton           5.866667           7.400000   \n",
       "\n",
       "       assist_Sup_red_side  damage_per_minute_Sup_red_side  \\\n",
       "10112            14.846154                      238.254842   \n",
       "2669             11.583333                      406.277997   \n",
       "4786             13.622463                      429.467701   \n",
       "2097             14.881603                      250.478926   \n",
       "12540            15.088889                      973.820626   \n",
       "...                    ...                             ...   \n",
       "12266            14.440000                      340.469242   \n",
       "19197            13.229111                      604.519455   \n",
       "15260            13.214700                      584.699852   \n",
       "6953             13.245989                      316.480145   \n",
       "8708             10.800000                      904.129503   \n",
       "\n",
       "       gold_per_minute_Sup_red_side  vision_per_minute_Sup_red_side  \n",
       "10112                    298.282339                        1.763996  \n",
       "2669                     373.191182                        1.160130  \n",
       "4786                     310.321287                        2.121050  \n",
       "2097                     291.050098                        1.848744  \n",
       "12540                    589.447313                        0.474364  \n",
       "...                             ...                             ...  \n",
       "12266                    303.231383                        1.863283  \n",
       "19197                    379.778006                        2.071971  \n",
       "15260                    356.163685                        1.780478  \n",
       "6953                     289.382624                        1.831621  \n",
       "8708                     529.251704                        0.377823  \n",
       "\n",
       "[17584 rows x 71 columns]"
      ]
     },
     "execution_count": 46,
     "metadata": {},
     "output_type": "execute_result"
    }
   ],
   "source": [
    "base_train_pre"
   ]
  },
  {
   "cell_type": "code",
   "execution_count": 49,
   "id": "ddab130f",
   "metadata": {},
   "outputs": [],
   "source": [
    "# categorical\n",
    "categorical = []\n",
    "for posi in posicao:\n",
    "    for team in times:\n",
    "        categorical.append(f\"champion_{posi}_{team}_side\")\n",
    "\n",
    "\n",
    "# numerical atributes\n",
    "num_attributes = base_train_pre.columns.drop(categorical ,\"Tempo\" )\n",
    "#num_attributes = num_attributes.columns.drop(\"Tempo\")\n",
    "\n",
    "# separating the features\n",
    "base_train_pre_num = base_train_pre[num_attributes]\n",
    "base_train_pre_cat = base_train_pre[categorical]\n",
    "\n",
    "from sklearn.impute import SimpleImputer\n",
    "from sklearn.preprocessing import RobustScaler\n",
    "from sklearn.preprocessing import OneHotEncoder\n",
    "\n",
    "from sklearn.pipeline import Pipeline\n",
    "from sklearn.compose import ColumnTransformer\n",
    "\n",
    "num_pipeline = Pipeline([\n",
    "    ('imputer', SimpleImputer(strategy='median')),\n",
    "    ('robust_scaler', RobustScaler())\n",
    "])\n",
    "\n",
    "\n",
    "cat_pipeline = Pipeline([\n",
    "    ('imputer', SimpleImputer(strategy='most_frequent')),  # as the categories are numbers, we can use the SimpleImputer\n",
    "    ('one-hot-encoding', OneHotEncoder(handle_unknown='ignore'))\n",
    "])\n",
    "\n",
    "\n",
    "# (name, transformer, columns)\n",
    "preprocessed_pipeline = ColumnTransformer([\n",
    "    ('numerical', num_pipeline, num_attributes),\n",
    "    ('categorical', cat_pipeline, categorical)\n",
    "])"
   ]
  },
  {
   "cell_type": "code",
   "execution_count": 58,
   "id": "5834c638",
   "metadata": {},
   "outputs": [
    {
     "data": {
      "text/plain": [
       "(17584, 1680)"
      ]
     },
     "execution_count": 58,
     "metadata": {},
     "output_type": "execute_result"
    }
   ],
   "source": [
    "X_train = preprocessed_pipeline.fit_transform(base_train_pre)\n",
    "X_train.shape"
   ]
  },
  {
   "cell_type": "code",
   "execution_count": 74,
   "id": "1db83986",
   "metadata": {},
   "outputs": [],
   "source": [
    "y_train = base_train_target"
   ]
  },
  {
   "cell_type": "markdown",
   "id": "43359656",
   "metadata": {},
   "source": [
    "Transformando os dados de teste"
   ]
  },
  {
   "cell_type": "code",
   "execution_count": 75,
   "id": "0ef91b09",
   "metadata": {},
   "outputs": [],
   "source": [
    "base_test_pre = base_test_final.drop(columns=['Blue Team Victory'])\n",
    "base_test_target = base_test_final['Blue Team Victory'].copy()\n",
    "\n",
    "X_test = preprocessed_pipeline.transform(base_test_pre).toarray()\n",
    "y_test = base_test_target.values"
   ]
  },
  {
   "cell_type": "markdown",
   "id": "6611b446",
   "metadata": {},
   "source": [
    "## 7.3 Testando os modelos"
   ]
  },
  {
   "cell_type": "code",
   "execution_count": 79,
   "id": "f64a58a7",
   "metadata": {},
   "outputs": [],
   "source": [
    "def teste_final (clf):\n",
    "    y_train_teste = y_train\n",
    "    X_train_teste = X_train.toarray()\n",
    "    clf.fit(X_train_teste,y_train_teste)\n",
    "    preds = clf.predict(X_test)\n",
    "    preds = [arredonda(num) for num in preds]\n",
    "    print(f1_score(y_test, preds, zero_division=1))"
   ]
  },
  {
   "cell_type": "markdown",
   "id": "d6520dd6",
   "metadata": {},
   "source": [
    "### 7.3.1 BayesianRidge"
   ]
  },
  {
   "cell_type": "code",
   "execution_count": 80,
   "id": "147d4534",
   "metadata": {},
   "outputs": [
    {
     "name": "stdout",
     "output_type": "stream",
     "text": [
      "17584 17584\n",
      "0.9216286184984703\n"
     ]
    }
   ],
   "source": [
    "clf = BayesianRidge()\n",
    "teste_final(clf)"
   ]
  },
  {
   "cell_type": "markdown",
   "id": "b075fbcc",
   "metadata": {},
   "source": [
    "### 7.3.2 LGBMRegressor"
   ]
  },
  {
   "cell_type": "code",
   "execution_count": 81,
   "id": "dcb44a07",
   "metadata": {},
   "outputs": [
    {
     "name": "stdout",
     "output_type": "stream",
     "text": [
      "17584 17584\n",
      "0.6664866324601675\n"
     ]
    }
   ],
   "source": [
    "clf = LGBMRegressor()\n",
    "teste_final(clf)"
   ]
  },
  {
   "cell_type": "markdown",
   "id": "f61309ec",
   "metadata": {},
   "source": [
    "# 8. Otimização de Parâmetros\n",
    "Tendo em vista a parca de desempenho do LGBM, vamos segui apenas com o último modelo BayesianRidge"
   ]
  },
  {
   "cell_type": "markdown",
   "id": "00683e89",
   "metadata": {},
   "source": [
    "Como estamos usando um modelo não binário fica impossibilidado o uso do searchgrid, portanto vamos implementar isso na mão."
   ]
  },
  {
   "cell_type": "code",
   "execution_count": 85,
   "id": "29d7d5d9",
   "metadata": {},
   "outputs": [],
   "source": [
    "model = BayesianRidge()\n",
    "parameters = {'n_iter' : [300,  700,  1200],\n",
    "              'compute_score' : [True, False],\n",
    "              'fit_intercept' : [True, False],\n",
    "              'normalize' : [True, False],\n",
    "              'verbose' : [True, False],\n",
    "                 }"
   ]
  },
  {
   "cell_type": "code",
   "execution_count": 92,
   "id": "48896322",
   "metadata": {},
   "outputs": [],
   "source": [
    "def otimizacao_parametros (alfa , inter, comp,fit,norma,verbose):\n",
    "    aux = { 'n_iter' : inter,\n",
    "            'compute_score' : comp,\n",
    "            'fit_intercept' : fit,\n",
    "            'normalize' : norma,\n",
    "            'verbose' : verbose}\n",
    "    \n",
    "    model = BayesianRidge(  n_iter = inter,\n",
    "                            compute_score = comp,\n",
    "                            fit_intercept = fit,\n",
    "                            normalize = norma,\n",
    "                            verbose = verbose)\n",
    "    y_train_teste = y_train\n",
    "    X_train_teste = X_train.toarray()\n",
    "    model.fit(X_train_teste,y_train_teste)\n",
    "    preds = model.predict(X_test)\n",
    "    preds = [arredonda(num) for num in preds]\n",
    "    aux[\"f1\"] = f1_score(y_test, preds, zero_division=1)\n",
    "    print(f1_score(y_test, preds, zero_division=1))\n",
    "    return aux\n",
    "    "
   ]
  },
  {
   "cell_type": "code",
   "execution_count": 93,
   "id": "e111d4d5",
   "metadata": {
    "collapsed": true,
    "jupyter": {
     "outputs_hidden": true
    }
   },
   "outputs": [
    {
     "name": "stdout",
     "output_type": "stream",
     "text": [
      "1\n",
      "Convergence after  50  iterations\n",
      "0.6008531383302864\n",
      "0.6008531383302864\n",
      "Convergence after  27  iterations\n",
      "0.9216286184984703\n",
      "0.9216286184984703\n",
      "Convergence after  10  iterations\n",
      "0.8811607554122524\n",
      "0.8811607554122524\n",
      "Convergence after  10  iterations\n",
      "0.8811607554122524\n",
      "0.8811607554122524\n",
      "Convergence after  50  iterations\n",
      "0.6008531383302864\n",
      "0.6008531383302864\n",
      "Convergence after  27  iterations\n",
      "0.9216286184984703\n",
      "0.9216286184984703\n",
      "Convergence after  10  iterations\n",
      "0.8811607554122524\n",
      "0.8811607554122524\n",
      "Convergence after  10  iterations\n",
      "0.8811607554122524\n",
      "0.8811607554122524\n",
      "2\n",
      "Convergence after  50  iterations\n",
      "0.6008531383302864\n",
      "0.6008531383302864\n",
      "Convergence after  27  iterations\n",
      "0.9216286184984703\n",
      "0.9216286184984703\n",
      "Convergence after  10  iterations\n",
      "0.8811607554122524\n",
      "0.8811607554122524\n",
      "Convergence after  10  iterations\n",
      "0.8811607554122524\n",
      "0.8811607554122524\n",
      "Convergence after  50  iterations\n",
      "0.6008531383302864\n",
      "0.6008531383302864\n",
      "Convergence after  27  iterations\n",
      "0.9216286184984703\n",
      "0.9216286184984703\n",
      "Convergence after  10  iterations\n",
      "0.8811607554122524\n",
      "0.8811607554122524\n",
      "Convergence after  10  iterations\n",
      "0.8811607554122524\n",
      "0.8811607554122524\n",
      "3\n",
      "Convergence after  50  iterations\n",
      "0.6008531383302864\n",
      "0.6008531383302864\n",
      "Convergence after  27  iterations\n",
      "0.9216286184984703\n",
      "0.9216286184984703\n",
      "Convergence after  10  iterations\n",
      "0.8811607554122524\n",
      "0.8811607554122524\n",
      "Convergence after  10  iterations\n",
      "0.8811607554122524\n",
      "0.8811607554122524\n",
      "Convergence after  50  iterations\n",
      "0.6008531383302864\n",
      "0.6008531383302864\n",
      "Convergence after  27  iterations\n",
      "0.9216286184984703\n",
      "0.9216286184984703\n",
      "Convergence after  10  iterations\n",
      "0.8811607554122524\n",
      "0.8811607554122524\n",
      "Convergence after  10  iterations\n",
      "0.8811607554122524\n",
      "0.8811607554122524\n",
      "4\n",
      "Convergence after  50  iterations\n",
      "0.6008531383302864\n",
      "0.6008531383302864\n",
      "Convergence after  27  iterations\n",
      "0.9216286184984703\n",
      "0.9216286184984703\n",
      "Convergence after  10  iterations\n",
      "0.8811607554122524\n",
      "0.8811607554122524\n",
      "Convergence after  10  iterations\n",
      "0.8811607554122524\n",
      "0.8811607554122524\n",
      "Convergence after  50  iterations\n",
      "0.6008531383302864\n",
      "0.6008531383302864\n",
      "Convergence after  27  iterations\n",
      "0.9216286184984703\n",
      "0.9216286184984703\n",
      "Convergence after  10  iterations\n",
      "0.8811607554122524\n",
      "0.8811607554122524\n",
      "Convergence after  10  iterations\n",
      "0.8811607554122524\n",
      "0.8811607554122524\n",
      "5\n",
      "Convergence after  50  iterations\n",
      "0.6008531383302864\n",
      "0.6008531383302864\n",
      "Convergence after  27  iterations\n",
      "0.9216286184984703\n",
      "0.9216286184984703\n",
      "Convergence after  10  iterations\n",
      "0.8811607554122524\n",
      "0.8811607554122524\n",
      "Convergence after  10  iterations\n",
      "0.8811607554122524\n",
      "0.8811607554122524\n",
      "Convergence after  50  iterations\n",
      "0.6008531383302864\n",
      "0.6008531383302864\n",
      "Convergence after  27  iterations\n",
      "0.9216286184984703\n",
      "0.9216286184984703\n",
      "Convergence after  10  iterations\n",
      "0.8811607554122524\n",
      "0.8811607554122524\n",
      "Convergence after  10  iterations\n",
      "0.8811607554122524\n",
      "0.8811607554122524\n"
     ]
    }
   ],
   "source": [
    "lista = []\n",
    "i = 1\n",
    "for inter in parameters['n_iter']:\n",
    "    print(i)\n",
    "    i+=1\n",
    "    for comp in parameters['compute_score']:\n",
    "        for fit in parameters['fit_intercept']:\n",
    "            for norma in parameters['normalize']:\n",
    "                for verbose in parameters['verbose']:\n",
    "                    lista.append(otimizacao_parametros (alfa , inter, comp,fit,norma,verbose))"
   ]
  },
  {
   "cell_type": "markdown",
   "id": "a5052057",
   "metadata": {},
   "source": [
    "# 9. Modelo Final"
   ]
  },
  {
   "cell_type": "markdown",
   "id": "755318c4",
   "metadata": {},
   "source": [
    "Apesar da busca para a otimização dos hyperparametros, nenhum dos usados foi efetivo, ou seja iremos utilizar o modelo padrão."
   ]
  },
  {
   "cell_type": "code",
   "execution_count": 95,
   "id": "9d25f6d4",
   "metadata": {},
   "outputs": [],
   "source": [
    "# leitura das bases separadas inicialmente\n",
    "base_train = pd.read_excel('s3://{}/{}'.format(bucket, \"treino.xlsx\"))\n",
    "base_test = pd.read_excel('s3://{}/{}'.format(bucket, \"teste.xlsx\"))"
   ]
  },
  {
   "cell_type": "code",
   "execution_count": 97,
   "id": "c07911f6",
   "metadata": {},
   "outputs": [],
   "source": [
    "#Separação do target \n",
    "base_train_pre = base_train.drop(columns=['Blue Team Victory'])\n",
    "base_train_target = base_train['Blue Team Victory'].copy()"
   ]
  },
  {
   "cell_type": "code",
   "execution_count": 98,
   "id": "e463b9d0",
   "metadata": {},
   "outputs": [],
   "source": [
    "# Criação da nova base auxiliar \n",
    "lista_auxiliar = []\n",
    "for posi in posicao:\n",
    "    for team in times:\n",
    "        for campeao in base_train_pre[f'champion_{posi}_{team}_side'].unique():\n",
    "            lista_auxiliar.append(analise_auxiliar(posi, team, campeao,base_train_pre))\n",
    "            \n",
    "\n",
    "aux_exploratorio = pd.DataFrame(lista_auxiliar)"
   ]
  },
  {
   "cell_type": "code",
   "execution_count": 101,
   "id": "02072172",
   "metadata": {},
   "outputs": [],
   "source": [
    "#Transformando so dados de treino\n",
    "for posi in posicao:\n",
    "    for team in times:\n",
    "        base_train_pre[ f'kill_{posi}_{team}_side'] = base_train_pre.apply(lambda x:busca_aux(team,posi,x[f'champion_{posi}_{team}_side'],\"kill\"),axis = 1)\n",
    "        base_train_pre[f'death_{posi}_{team}_side'] = base_train_pre.apply(lambda x:busca_aux(team,posi,x[f'champion_{posi}_{team}_side'],\"death\"),axis = 1)\n",
    "        base_train_pre[f'assist_{posi}_{team}_side'] = base_train_pre.apply(lambda x:busca_aux(team,posi,x[f'champion_{posi}_{team}_side'],\"assist\"),axis = 1)\n",
    "        base_train_pre[f'damage_per_minute_{posi}_{team}_side'] = base_train_pre.apply(lambda x:busca_aux(team,posi,x[f'champion_{posi}_{team}_side'],\"dano\"),axis = 1)\n",
    "        base_train_pre[f'gold_per_minute_{posi}_{team}_side'] = base_train_pre.apply(lambda x:busca_aux(team,posi,x[f'champion_{posi}_{team}_side'],\"ouro\"),axis = 1)\n",
    "        base_train_pre[f'vision_per_minute_{posi}_{team}_side'] = base_train_pre.apply(lambda x:busca_aux(team,posi,x[f'champion_{posi}_{team}_side'],\"visao\"),axis = 1)"
   ]
  },
  {
   "cell_type": "code",
   "execution_count": 102,
   "id": "3f527fc4",
   "metadata": {},
   "outputs": [
    {
     "data": {
      "text/plain": [
       "(21981, 1680)"
      ]
     },
     "execution_count": 102,
     "metadata": {},
     "output_type": "execute_result"
    }
   ],
   "source": [
    "# Processar e trasnformas pipeline\n",
    "X_train = preprocessed_pipeline.fit_transform(base_train_pre)\n",
    "X_train.shape"
   ]
  },
  {
   "cell_type": "code",
   "execution_count": 103,
   "id": "61358846",
   "metadata": {},
   "outputs": [],
   "source": [
    "y_train = base_train_target"
   ]
  },
  {
   "cell_type": "code",
   "execution_count": 104,
   "id": "b9609f8a",
   "metadata": {},
   "outputs": [],
   "source": [
    "#Transformando dados de teste\n",
    "base_test_pre = base_test_final.drop(columns=['Blue Team Victory'])\n",
    "base_test_target = base_test_final['Blue Team Victory'].copy()\n",
    "for posi in posicao:\n",
    "    for team in times:\n",
    "        base_test_pre[ f'kill_{posi}_{team}_side'] = base_test_pre.apply(lambda x:busca_aux(team,posi,x[f'champion_{posi}_{team}_side'],\"kill\"),axis = 1)\n",
    "        base_test_pre[f'death_{posi}_{team}_side'] = base_test_pre.apply(lambda x:busca_aux(team,posi,x[f'champion_{posi}_{team}_side'],\"death\"),axis = 1)\n",
    "        base_test_pre[f'assist_{posi}_{team}_side'] = base_test_pre.apply(lambda x:busca_aux(team,posi,x[f'champion_{posi}_{team}_side'],\"assist\"),axis = 1)\n",
    "        base_test_pre[f'damage_per_minute_{posi}_{team}_side'] = base_test_pre.apply(lambda x:busca_aux(team,posi,x[f'champion_{posi}_{team}_side'],\"dano\"),axis = 1)\n",
    "        base_test_pre[f'gold_per_minute_{posi}_{team}_side'] = base_test_pre.apply(lambda x:busca_aux(team,posi,x[f'champion_{posi}_{team}_side'],\"ouro\"),axis = 1)\n",
    "        base_test_pre[f'vision_per_minute_{posi}_{team}_side'] = base_test_pre.apply(lambda x:busca_aux(team,posi,x[f'champion_{posi}_{team}_side'],\"visao\"),axis = 1)\n",
    "X_test = preprocessed_pipeline.transform(base_test_pre).toarray()\n",
    "y_test = base_test_target.values"
   ]
  },
  {
   "cell_type": "code",
   "execution_count": 105,
   "id": "1bd97d46",
   "metadata": {},
   "outputs": [
    {
     "name": "stdout",
     "output_type": "stream",
     "text": [
      "0.4315108759553204\n"
     ]
    }
   ],
   "source": [
    "#Treinando o modelo\n",
    "y_train_final = y_train\n",
    "X_train_final = X_train.toarray()\n",
    "model.fit(X_train_final,y_train_final)\n",
    "preds = model.predict(X_test)\n",
    "preds = [arredonda(num) for num in preds]\n",
    "print(f1_score(y_test, preds, zero_division=1))"
   ]
  },
  {
   "cell_type": "code",
   "execution_count": 106,
   "id": "663f4a8e",
   "metadata": {},
   "outputs": [
    {
     "data": {
      "image/png": "[encoded data removed]",
      "text/plain": [
       "<Figure size 432x288 with 2 Axes>"
      ]
     },
     "metadata": {
      "needs_background": "light"
     },
     "output_type": "display_data"
    }
   ],
   "source": [
    "import matplotlib.pyplot as plt\n",
    "import numpy\n",
    "from sklearn import metrics\n",
    "\n",
    "actual = y_test\n",
    "predicted = preds\n",
    "\n",
    "confusion_matrix = metrics.confusion_matrix(actual, predicted)\n",
    "\n",
    "cm_display = metrics.ConfusionMatrixDisplay(confusion_matrix = confusion_matrix, display_labels = [False, True])\n",
    "\n",
    "cm_display.plot()\n",
    "plt.show()"
   ]
  },
  {
   "cell_type": "code",
   "execution_count": null,
   "id": "b7031fef",
   "metadata": {},
   "outputs": [],
   "source": []
  }
 ],
 "metadata": {
  "kernelspec": {
   "display_name": "conda_python3",
   "language": "python",
   "name": "conda_python3"
  },
  "language_info": {
   "codemirror_mode": {
    "name": "ipython",
    "version": 3
   },
   "file_extension": ".py",
   "mimetype": "text/x-python",
   "name": "python",
   "nbconvert_exporter": "python",
   "pygments_lexer": "ipython3",
   "version": "3.8.12"
  }
 },
 "nbformat": 4,
 "nbformat_minor": 5
}
