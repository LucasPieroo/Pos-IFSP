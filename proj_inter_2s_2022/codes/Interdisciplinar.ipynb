{
 "cells": [
  {
   "cell_type": "markdown",
   "id": "6d322434",
   "metadata": {},
   "source": [
    "# 0. Imports\n"
   ]
  },
  {
   "cell_type": "code",
   "execution_count": 1,
   "id": "573e30b0",
   "metadata": {},
   "outputs": [],
   "source": [
    "import boto3\n",
    "import pandas as pd\n",
    "from sagemaker import get_execution_role"
   ]
  },
  {
   "cell_type": "markdown",
   "id": "cc740aa0",
   "metadata": {},
   "source": [
    "# 1. O Problema"
   ]
  },
  {
   "cell_type": "markdown",
   "id": "41fbe131",
   "metadata": {},
   "source": [
    "## 1.1 O que é League of legends"
   ]
  },
  {
   "cell_type": "markdown",
   "id": "4a40c305",
   "metadata": {},
   "source": [
    "**League of Legends** (abreviado como **LoL** e comumente referido como League) é um jogo\n",
    "eletrônico do gênero multiplayer online battle arena (MOBA) desenvolvido e publicado pela Riot\n",
    "Games.\n",
    "\n",
    "\n",
    "No jogo, duas equipes de cinco jogadores batalham em um combate jogador contra jogador\n",
    "(PvP), com cada equipe ocupando e defendendo sua metade do mapa. Cada um dos dez\n",
    "jogadores controla um personagem, conhecido como \"campeão\", com habilidades únicas e\n",
    "diferentes estilos de jogo. Durante uma partida, os campeões se tornam mais poderosos ao\n",
    "coletarem pontos de experiência, ganharem ouro e comprarem itens a fim de derrotar a equipe\n",
    "adversária. No modo principal, Summoner's Rift, o objetivo primário é avançar até a base\n",
    "inimiga e destruir uma grande estrutura localizada em seu centro, sob o nome de \"Nexus\n",
    "\n",
    "\n",
    "https://www.youtube.com/watch?v=o-PZtGEHueY&ab_channel=CBLOL"
   ]
  },
  {
   "cell_type": "markdown",
   "id": "8a402957",
   "metadata": {},
   "source": [
    "## 1.2 Desafio"
   ]
  },
  {
   "cell_type": "markdown",
   "id": "006889a6",
   "metadata": {},
   "source": [
    "**Objetivo:**\n",
    "Atualmente o Lol conta com 162 personagens disponiveis para escolha. Enquanto jogamos ou assistimos aos outros jogarem fica evidente que em alguns casos alguns personagens tem vantagens sobre os outros. Mas e se conseguissimos determinar qual a melhor escolha possível de forma a otimizar sua chace de vencer um jogo?\n",
    "\n",
    "O objetivo neste trabalho é criar um modelo que indique os campeões que maximizem a chance de um time vencer após a definição das outras 9 escolhas.\n",
    "\n",
    "O verdadeito game changer.\n",
    "\n",
    "**Planejamento da solução**\n",
    "\n",
    "- Analisar a viabilidade do modelo a partir de dados passados, ou seja com todas as informações que aocnteceram em uma partida\n",
    "- Criar bases auxiliares com estetisticas dos personagens para que possomos criar um modelo a partir apenas dos personagens e alimentando com essas informações auxiliares (observação: Essa base deve conter apenas informações da base treino)\n",
    "- Refazer o treinamento do modelo 1 com as novas indicações de estatisticas\n",
    "- Modelo de regressão\n",
    "- Métricas\n",
    "    - F1-score\n",
    "\n",
    "\n"
   ]
  },
  {
   "cell_type": "markdown",
   "id": "362e8a11",
   "metadata": {},
   "source": [
    "# 2. Fonte de dados"
   ]
  },
  {
   "cell_type": "markdown",
   "id": "72ad072b",
   "metadata": {},
   "source": [
    "## 2.1 Extração API"
   ]
  },
  {
   "cell_type": "markdown",
   "id": "096b5934",
   "metadata": {},
   "source": [
    "O league of legends tem uma API própia para aqueles que desejam analisar os dados das partidas.\n",
    "\n",
    "A API pdoe ser acessada pelo site https://developer.riotgames.com/\n",
    "\n",
    "Neste trabalho foi necessário renovar a key toda a vez que era necessário uma extração de dados, porêm é possível solicitar uma key permanente, mas isso leva algum tempo, e não foi possível usa-la para este trabalho.\n",
    "\n",
    "Por essse motivo o script de extração de dados foi executado na máquina local, extraindo dados das partidas dos 200 melhores jogadores da região do Brasil.\n",
    "\n",
    "O script pode ser encontrado no githhub: **Colocar link aqui**"
   ]
  },
  {
   "cell_type": "markdown",
   "id": "efcf0ab6",
   "metadata": {},
   "source": [
    "## 2.2 Carregando os dados"
   ]
  },
  {
   "cell_type": "code",
   "execution_count": 3,
   "id": "da0e5606",
   "metadata": {},
   "outputs": [],
   "source": [
    "role = get_execution_role()\n",
    "bucket='projeto-interdisciplinar'\n",
    "data_key = 'partidas_detalhadas.xlsx'\n",
    "data_location = 's3://{}/{}'.format(bucket, data_key)\n"
   ]
  },
  {
   "cell_type": "code",
   "execution_count": 4,
   "id": "4b86eccc",
   "metadata": {},
   "outputs": [],
   "source": [
    "base = pd.read_excel(data_location)"
   ]
  },
  {
   "cell_type": "code",
   "execution_count": 5,
   "id": "2896a05f",
   "metadata": {},
   "outputs": [
    {
     "data": {
      "text/html": [
       "<div>\n",
       "<style scoped>\n",
       "    .dataframe tbody tr th:only-of-type {\n",
       "        vertical-align: middle;\n",
       "    }\n",
       "\n",
       "    .dataframe tbody tr th {\n",
       "        vertical-align: top;\n",
       "    }\n",
       "\n",
       "    .dataframe thead th {\n",
       "        text-align: right;\n",
       "    }\n",
       "</style>\n",
       "<table border=\"1\" class=\"dataframe\">\n",
       "  <thead>\n",
       "    <tr style=\"text-align: right;\">\n",
       "      <th></th>\n",
       "      <th>Partida</th>\n",
       "      <th>Tempo</th>\n",
       "      <th>Blue Team Victory</th>\n",
       "      <th>champion_id_Top_blue_side</th>\n",
       "      <th>champion_Top_blue_side</th>\n",
       "      <th>kill_Top_blue_side</th>\n",
       "      <th>death_Top_blue_side</th>\n",
       "      <th>assist_Top_blue_side</th>\n",
       "      <th>damage_per_minute_Top_blue_side</th>\n",
       "      <th>gold_per_minute_Top_blue_side</th>\n",
       "      <th>...</th>\n",
       "      <th>gold_per_minute_Adc_red_side</th>\n",
       "      <th>vision_per_minute_Adc_red_side</th>\n",
       "      <th>champion_id_Sup_red_side</th>\n",
       "      <th>champion_Sup_red_side</th>\n",
       "      <th>kill_Sup_red_side</th>\n",
       "      <th>death_Sup_red_side</th>\n",
       "      <th>assist_Sup_red_side</th>\n",
       "      <th>damage_per_minute_Sup_red_side</th>\n",
       "      <th>gold_per_minute_Sup_red_side</th>\n",
       "      <th>vision_per_minute_Sup_red_side</th>\n",
       "    </tr>\n",
       "  </thead>\n",
       "  <tbody>\n",
       "    <tr>\n",
       "      <th>0</th>\n",
       "      <td>BR1_2607889462</td>\n",
       "      <td>32.950000</td>\n",
       "      <td>False</td>\n",
       "      <td>266</td>\n",
       "      <td>Aatrox</td>\n",
       "      <td>0</td>\n",
       "      <td>1</td>\n",
       "      <td>6</td>\n",
       "      <td>440.169051</td>\n",
       "      <td>390.094271</td>\n",
       "      <td>...</td>\n",
       "      <td>424.966404</td>\n",
       "      <td>1.226336</td>\n",
       "      <td>104.0</td>\n",
       "      <td>Graves</td>\n",
       "      <td>2.0</td>\n",
       "      <td>5.0</td>\n",
       "      <td>2.0</td>\n",
       "      <td>454.543289</td>\n",
       "      <td>375.587076</td>\n",
       "      <td>3.715915</td>\n",
       "    </tr>\n",
       "    <tr>\n",
       "      <th>1</th>\n",
       "      <td>BR1_2607868377</td>\n",
       "      <td>17.466667</td>\n",
       "      <td>False</td>\n",
       "      <td>84</td>\n",
       "      <td>Akali</td>\n",
       "      <td>6</td>\n",
       "      <td>3</td>\n",
       "      <td>0</td>\n",
       "      <td>640.653606</td>\n",
       "      <td>437.823471</td>\n",
       "      <td>...</td>\n",
       "      <td>612.495282</td>\n",
       "      <td>0.466930</td>\n",
       "      <td>412.0</td>\n",
       "      <td>Thresh</td>\n",
       "      <td>1.0</td>\n",
       "      <td>1.0</td>\n",
       "      <td>13.0</td>\n",
       "      <td>232.126795</td>\n",
       "      <td>306.794212</td>\n",
       "      <td>1.136832</td>\n",
       "    </tr>\n",
       "    <tr>\n",
       "      <th>2</th>\n",
       "      <td>BR1_2607843393</td>\n",
       "      <td>16.750000</td>\n",
       "      <td>False</td>\n",
       "      <td>164</td>\n",
       "      <td>Camille</td>\n",
       "      <td>2</td>\n",
       "      <td>4</td>\n",
       "      <td>4</td>\n",
       "      <td>452.764237</td>\n",
       "      <td>375.834466</td>\n",
       "      <td>...</td>\n",
       "      <td>623.614783</td>\n",
       "      <td>0.413094</td>\n",
       "      <td>25.0</td>\n",
       "      <td>Morgana</td>\n",
       "      <td>2.0</td>\n",
       "      <td>1.0</td>\n",
       "      <td>19.0</td>\n",
       "      <td>297.290379</td>\n",
       "      <td>373.592809</td>\n",
       "      <td>1.283953</td>\n",
       "    </tr>\n",
       "    <tr>\n",
       "      <th>3</th>\n",
       "      <td>BR1_2607796695</td>\n",
       "      <td>29.033333</td>\n",
       "      <td>True</td>\n",
       "      <td>164</td>\n",
       "      <td>Camille</td>\n",
       "      <td>6</td>\n",
       "      <td>4</td>\n",
       "      <td>3</td>\n",
       "      <td>688.090085</td>\n",
       "      <td>408.784779</td>\n",
       "      <td>...</td>\n",
       "      <td>463.537844</td>\n",
       "      <td>0.627343</td>\n",
       "      <td>497.0</td>\n",
       "      <td>Rakan</td>\n",
       "      <td>2.0</td>\n",
       "      <td>5.0</td>\n",
       "      <td>7.0</td>\n",
       "      <td>183.642915</td>\n",
       "      <td>247.911209</td>\n",
       "      <td>2.497650</td>\n",
       "    </tr>\n",
       "    <tr>\n",
       "      <th>4</th>\n",
       "      <td>BR1_2607756218</td>\n",
       "      <td>26.400000</td>\n",
       "      <td>True</td>\n",
       "      <td>157</td>\n",
       "      <td>Yasuo</td>\n",
       "      <td>7</td>\n",
       "      <td>0</td>\n",
       "      <td>10</td>\n",
       "      <td>601.782848</td>\n",
       "      <td>549.118970</td>\n",
       "      <td>...</td>\n",
       "      <td>331.528842</td>\n",
       "      <td>0.905511</td>\n",
       "      <td>24.0</td>\n",
       "      <td>Jax</td>\n",
       "      <td>2.0</td>\n",
       "      <td>4.0</td>\n",
       "      <td>0.0</td>\n",
       "      <td>385.149768</td>\n",
       "      <td>342.278600</td>\n",
       "      <td>1.018867</td>\n",
       "    </tr>\n",
       "  </tbody>\n",
       "</table>\n",
       "<p>5 rows × 83 columns</p>\n",
       "</div>"
      ],
      "text/plain": [
       "          Partida      Tempo  Blue Team Victory  champion_id_Top_blue_side  \\\n",
       "0  BR1_2607889462  32.950000              False                        266   \n",
       "1  BR1_2607868377  17.466667              False                         84   \n",
       "2  BR1_2607843393  16.750000              False                        164   \n",
       "3  BR1_2607796695  29.033333               True                        164   \n",
       "4  BR1_2607756218  26.400000               True                        157   \n",
       "\n",
       "  champion_Top_blue_side  kill_Top_blue_side  death_Top_blue_side  \\\n",
       "0                 Aatrox                   0                    1   \n",
       "1                  Akali                   6                    3   \n",
       "2                Camille                   2                    4   \n",
       "3                Camille                   6                    4   \n",
       "4                  Yasuo                   7                    0   \n",
       "\n",
       "   assist_Top_blue_side  damage_per_minute_Top_blue_side  \\\n",
       "0                     6                       440.169051   \n",
       "1                     0                       640.653606   \n",
       "2                     4                       452.764237   \n",
       "3                     3                       688.090085   \n",
       "4                    10                       601.782848   \n",
       "\n",
       "   gold_per_minute_Top_blue_side  ...  gold_per_minute_Adc_red_side  \\\n",
       "0                     390.094271  ...                    424.966404   \n",
       "1                     437.823471  ...                    612.495282   \n",
       "2                     375.834466  ...                    623.614783   \n",
       "3                     408.784779  ...                    463.537844   \n",
       "4                     549.118970  ...                    331.528842   \n",
       "\n",
       "   vision_per_minute_Adc_red_side champion_id_Sup_red_side  \\\n",
       "0                        1.226336                    104.0   \n",
       "1                        0.466930                    412.0   \n",
       "2                        0.413094                     25.0   \n",
       "3                        0.627343                    497.0   \n",
       "4                        0.905511                     24.0   \n",
       "\n",
       "   champion_Sup_red_side  kill_Sup_red_side  death_Sup_red_side  \\\n",
       "0                 Graves                2.0                 5.0   \n",
       "1                 Thresh                1.0                 1.0   \n",
       "2                Morgana                2.0                 1.0   \n",
       "3                  Rakan                2.0                 5.0   \n",
       "4                    Jax                2.0                 4.0   \n",
       "\n",
       "   assist_Sup_red_side  damage_per_minute_Sup_red_side  \\\n",
       "0                  2.0                      454.543289   \n",
       "1                 13.0                      232.126795   \n",
       "2                 19.0                      297.290379   \n",
       "3                  7.0                      183.642915   \n",
       "4                  0.0                      385.149768   \n",
       "\n",
       "   gold_per_minute_Sup_red_side  vision_per_minute_Sup_red_side  \n",
       "0                    375.587076                        3.715915  \n",
       "1                    306.794212                        1.136832  \n",
       "2                    373.592809                        1.283953  \n",
       "3                    247.911209                        2.497650  \n",
       "4                    342.278600                        1.018867  \n",
       "\n",
       "[5 rows x 83 columns]"
      ]
     },
     "execution_count": 5,
     "metadata": {},
     "output_type": "execute_result"
    }
   ],
   "source": [
    "base.head()"
   ]
  },
  {
   "cell_type": "markdown",
   "id": "c4284463",
   "metadata": {},
   "source": [
    "## 2.3 Estrutura dos dados"
   ]
  },
  {
   "cell_type": "code",
   "execution_count": 6,
   "id": "e9434ebc",
   "metadata": {},
   "outputs": [],
   "source": [
    "# como existem alguns dados nulos vamos remove-los para evitar ruidos já que são poucos. Isso não irá afetar nosso modelo final \n",
    "base.dropna(inplace=True)"
   ]
  },
  {
   "cell_type": "code",
   "execution_count": 7,
   "id": "67620c3d",
   "metadata": {},
   "outputs": [
    {
     "name": "stdout",
     "output_type": "stream",
     "text": [
      "<class 'pandas.core.frame.DataFrame'>\n",
      "Int64Index: 35309 entries, 0 to 35324\n",
      "Data columns (total 83 columns):\n",
      " #   Column                              Non-Null Count  Dtype  \n",
      "---  ------                              --------------  -----  \n",
      " 0   Partida                             35309 non-null  object \n",
      " 1   Tempo                               35309 non-null  float64\n",
      " 2   Blue Team Victory                   35309 non-null  bool   \n",
      " 3   champion_id_Top_blue_side           35309 non-null  int64  \n",
      " 4   champion_Top_blue_side              35309 non-null  object \n",
      " 5   kill_Top_blue_side                  35309 non-null  int64  \n",
      " 6   death_Top_blue_side                 35309 non-null  int64  \n",
      " 7   assist_Top_blue_side                35309 non-null  int64  \n",
      " 8   damage_per_minute_Top_blue_side     35309 non-null  float64\n",
      " 9   gold_per_minute_Top_blue_side       35309 non-null  float64\n",
      " 10  vision_per_minute_Top_blue_side     35309 non-null  float64\n",
      " 11  champion_id_Jungle_blue_side        35309 non-null  float64\n",
      " 12  champion_Jungle_blue_side           35309 non-null  object \n",
      " 13  kill_Jungle_blue_side               35309 non-null  float64\n",
      " 14  death_Jungle_blue_side              35309 non-null  float64\n",
      " 15  assist_Jungle_blue_side             35309 non-null  float64\n",
      " 16  damage_per_minute_Jungle_blue_side  35309 non-null  float64\n",
      " 17  gold_per_minute_Jungle_blue_side    35309 non-null  float64\n",
      " 18  vision_per_minute_Jungle_blue_side  35309 non-null  float64\n",
      " 19  champion_id_Mid_blue_side           35309 non-null  float64\n",
      " 20  champion_Mid_blue_side              35309 non-null  object \n",
      " 21  kill_Mid_blue_side                  35309 non-null  float64\n",
      " 22  death_Mid_blue_side                 35309 non-null  float64\n",
      " 23  assist_Mid_blue_side                35309 non-null  float64\n",
      " 24  damage_per_minute_Mid_blue_side     35309 non-null  float64\n",
      " 25  gold_per_minute_Mid_blue_side       35309 non-null  float64\n",
      " 26  vision_per_minute_Mid_blue_side     35309 non-null  float64\n",
      " 27  champion_id_Adc_blue_side           35309 non-null  float64\n",
      " 28  champion_Adc_blue_side              35309 non-null  object \n",
      " 29  kill_Adc_blue_side                  35309 non-null  float64\n",
      " 30  death_Adc_blue_side                 35309 non-null  float64\n",
      " 31  assist_Adc_blue_side                35309 non-null  float64\n",
      " 32  damage_per_minute_Adc_blue_side     35309 non-null  float64\n",
      " 33  gold_per_minute_Adc_blue_side       35309 non-null  float64\n",
      " 34  vision_per_minute_Adc_blue_side     35309 non-null  float64\n",
      " 35  champion_id_Sup_blue_side           35309 non-null  float64\n",
      " 36  champion_Sup_blue_side              35309 non-null  object \n",
      " 37  kill_Sup_blue_side                  35309 non-null  float64\n",
      " 38  death_Sup_blue_side                 35309 non-null  float64\n",
      " 39  assist_Sup_blue_side                35309 non-null  float64\n",
      " 40  damage_per_minute_Sup_blue_side     35309 non-null  float64\n",
      " 41  gold_per_minute_Sup_blue_side       35309 non-null  float64\n",
      " 42  vision_per_minute_Sup_blue_side     35309 non-null  float64\n",
      " 43  champion_id_Top_red_side            35309 non-null  float64\n",
      " 44  champion_Top_red_side               35309 non-null  object \n",
      " 45  kill_Top_red_side                   35309 non-null  float64\n",
      " 46  death_Top_red_side                  35309 non-null  float64\n",
      " 47  assist_Top_red_side                 35309 non-null  float64\n",
      " 48  damage_per_minute_Top_red_side      35309 non-null  float64\n",
      " 49  gold_per_minute_Top_red_side        35309 non-null  float64\n",
      " 50  vision_per_minute_Top_red_side      35309 non-null  float64\n",
      " 51  champion_id_Jungle_red_side         35309 non-null  int64  \n",
      " 52  champion_Jungle_red_side            35309 non-null  object \n",
      " 53  kill_Jungle_red_side                35309 non-null  int64  \n",
      " 54  death_Jungle_red_side               35309 non-null  int64  \n",
      " 55  assist_Jungle_red_side              35309 non-null  int64  \n",
      " 56  damage_per_minute_Jungle_red_side   35309 non-null  float64\n",
      " 57  gold_per_minute_Jungle_red_side     35309 non-null  float64\n",
      " 58  vision_per_minute_Jungle_red_side   35309 non-null  float64\n",
      " 59  champion_id_Mid_red_side            35309 non-null  float64\n",
      " 60  champion_Mid_red_side               35309 non-null  object \n",
      " 61  kill_Mid_red_side                   35309 non-null  float64\n",
      " 62  death_Mid_red_side                  35309 non-null  float64\n",
      " 63  assist_Mid_red_side                 35309 non-null  float64\n",
      " 64  damage_per_minute_Mid_red_side      35309 non-null  float64\n",
      " 65  gold_per_minute_Mid_red_side        35309 non-null  float64\n",
      " 66  vision_per_minute_Mid_red_side      35309 non-null  float64\n",
      " 67  champion_id_Adc_red_side            35309 non-null  float64\n",
      " 68  champion_Adc_red_side               35309 non-null  object \n",
      " 69  kill_Adc_red_side                   35309 non-null  float64\n",
      " 70  death_Adc_red_side                  35309 non-null  float64\n",
      " 71  assist_Adc_red_side                 35309 non-null  float64\n",
      " 72  damage_per_minute_Adc_red_side      35309 non-null  float64\n",
      " 73  gold_per_minute_Adc_red_side        35309 non-null  float64\n",
      " 74  vision_per_minute_Adc_red_side      35309 non-null  float64\n",
      " 75  champion_id_Sup_red_side            35309 non-null  float64\n",
      " 76  champion_Sup_red_side               35309 non-null  object \n",
      " 77  kill_Sup_red_side                   35309 non-null  float64\n",
      " 78  death_Sup_red_side                  35309 non-null  float64\n",
      " 79  assist_Sup_red_side                 35309 non-null  float64\n",
      " 80  damage_per_minute_Sup_red_side      35309 non-null  float64\n",
      " 81  gold_per_minute_Sup_red_side        35309 non-null  float64\n",
      " 82  vision_per_minute_Sup_red_side      35309 non-null  float64\n",
      "dtypes: bool(1), float64(63), int64(8), object(11)\n",
      "memory usage: 22.4+ MB\n"
     ]
    }
   ],
   "source": [
    "base.info()"
   ]
  },
  {
   "cell_type": "markdown",
   "id": "fe405244",
   "metadata": {},
   "source": [
    "Apesar da grande qauntidade de features, podemos resumir as 83 colunas em 11 tipos:\n",
    "\n",
    "- Partida : Código da partida, irrelevante para análise e será retirado na hora da análise\n",
    "\n",
    "- Tempo : Duração da partida                         \n",
    "\n",
    "- Blue Team Victory : Indica a vitória ou derrota do time do lado azul\n",
    "\n",
    "- champion_id_{**Posição**}_{**Time**}_side : Código do campeão escolhido pelo time na posição\n",
    "\n",
    "- champion_{**Posição**}_{**Time**}_side: Nome do campeão escolhido pelo time na posição\n",
    "\n",
    "- kill_{**Posição**}_{**Time**}_side: Abates do campeão escolhido pelo time na posição\n",
    "\n",
    "- death_{**Posição**}_{**Time**}_side: Mortes do campeão escolhido pelo time na posição\n",
    "\n",
    "- assist_{**Posição**}_{**Time**}_side: Assistências do campeão escolhido pelo time na posição\n",
    "\n",
    "- damage_per_minute_{**Posição**}_{**Time**}_side: Dano por minuto do campeão escolhido pelo time na posição\n",
    "\n",
    "- gold_per_minute_{**Posição**}_{**Time**}_side: Ouro ganho por minuto do campeão escolhido pelo time na posição\n",
    "\n",
    "- vision_per_minute_{**Posição**}_{**Time**}_side: Ouro ganho por minuto do campeão escolhido pelo time na posição\n"
   ]
  },
  {
   "cell_type": "markdown",
   "id": "2bdc7293",
   "metadata": {},
   "source": [
    "## 2.4 Pré vizualização"
   ]
  },
  {
   "cell_type": "code",
   "execution_count": 8,
   "id": "2526cb69",
   "metadata": {},
   "outputs": [],
   "source": [
    "posicao = [ \"Top\", \"Jungle\", \"Mid\", \"Adc\", \"Sup\"]\n",
    "times = [\"red\", 'blue']"
   ]
  },
  {
   "cell_type": "code",
   "execution_count": 9,
   "id": "f9a04bed",
   "metadata": {},
   "outputs": [],
   "source": [
    "def display_analise(posicao, time):\n",
    "    colunas = [ f'kill_{posicao}_{time}_side',\n",
    "                f'death_{posicao}_{time}_side',\n",
    "                f'assist_{posicao}_{time}_side',\n",
    "                f'damage_per_minute_{posicao}_{time}_side',\n",
    "                f'gold_per_minute_{posicao}_{time}_side',\n",
    "                f'vision_per_minute_{posicao}_{time}_side']\n",
    "    base_aux = base[colunas]\n",
    "    base_aux.hist(bins=50, figsize=(20,15),color = time)\n",
    "    display()"
   ]
  },
  {
   "cell_type": "code",
   "execution_count": 10,
   "id": "b88e6a58",
   "metadata": {},
   "outputs": [
    {
     "data": {
      "image/png": "[encoded data removed]",
      "text/plain": [
       "<Figure size 1440x1080 with 6 Axes>"
      ]
     },
     "metadata": {
      "needs_background": "light"
     },
     "output_type": "display_data"
    },
    {
     "data": {
      "image/png": "[encoded data removed]",
      "text/plain": [
       "<Figure size 1440x1080 with 6 Axes>"
      ]
     },
     "metadata": {
      "needs_background": "light"
     },
     "output_type": "display_data"
    },
    {
     "data": {
      "image/png": "[encoded data removed]",
      "text/plain": [
       "<Figure size 1440x1080 with 6 Axes>"
      ]
     },
     "metadata": {
      "needs_background": "light"
     },
     "output_type": "display_data"
    },
    {
     "data": {
      "image/png": "[encoded data removed]",
      "text/plain": [
       "<Figure size 1440x1080 with 6 Axes>"
      ]
     },
     "metadata": {
      "needs_background": "light"
     },
     "output_type": "display_data"
    },
    {
     "data": {
      "image/png": "[encoded data removed]",
      "text/plain": [
       "<Figure size 1440x1080 with 6 Axes>"
      ]
     },
     "metadata": {
      "needs_background": "light"
     },
     "output_type": "display_data"
    },
    {
     "data": {
      "image/png": "[encoded data removed]",
      "text/plain": [
       "<Figure size 1440x1080 with 6 Axes>"
      ]
     },
     "metadata": {
      "needs_background": "light"
     },
     "output_type": "display_data"
    },
    {
     "data": {
      "image/png": "[encoded data removed]",
      "text/plain": [
       "<Figure size 1440x1080 with 6 Axes>"
      ]
     },
     "metadata": {
      "needs_background": "light"
     },
     "output_type": "display_data"
    },
    {
     "data": {
      "image/png": "[encoded data removed]",
      "text/plain": [
       "<Figure size 1440x1080 with 6 Axes>"
      ]
     },
     "metadata": {
      "needs_background": "light"
     },
     "output_type": "display_data"
    },
    {
     "data": {
      "image/png": "[encoded data removed]",
      "text/plain": [
       "<Figure size 1440x1080 with 6 Axes>"
      ]
     },
     "metadata": {
      "needs_background": "light"
     },
     "output_type": "display_data"
    },
    {
     "data": {
      "image/png": "[encoded data removed]",
      "text/plain": [
       "<Figure size 1440x1080 with 6 Axes>"
      ]
     },
     "metadata": {
      "needs_background": "light"
     },
     "output_type": "display_data"
    }
   ],
   "source": [
    "for posi in posicao:\n",
    "    for team in times:\n",
    "        display_analise(posi, team)"
   ]
  },
  {
   "cell_type": "markdown",
   "id": "23324931",
   "metadata": {},
   "source": [
    "## 2.5 Treino e teste"
   ]
  },
  {
   "cell_type": "markdown",
   "id": "7f643f04",
   "metadata": {},
   "source": [
    "Checando por dados duplicados"
   ]
  },
  {
   "cell_type": "code",
   "execution_count": 13,
   "id": "a4bdf052",
   "metadata": {},
   "outputs": [
    {
     "data": {
      "text/plain": [
       "True"
      ]
     },
     "execution_count": 13,
     "metadata": {},
     "output_type": "execute_result"
    }
   ],
   "source": [
    "base.duplicated().any()"
   ]
  },
  {
   "cell_type": "code",
   "execution_count": 14,
   "id": "73119dc1",
   "metadata": {},
   "outputs": [
    {
     "data": {
      "text/plain": [
       "27477"
      ]
     },
     "execution_count": 14,
     "metadata": {},
     "output_type": "execute_result"
    }
   ],
   "source": [
    "len(base[\"Partida\"].unique())"
   ]
  },
  {
   "cell_type": "code",
   "execution_count": 15,
   "id": "89088075",
   "metadata": {},
   "outputs": [],
   "source": [
    "base = base.drop_duplicates()"
   ]
  },
  {
   "cell_type": "code",
   "execution_count": 16,
   "id": "c950b728",
   "metadata": {},
   "outputs": [
    {
     "data": {
      "text/plain": [
       "False"
      ]
     },
     "execution_count": 16,
     "metadata": {},
     "output_type": "execute_result"
    }
   ],
   "source": [
    "base.duplicated().any()"
   ]
  },
  {
   "cell_type": "markdown",
   "id": "bb943d81",
   "metadata": {},
   "source": [
    "Ao analisar os dados podemos ver que a feature de visão por minuto apresenta um comportamento estranho próximo ao 0, por enquanto amnteremos esse dado assim, caso necessário após alguns testes podemos fazer algo a respeito disso."
   ]
  },
  {
   "cell_type": "markdown",
   "id": "c16318e5",
   "metadata": {},
   "source": [
    "**Amostras**"
   ]
  },
  {
   "cell_type": "code",
   "execution_count": 17,
   "id": "571377d6",
   "metadata": {},
   "outputs": [],
   "source": [
    "#Vamos remover a coluna que indica a partida\n",
    "base.drop(\"Partida\", axis = 1 , inplace = True)"
   ]
  },
  {
   "cell_type": "code",
   "execution_count": 18,
   "id": "2012f0cc",
   "metadata": {},
   "outputs": [],
   "source": [
    "base.reset_index(inplace= True, drop = True)"
   ]
  },
  {
   "cell_type": "code",
   "execution_count": 19,
   "id": "8ff35ce2",
   "metadata": {},
   "outputs": [],
   "source": [
    "base[\"Blue Team Victory\"] = base[\"Blue Team Victory\"].astype(int)"
   ]
  },
  {
   "cell_type": "code",
   "execution_count": 20,
   "id": "78a48e81",
   "metadata": {},
   "outputs": [],
   "source": [
    "#Removendo os códigos dos campeões\n",
    "for posi in posicao:\n",
    "    for team in times:\n",
    "        base.drop(f\"champion_id_{posi}_{team}_side\", axis = 1 , inplace = True)"
   ]
  },
  {
   "cell_type": "code",
   "execution_count": 21,
   "id": "bfcca80c",
   "metadata": {},
   "outputs": [],
   "source": [
    "from sklearn.model_selection import train_test_split\n",
    "\n",
    "base_train, base_test = train_test_split(base, test_size=0.2, stratify=base['Blue Team Victory'], random_state=42)"
   ]
  },
  {
   "cell_type": "code",
   "execution_count": 22,
   "id": "9ab62513",
   "metadata": {},
   "outputs": [
    {
     "data": {
      "text/plain": [
       "(5496, 72)"
      ]
     },
     "execution_count": 22,
     "metadata": {},
     "output_type": "execute_result"
    }
   ],
   "source": [
    "\n",
    "base_test.shape"
   ]
  },
  {
   "cell_type": "code",
   "execution_count": 23,
   "id": "a6b10435",
   "metadata": {},
   "outputs": [
    {
     "data": {
      "text/plain": [
       "(21981, 72)"
      ]
     },
     "execution_count": 23,
     "metadata": {},
     "output_type": "execute_result"
    }
   ],
   "source": [
    "base_train.shape"
   ]
  },
  {
   "cell_type": "markdown",
   "id": "23f0c07f",
   "metadata": {},
   "source": [
    "**Salvando as bases de treino e teste**"
   ]
  },
  {
   "cell_type": "code",
   "execution_count": 24,
   "id": "ad78bf9c",
   "metadata": {},
   "outputs": [],
   "source": [
    "base_train.to_excel('s3://{}/{}'.format(bucket, \"treino.xlsx\"), index = False)"
   ]
  },
  {
   "cell_type": "code",
   "execution_count": 25,
   "id": "d8c762b0",
   "metadata": {},
   "outputs": [],
   "source": [
    "base_test.to_excel('s3://{}/{}'.format(bucket, \"teste.xlsx\"), index = False)"
   ]
  },
  {
   "cell_type": "code",
   "execution_count": 98,
   "id": "b3d6fea3",
   "metadata": {},
   "outputs": [],
   "source": [
    "base_train = pd.read_excel('s3://{}/{}'.format(bucket, \"treino.xlsx\"))\n",
    "base_test = pd.read_excel('s3://{}/{}'.format(bucket, \"teste.xlsx\"))"
   ]
  },
  {
   "cell_type": "markdown",
   "id": "54c268cb",
   "metadata": {},
   "source": [
    "# 4. Explorando os dados"
   ]
  },
  {
   "cell_type": "markdown",
   "id": "a9816457",
   "metadata": {},
   "source": [
    "Correlação"
   ]
  },
  {
   "cell_type": "code",
   "execution_count": 97,
   "id": "d5abfce3",
   "metadata": {},
   "outputs": [],
   "source": [
    "import matplotlib.pyplot as plt\n",
    "import seaborn as sns\n",
    "import numpy as np"
   ]
  },
  {
   "cell_type": "code",
   "execution_count": 99,
   "id": "91187635",
   "metadata": {},
   "outputs": [
    {
     "data": {
      "text/html": [
       "<div>\n",
       "<style scoped>\n",
       "    .dataframe tbody tr th:only-of-type {\n",
       "        vertical-align: middle;\n",
       "    }\n",
       "\n",
       "    .dataframe tbody tr th {\n",
       "        vertical-align: top;\n",
       "    }\n",
       "\n",
       "    .dataframe thead th {\n",
       "        text-align: right;\n",
       "    }\n",
       "</style>\n",
       "<table border=\"1\" class=\"dataframe\">\n",
       "  <thead>\n",
       "    <tr style=\"text-align: right;\">\n",
       "      <th></th>\n",
       "      <th>Tempo</th>\n",
       "      <th>Blue Team Victory</th>\n",
       "      <th>champion_Top_blue_side</th>\n",
       "      <th>kill_Top_blue_side</th>\n",
       "      <th>death_Top_blue_side</th>\n",
       "      <th>assist_Top_blue_side</th>\n",
       "      <th>damage_per_minute_Top_blue_side</th>\n",
       "      <th>gold_per_minute_Top_blue_side</th>\n",
       "      <th>vision_per_minute_Top_blue_side</th>\n",
       "      <th>champion_Jungle_blue_side</th>\n",
       "      <th>...</th>\n",
       "      <th>damage_per_minute_Adc_red_side</th>\n",
       "      <th>gold_per_minute_Adc_red_side</th>\n",
       "      <th>vision_per_minute_Adc_red_side</th>\n",
       "      <th>champion_Sup_red_side</th>\n",
       "      <th>kill_Sup_red_side</th>\n",
       "      <th>death_Sup_red_side</th>\n",
       "      <th>assist_Sup_red_side</th>\n",
       "      <th>damage_per_minute_Sup_red_side</th>\n",
       "      <th>gold_per_minute_Sup_red_side</th>\n",
       "      <th>vision_per_minute_Sup_red_side</th>\n",
       "    </tr>\n",
       "  </thead>\n",
       "  <tbody>\n",
       "    <tr>\n",
       "      <th>0</th>\n",
       "      <td>29.266667</td>\n",
       "      <td>0</td>\n",
       "      <td>Volibear</td>\n",
       "      <td>6</td>\n",
       "      <td>10</td>\n",
       "      <td>10</td>\n",
       "      <td>784.722757</td>\n",
       "      <td>353.738982</td>\n",
       "      <td>0.617087</td>\n",
       "      <td>XinZhao</td>\n",
       "      <td>...</td>\n",
       "      <td>680.393435</td>\n",
       "      <td>453.649650</td>\n",
       "      <td>0.799200</td>\n",
       "      <td>Lux</td>\n",
       "      <td>2</td>\n",
       "      <td>4</td>\n",
       "      <td>13</td>\n",
       "      <td>500.806074</td>\n",
       "      <td>293.422910</td>\n",
       "      <td>1.680064</td>\n",
       "    </tr>\n",
       "    <tr>\n",
       "      <th>1</th>\n",
       "      <td>19.016667</td>\n",
       "      <td>1</td>\n",
       "      <td>Senna</td>\n",
       "      <td>11</td>\n",
       "      <td>5</td>\n",
       "      <td>37</td>\n",
       "      <td>1121.003060</td>\n",
       "      <td>827.065774</td>\n",
       "      <td>0.000000</td>\n",
       "      <td>Ashe</td>\n",
       "      <td>...</td>\n",
       "      <td>2461.205808</td>\n",
       "      <td>831.737737</td>\n",
       "      <td>0.000000</td>\n",
       "      <td>Khazix</td>\n",
       "      <td>14</td>\n",
       "      <td>7</td>\n",
       "      <td>12</td>\n",
       "      <td>1907.221571</td>\n",
       "      <td>772.750807</td>\n",
       "      <td>0.000000</td>\n",
       "    </tr>\n",
       "    <tr>\n",
       "      <th>2</th>\n",
       "      <td>38.150000</td>\n",
       "      <td>1</td>\n",
       "      <td>Yone</td>\n",
       "      <td>5</td>\n",
       "      <td>8</td>\n",
       "      <td>8</td>\n",
       "      <td>566.449448</td>\n",
       "      <td>398.102979</td>\n",
       "      <td>0.721335</td>\n",
       "      <td>Udyr</td>\n",
       "      <td>...</td>\n",
       "      <td>732.932191</td>\n",
       "      <td>389.362643</td>\n",
       "      <td>0.914738</td>\n",
       "      <td>Vayne</td>\n",
       "      <td>13</td>\n",
       "      <td>12</td>\n",
       "      <td>5</td>\n",
       "      <td>910.745552</td>\n",
       "      <td>471.965892</td>\n",
       "      <td>0.925017</td>\n",
       "    </tr>\n",
       "    <tr>\n",
       "      <th>3</th>\n",
       "      <td>27.316667</td>\n",
       "      <td>1</td>\n",
       "      <td>Viktor</td>\n",
       "      <td>10</td>\n",
       "      <td>5</td>\n",
       "      <td>7</td>\n",
       "      <td>989.688081</td>\n",
       "      <td>517.878877</td>\n",
       "      <td>1.430197</td>\n",
       "      <td>JarvanIV</td>\n",
       "      <td>...</td>\n",
       "      <td>612.118399</td>\n",
       "      <td>433.879960</td>\n",
       "      <td>0.645611</td>\n",
       "      <td>Pyke</td>\n",
       "      <td>2</td>\n",
       "      <td>9</td>\n",
       "      <td>11</td>\n",
       "      <td>295.550529</td>\n",
       "      <td>262.576136</td>\n",
       "      <td>2.606838</td>\n",
       "    </tr>\n",
       "    <tr>\n",
       "      <th>4</th>\n",
       "      <td>25.800000</td>\n",
       "      <td>0</td>\n",
       "      <td>Darius</td>\n",
       "      <td>3</td>\n",
       "      <td>6</td>\n",
       "      <td>2</td>\n",
       "      <td>339.453597</td>\n",
       "      <td>314.396763</td>\n",
       "      <td>0.391590</td>\n",
       "      <td>Karthus</td>\n",
       "      <td>...</td>\n",
       "      <td>471.973528</td>\n",
       "      <td>394.303704</td>\n",
       "      <td>0.881592</td>\n",
       "      <td>Ashe</td>\n",
       "      <td>3</td>\n",
       "      <td>4</td>\n",
       "      <td>14</td>\n",
       "      <td>525.044907</td>\n",
       "      <td>328.411679</td>\n",
       "      <td>2.913609</td>\n",
       "    </tr>\n",
       "    <tr>\n",
       "      <th>...</th>\n",
       "      <td>...</td>\n",
       "      <td>...</td>\n",
       "      <td>...</td>\n",
       "      <td>...</td>\n",
       "      <td>...</td>\n",
       "      <td>...</td>\n",
       "      <td>...</td>\n",
       "      <td>...</td>\n",
       "      <td>...</td>\n",
       "      <td>...</td>\n",
       "      <td>...</td>\n",
       "      <td>...</td>\n",
       "      <td>...</td>\n",
       "      <td>...</td>\n",
       "      <td>...</td>\n",
       "      <td>...</td>\n",
       "      <td>...</td>\n",
       "      <td>...</td>\n",
       "      <td>...</td>\n",
       "      <td>...</td>\n",
       "      <td>...</td>\n",
       "    </tr>\n",
       "    <tr>\n",
       "      <th>21976</th>\n",
       "      <td>29.183333</td>\n",
       "      <td>0</td>\n",
       "      <td>Sylas</td>\n",
       "      <td>6</td>\n",
       "      <td>7</td>\n",
       "      <td>6</td>\n",
       "      <td>676.690278</td>\n",
       "      <td>406.522022</td>\n",
       "      <td>0.496031</td>\n",
       "      <td>Shaco</td>\n",
       "      <td>...</td>\n",
       "      <td>793.329477</td>\n",
       "      <td>576.973831</td>\n",
       "      <td>0.951117</td>\n",
       "      <td>Pyke</td>\n",
       "      <td>6</td>\n",
       "      <td>6</td>\n",
       "      <td>13</td>\n",
       "      <td>351.813995</td>\n",
       "      <td>327.086428</td>\n",
       "      <td>2.616595</td>\n",
       "    </tr>\n",
       "    <tr>\n",
       "      <th>21977</th>\n",
       "      <td>34.583333</td>\n",
       "      <td>1</td>\n",
       "      <td>Yone</td>\n",
       "      <td>7</td>\n",
       "      <td>8</td>\n",
       "      <td>9</td>\n",
       "      <td>1026.255766</td>\n",
       "      <td>451.109560</td>\n",
       "      <td>0.495546</td>\n",
       "      <td>Diana</td>\n",
       "      <td>...</td>\n",
       "      <td>642.594304</td>\n",
       "      <td>390.338694</td>\n",
       "      <td>0.787494</td>\n",
       "      <td>Rakan</td>\n",
       "      <td>0</td>\n",
       "      <td>6</td>\n",
       "      <td>22</td>\n",
       "      <td>273.812114</td>\n",
       "      <td>228.838065</td>\n",
       "      <td>2.353691</td>\n",
       "    </tr>\n",
       "    <tr>\n",
       "      <th>21978</th>\n",
       "      <td>26.233333</td>\n",
       "      <td>1</td>\n",
       "      <td>Akali</td>\n",
       "      <td>7</td>\n",
       "      <td>4</td>\n",
       "      <td>2</td>\n",
       "      <td>568.911238</td>\n",
       "      <td>432.219928</td>\n",
       "      <td>1.114022</td>\n",
       "      <td>Graves</td>\n",
       "      <td>...</td>\n",
       "      <td>602.512518</td>\n",
       "      <td>347.488617</td>\n",
       "      <td>0.160868</td>\n",
       "      <td>Lulu</td>\n",
       "      <td>2</td>\n",
       "      <td>1</td>\n",
       "      <td>9</td>\n",
       "      <td>186.354052</td>\n",
       "      <td>282.480099</td>\n",
       "      <td>1.757298</td>\n",
       "    </tr>\n",
       "    <tr>\n",
       "      <th>21979</th>\n",
       "      <td>20.266667</td>\n",
       "      <td>1</td>\n",
       "      <td>Sion</td>\n",
       "      <td>9</td>\n",
       "      <td>11</td>\n",
       "      <td>28</td>\n",
       "      <td>1135.540557</td>\n",
       "      <td>691.724941</td>\n",
       "      <td>0.000000</td>\n",
       "      <td>Ziggs</td>\n",
       "      <td>...</td>\n",
       "      <td>1918.608284</td>\n",
       "      <td>804.028187</td>\n",
       "      <td>0.000000</td>\n",
       "      <td>Soraka</td>\n",
       "      <td>2</td>\n",
       "      <td>6</td>\n",
       "      <td>41</td>\n",
       "      <td>611.293638</td>\n",
       "      <td>597.865287</td>\n",
       "      <td>0.000000</td>\n",
       "    </tr>\n",
       "    <tr>\n",
       "      <th>21980</th>\n",
       "      <td>37.266667</td>\n",
       "      <td>1</td>\n",
       "      <td>Gragas</td>\n",
       "      <td>2</td>\n",
       "      <td>12</td>\n",
       "      <td>14</td>\n",
       "      <td>653.608679</td>\n",
       "      <td>341.540645</td>\n",
       "      <td>0.678880</td>\n",
       "      <td>Viego</td>\n",
       "      <td>...</td>\n",
       "      <td>598.272288</td>\n",
       "      <td>450.871095</td>\n",
       "      <td>1.428274</td>\n",
       "      <td>Amumu</td>\n",
       "      <td>1</td>\n",
       "      <td>9</td>\n",
       "      <td>25</td>\n",
       "      <td>414.653983</td>\n",
       "      <td>276.821086</td>\n",
       "      <td>2.618960</td>\n",
       "    </tr>\n",
       "  </tbody>\n",
       "</table>\n",
       "<p>21981 rows × 72 columns</p>\n",
       "</div>"
      ],
      "text/plain": [
       "           Tempo  Blue Team Victory champion_Top_blue_side  \\\n",
       "0      29.266667                  0               Volibear   \n",
       "1      19.016667                  1                  Senna   \n",
       "2      38.150000                  1                   Yone   \n",
       "3      27.316667                  1                 Viktor   \n",
       "4      25.800000                  0                 Darius   \n",
       "...          ...                ...                    ...   \n",
       "21976  29.183333                  0                  Sylas   \n",
       "21977  34.583333                  1                   Yone   \n",
       "21978  26.233333                  1                  Akali   \n",
       "21979  20.266667                  1                   Sion   \n",
       "21980  37.266667                  1                 Gragas   \n",
       "\n",
       "       kill_Top_blue_side  death_Top_blue_side  assist_Top_blue_side  \\\n",
       "0                       6                   10                    10   \n",
       "1                      11                    5                    37   \n",
       "2                       5                    8                     8   \n",
       "3                      10                    5                     7   \n",
       "4                       3                    6                     2   \n",
       "...                   ...                  ...                   ...   \n",
       "21976                   6                    7                     6   \n",
       "21977                   7                    8                     9   \n",
       "21978                   7                    4                     2   \n",
       "21979                   9                   11                    28   \n",
       "21980                   2                   12                    14   \n",
       "\n",
       "       damage_per_minute_Top_blue_side  gold_per_minute_Top_blue_side  \\\n",
       "0                           784.722757                     353.738982   \n",
       "1                          1121.003060                     827.065774   \n",
       "2                           566.449448                     398.102979   \n",
       "3                           989.688081                     517.878877   \n",
       "4                           339.453597                     314.396763   \n",
       "...                                ...                            ...   \n",
       "21976                       676.690278                     406.522022   \n",
       "21977                      1026.255766                     451.109560   \n",
       "21978                       568.911238                     432.219928   \n",
       "21979                      1135.540557                     691.724941   \n",
       "21980                       653.608679                     341.540645   \n",
       "\n",
       "       vision_per_minute_Top_blue_side champion_Jungle_blue_side  ...  \\\n",
       "0                             0.617087                   XinZhao  ...   \n",
       "1                             0.000000                      Ashe  ...   \n",
       "2                             0.721335                      Udyr  ...   \n",
       "3                             1.430197                  JarvanIV  ...   \n",
       "4                             0.391590                   Karthus  ...   \n",
       "...                                ...                       ...  ...   \n",
       "21976                         0.496031                     Shaco  ...   \n",
       "21977                         0.495546                     Diana  ...   \n",
       "21978                         1.114022                    Graves  ...   \n",
       "21979                         0.000000                     Ziggs  ...   \n",
       "21980                         0.678880                     Viego  ...   \n",
       "\n",
       "       damage_per_minute_Adc_red_side  gold_per_minute_Adc_red_side  \\\n",
       "0                          680.393435                    453.649650   \n",
       "1                         2461.205808                    831.737737   \n",
       "2                          732.932191                    389.362643   \n",
       "3                          612.118399                    433.879960   \n",
       "4                          471.973528                    394.303704   \n",
       "...                               ...                           ...   \n",
       "21976                      793.329477                    576.973831   \n",
       "21977                      642.594304                    390.338694   \n",
       "21978                      602.512518                    347.488617   \n",
       "21979                     1918.608284                    804.028187   \n",
       "21980                      598.272288                    450.871095   \n",
       "\n",
       "       vision_per_minute_Adc_red_side  champion_Sup_red_side  \\\n",
       "0                            0.799200                    Lux   \n",
       "1                            0.000000                 Khazix   \n",
       "2                            0.914738                  Vayne   \n",
       "3                            0.645611                   Pyke   \n",
       "4                            0.881592                   Ashe   \n",
       "...                               ...                    ...   \n",
       "21976                        0.951117                   Pyke   \n",
       "21977                        0.787494                  Rakan   \n",
       "21978                        0.160868                   Lulu   \n",
       "21979                        0.000000                 Soraka   \n",
       "21980                        1.428274                  Amumu   \n",
       "\n",
       "       kill_Sup_red_side  death_Sup_red_side assist_Sup_red_side  \\\n",
       "0                      2                   4                  13   \n",
       "1                     14                   7                  12   \n",
       "2                     13                  12                   5   \n",
       "3                      2                   9                  11   \n",
       "4                      3                   4                  14   \n",
       "...                  ...                 ...                 ...   \n",
       "21976                  6                   6                  13   \n",
       "21977                  0                   6                  22   \n",
       "21978                  2                   1                   9   \n",
       "21979                  2                   6                  41   \n",
       "21980                  1                   9                  25   \n",
       "\n",
       "       damage_per_minute_Sup_red_side  gold_per_minute_Sup_red_side  \\\n",
       "0                          500.806074                    293.422910   \n",
       "1                         1907.221571                    772.750807   \n",
       "2                          910.745552                    471.965892   \n",
       "3                          295.550529                    262.576136   \n",
       "4                          525.044907                    328.411679   \n",
       "...                               ...                           ...   \n",
       "21976                      351.813995                    327.086428   \n",
       "21977                      273.812114                    228.838065   \n",
       "21978                      186.354052                    282.480099   \n",
       "21979                      611.293638                    597.865287   \n",
       "21980                      414.653983                    276.821086   \n",
       "\n",
       "       vision_per_minute_Sup_red_side  \n",
       "0                            1.680064  \n",
       "1                            0.000000  \n",
       "2                            0.925017  \n",
       "3                            2.606838  \n",
       "4                            2.913609  \n",
       "...                               ...  \n",
       "21976                        2.616595  \n",
       "21977                        2.353691  \n",
       "21978                        1.757298  \n",
       "21979                        0.000000  \n",
       "21980                        2.618960  \n",
       "\n",
       "[21981 rows x 72 columns]"
      ]
     },
     "execution_count": 99,
     "metadata": {},
     "output_type": "execute_result"
    }
   ],
   "source": [
    "base_train"
   ]
  },
  {
   "cell_type": "code",
   "execution_count": 100,
   "id": "3153f197",
   "metadata": {},
   "outputs": [
    {
     "data": {
      "text/plain": [
       "0    11333\n",
       "1    10648\n",
       "Name: Blue Team Victory, dtype: int64"
      ]
     },
     "execution_count": 100,
     "metadata": {},
     "output_type": "execute_result"
    }
   ],
   "source": [
    "base_train[\"Blue Team Victory\"].value_counts()"
   ]
  },
  {
   "cell_type": "code",
   "execution_count": 111,
   "id": "b915124a",
   "metadata": {},
   "outputs": [
    {
     "data": {
      "image/png": "[encoded data removed]",
      "text/plain": [
       "<Figure size 432x288 with 1 Axes>"
      ]
     },
     "metadata": {},
     "output_type": "display_data"
    }
   ],
   "source": [
    "\n",
    "# create random data\n",
    "names=f'Red {round(11333/(11333+10648),2)}', f'Blue {round(10648/(11333+10648),2)}'\n",
    "values=[11333,10648]\n",
    "colors = ['#D0391B', '#496FF0']\n",
    "\n",
    "# Label distance: gives the space between labels and the center of the pie\n",
    "plt.pie(values, labels=names, labeldistance=1.2, wedgeprops = { 'linewidth' : 1, 'edgecolor' : 'white' },colors=colors);\n",
    "plt.show();"
   ]
  },
  {
   "cell_type": "code",
   "execution_count": 24,
   "id": "0c04082b",
   "metadata": {},
   "outputs": [
    {
     "data": {
      "text/html": [
       "<div>\n",
       "<style scoped>\n",
       "    .dataframe tbody tr th:only-of-type {\n",
       "        vertical-align: middle;\n",
       "    }\n",
       "\n",
       "    .dataframe tbody tr th {\n",
       "        vertical-align: top;\n",
       "    }\n",
       "\n",
       "    .dataframe thead th {\n",
       "        text-align: right;\n",
       "    }\n",
       "</style>\n",
       "<table border=\"1\" class=\"dataframe\">\n",
       "  <thead>\n",
       "    <tr style=\"text-align: right;\">\n",
       "      <th></th>\n",
       "      <th>Blue Team Victory</th>\n",
       "    </tr>\n",
       "  </thead>\n",
       "  <tbody>\n",
       "    <tr>\n",
       "      <th>Blue Team Victory</th>\n",
       "      <td>1.000000</td>\n",
       "    </tr>\n",
       "    <tr>\n",
       "      <th>death_Jungle_red_side</th>\n",
       "      <td>0.401020</td>\n",
       "    </tr>\n",
       "    <tr>\n",
       "      <th>assist_Sup_blue_side</th>\n",
       "      <td>0.391659</td>\n",
       "    </tr>\n",
       "    <tr>\n",
       "      <th>gold_per_minute_Jungle_blue_side</th>\n",
       "      <td>0.371917</td>\n",
       "    </tr>\n",
       "    <tr>\n",
       "      <th>death_Adc_red_side</th>\n",
       "      <td>0.356042</td>\n",
       "    </tr>\n",
       "    <tr>\n",
       "      <th>gold_per_minute_Adc_blue_side</th>\n",
       "      <td>0.350534</td>\n",
       "    </tr>\n",
       "    <tr>\n",
       "      <th>death_Sup_red_side</th>\n",
       "      <td>0.341440</td>\n",
       "    </tr>\n",
       "    <tr>\n",
       "      <th>death_Mid_red_side</th>\n",
       "      <td>0.338793</td>\n",
       "    </tr>\n",
       "    <tr>\n",
       "      <th>death_Top_red_side</th>\n",
       "      <td>0.330939</td>\n",
       "    </tr>\n",
       "    <tr>\n",
       "      <th>kill_Jungle_blue_side</th>\n",
       "      <td>0.320053</td>\n",
       "    </tr>\n",
       "    <tr>\n",
       "      <th>gold_per_minute_Mid_blue_side</th>\n",
       "      <td>0.312686</td>\n",
       "    </tr>\n",
       "    <tr>\n",
       "      <th>gold_per_minute_Top_blue_side</th>\n",
       "      <td>0.302395</td>\n",
       "    </tr>\n",
       "    <tr>\n",
       "      <th>kill_Adc_blue_side</th>\n",
       "      <td>0.301737</td>\n",
       "    </tr>\n",
       "    <tr>\n",
       "      <th>kill_Mid_blue_side</th>\n",
       "      <td>0.277243</td>\n",
       "    </tr>\n",
       "    <tr>\n",
       "      <th>assist_Jungle_blue_side</th>\n",
       "      <td>0.269543</td>\n",
       "    </tr>\n",
       "    <tr>\n",
       "      <th>assist_Adc_blue_side</th>\n",
       "      <td>0.261847</td>\n",
       "    </tr>\n",
       "    <tr>\n",
       "      <th>kill_Top_blue_side</th>\n",
       "      <td>0.250528</td>\n",
       "    </tr>\n",
       "    <tr>\n",
       "      <th>assist_Mid_blue_side</th>\n",
       "      <td>0.238316</td>\n",
       "    </tr>\n",
       "    <tr>\n",
       "      <th>assist_Top_blue_side</th>\n",
       "      <td>0.211951</td>\n",
       "    </tr>\n",
       "    <tr>\n",
       "      <th>damage_per_minute_Adc_blue_side</th>\n",
       "      <td>0.209154</td>\n",
       "    </tr>\n",
       "    <tr>\n",
       "      <th>damage_per_minute_Jungle_blue_side</th>\n",
       "      <td>0.203818</td>\n",
       "    </tr>\n",
       "    <tr>\n",
       "      <th>gold_per_minute_Sup_blue_side</th>\n",
       "      <td>0.203683</td>\n",
       "    </tr>\n",
       "    <tr>\n",
       "      <th>damage_per_minute_Mid_blue_side</th>\n",
       "      <td>0.187967</td>\n",
       "    </tr>\n",
       "    <tr>\n",
       "      <th>damage_per_minute_Top_blue_side</th>\n",
       "      <td>0.166087</td>\n",
       "    </tr>\n",
       "    <tr>\n",
       "      <th>kill_Sup_blue_side</th>\n",
       "      <td>0.127992</td>\n",
       "    </tr>\n",
       "  </tbody>\n",
       "</table>\n",
       "</div>"
      ],
      "text/plain": [
       "                                    Blue Team Victory\n",
       "Blue Team Victory                            1.000000\n",
       "death_Jungle_red_side                        0.401020\n",
       "assist_Sup_blue_side                         0.391659\n",
       "gold_per_minute_Jungle_blue_side             0.371917\n",
       "death_Adc_red_side                           0.356042\n",
       "gold_per_minute_Adc_blue_side                0.350534\n",
       "death_Sup_red_side                           0.341440\n",
       "death_Mid_red_side                           0.338793\n",
       "death_Top_red_side                           0.330939\n",
       "kill_Jungle_blue_side                        0.320053\n",
       "gold_per_minute_Mid_blue_side                0.312686\n",
       "gold_per_minute_Top_blue_side                0.302395\n",
       "kill_Adc_blue_side                           0.301737\n",
       "kill_Mid_blue_side                           0.277243\n",
       "assist_Jungle_blue_side                      0.269543\n",
       "assist_Adc_blue_side                         0.261847\n",
       "kill_Top_blue_side                           0.250528\n",
       "assist_Mid_blue_side                         0.238316\n",
       "assist_Top_blue_side                         0.211951\n",
       "damage_per_minute_Adc_blue_side              0.209154\n",
       "damage_per_minute_Jungle_blue_side           0.203818\n",
       "gold_per_minute_Sup_blue_side                0.203683\n",
       "damage_per_minute_Mid_blue_side              0.187967\n",
       "damage_per_minute_Top_blue_side              0.166087\n",
       "kill_Sup_blue_side                           0.127992"
      ]
     },
     "execution_count": 24,
     "metadata": {},
     "output_type": "execute_result"
    }
   ],
   "source": [
    "base_train.corr()[\"Blue Team Victory\"].sort_values(ascending=False).to_frame().head(25)"
   ]
  },
  {
   "cell_type": "code",
   "execution_count": 25,
   "id": "4f7fa6ee",
   "metadata": {},
   "outputs": [
    {
     "data": {
      "text/html": [
       "<div>\n",
       "<style scoped>\n",
       "    .dataframe tbody tr th:only-of-type {\n",
       "        vertical-align: middle;\n",
       "    }\n",
       "\n",
       "    .dataframe tbody tr th {\n",
       "        vertical-align: top;\n",
       "    }\n",
       "\n",
       "    .dataframe thead th {\n",
       "        text-align: right;\n",
       "    }\n",
       "</style>\n",
       "<table border=\"1\" class=\"dataframe\">\n",
       "  <thead>\n",
       "    <tr style=\"text-align: right;\">\n",
       "      <th></th>\n",
       "      <th>Blue Team Victory</th>\n",
       "    </tr>\n",
       "  </thead>\n",
       "  <tbody>\n",
       "    <tr>\n",
       "      <th>death_Jungle_blue_side</th>\n",
       "      <td>-0.398823</td>\n",
       "    </tr>\n",
       "    <tr>\n",
       "      <th>assist_Sup_red_side</th>\n",
       "      <td>-0.385561</td>\n",
       "    </tr>\n",
       "    <tr>\n",
       "      <th>death_Adc_blue_side</th>\n",
       "      <td>-0.353507</td>\n",
       "    </tr>\n",
       "    <tr>\n",
       "      <th>death_Sup_blue_side</th>\n",
       "      <td>-0.340332</td>\n",
       "    </tr>\n",
       "    <tr>\n",
       "      <th>death_Mid_blue_side</th>\n",
       "      <td>-0.335401</td>\n",
       "    </tr>\n",
       "    <tr>\n",
       "      <th>gold_per_minute_Adc_red_side</th>\n",
       "      <td>-0.333843</td>\n",
       "    </tr>\n",
       "    <tr>\n",
       "      <th>death_Top_blue_side</th>\n",
       "      <td>-0.332824</td>\n",
       "    </tr>\n",
       "    <tr>\n",
       "      <th>gold_per_minute_Jungle_red_side</th>\n",
       "      <td>-0.332033</td>\n",
       "    </tr>\n",
       "    <tr>\n",
       "      <th>kill_Adc_red_side</th>\n",
       "      <td>-0.308952</td>\n",
       "    </tr>\n",
       "    <tr>\n",
       "      <th>kill_Jungle_red_side</th>\n",
       "      <td>-0.307718</td>\n",
       "    </tr>\n",
       "    <tr>\n",
       "      <th>gold_per_minute_Mid_red_side</th>\n",
       "      <td>-0.282316</td>\n",
       "    </tr>\n",
       "    <tr>\n",
       "      <th>kill_Mid_red_side</th>\n",
       "      <td>-0.277430</td>\n",
       "    </tr>\n",
       "    <tr>\n",
       "      <th>gold_per_minute_Top_red_side</th>\n",
       "      <td>-0.263301</td>\n",
       "    </tr>\n",
       "    <tr>\n",
       "      <th>assist_Jungle_red_side</th>\n",
       "      <td>-0.248029</td>\n",
       "    </tr>\n",
       "    <tr>\n",
       "      <th>kill_Top_red_side</th>\n",
       "      <td>-0.240794</td>\n",
       "    </tr>\n",
       "    <tr>\n",
       "      <th>assist_Adc_red_side</th>\n",
       "      <td>-0.234612</td>\n",
       "    </tr>\n",
       "    <tr>\n",
       "      <th>assist_Mid_red_side</th>\n",
       "      <td>-0.214380</td>\n",
       "    </tr>\n",
       "    <tr>\n",
       "      <th>assist_Top_red_side</th>\n",
       "      <td>-0.193661</td>\n",
       "    </tr>\n",
       "    <tr>\n",
       "      <th>damage_per_minute_Adc_red_side</th>\n",
       "      <td>-0.193059</td>\n",
       "    </tr>\n",
       "    <tr>\n",
       "      <th>damage_per_minute_Jungle_red_side</th>\n",
       "      <td>-0.177162</td>\n",
       "    </tr>\n",
       "    <tr>\n",
       "      <th>gold_per_minute_Sup_red_side</th>\n",
       "      <td>-0.175097</td>\n",
       "    </tr>\n",
       "    <tr>\n",
       "      <th>damage_per_minute_Mid_red_side</th>\n",
       "      <td>-0.172653</td>\n",
       "    </tr>\n",
       "    <tr>\n",
       "      <th>vision_per_minute_Adc_red_side</th>\n",
       "      <td>-0.147609</td>\n",
       "    </tr>\n",
       "    <tr>\n",
       "      <th>damage_per_minute_Top_red_side</th>\n",
       "      <td>-0.144876</td>\n",
       "    </tr>\n",
       "    <tr>\n",
       "      <th>vision_per_minute_Mid_red_side</th>\n",
       "      <td>-0.131286</td>\n",
       "    </tr>\n",
       "  </tbody>\n",
       "</table>\n",
       "</div>"
      ],
      "text/plain": [
       "                                   Blue Team Victory\n",
       "death_Jungle_blue_side                     -0.398823\n",
       "assist_Sup_red_side                        -0.385561\n",
       "death_Adc_blue_side                        -0.353507\n",
       "death_Sup_blue_side                        -0.340332\n",
       "death_Mid_blue_side                        -0.335401\n",
       "gold_per_minute_Adc_red_side               -0.333843\n",
       "death_Top_blue_side                        -0.332824\n",
       "gold_per_minute_Jungle_red_side            -0.332033\n",
       "kill_Adc_red_side                          -0.308952\n",
       "kill_Jungle_red_side                       -0.307718\n",
       "gold_per_minute_Mid_red_side               -0.282316\n",
       "kill_Mid_red_side                          -0.277430\n",
       "gold_per_minute_Top_red_side               -0.263301\n",
       "assist_Jungle_red_side                     -0.248029\n",
       "kill_Top_red_side                          -0.240794\n",
       "assist_Adc_red_side                        -0.234612\n",
       "assist_Mid_red_side                        -0.214380\n",
       "assist_Top_red_side                        -0.193661\n",
       "damage_per_minute_Adc_red_side             -0.193059\n",
       "damage_per_minute_Jungle_red_side          -0.177162\n",
       "gold_per_minute_Sup_red_side               -0.175097\n",
       "damage_per_minute_Mid_red_side             -0.172653\n",
       "vision_per_minute_Adc_red_side             -0.147609\n",
       "damage_per_minute_Top_red_side             -0.144876\n",
       "vision_per_minute_Mid_red_side             -0.131286"
      ]
     },
     "execution_count": 25,
     "metadata": {},
     "output_type": "execute_result"
    }
   ],
   "source": [
    "base_train.corr()[\"Blue Team Victory\"].sort_values(ascending=True).to_frame().head(25)"
   ]
  },
  {
   "cell_type": "markdown",
   "id": "6cb9ea55",
   "metadata": {},
   "source": [
    "Vamos criar um modelo de treinamento baseado primeiramente em todas as features e depois apenas com as 10 features mais relevantes para cada time."
   ]
  },
  {
   "cell_type": "code",
   "execution_count": 9,
   "id": "9ed39736",
   "metadata": {},
   "outputs": [],
   "source": [
    "relevantes_10 = [  'assist_Sup_blue_side',\n",
    "                'gold_per_minute_Jungle_blue_side' ,\n",
    "                'gold_per_minute_Adc_blue_side' ,\n",
    "                'kill_Jungle_blue_side' ,\n",
    "                'gold_per_minute_Mid_blue_side' ,\n",
    "                'gold_per_minute_Top_blue_side' ,\n",
    "                'kill_Adc_blue_side' ,\n",
    "                'kill_Mid_blue_side' ,\n",
    "                'assist_Jungle_blue_side' ,\n",
    "                'assist_Adc_blue_side',\n",
    "                'assist_Sup_red_side' ,\n",
    "                'gold_per_minute_Adc_red_side' ,\n",
    "                'gold_per_minute_Jungle_red_side' ,\n",
    "                'kill_Adc_red_side' ,\n",
    "                'kill_Jungle_red_side' ,\n",
    "                'gold_per_minute_Mid_red_side' ,\n",
    "                'kill_Mid_red_side' ,\n",
    "                'gold_per_minute_Top_red_side' ,\n",
    "                'assist_Jungle_red_side' ,\n",
    "                'kill_Top_red_side' ]"
   ]
  },
  {
   "cell_type": "markdown",
   "id": "81ff47c6",
   "metadata": {},
   "source": [
    "# 5. Preparando os dados"
   ]
  },
  {
   "cell_type": "markdown",
   "id": "9351a8bd",
   "metadata": {},
   "source": [
    "## 5.1 Separando o target do resto"
   ]
  },
  {
   "cell_type": "code",
   "execution_count": 10,
   "id": "8803f213",
   "metadata": {},
   "outputs": [],
   "source": [
    "# separando o target do resto\n",
    "base_train_pre = base_train.drop(columns=['Blue Team Victory'])\n",
    "base_train_target = base_train['Blue Team Victory'].copy()"
   ]
  },
  {
   "cell_type": "markdown",
   "id": "d3382c13",
   "metadata": {},
   "source": [
    "## 5.2 Separando Variáveis categóricas do resto"
   ]
  },
  {
   "cell_type": "code",
   "execution_count": 11,
   "id": "84a348e8",
   "metadata": {},
   "outputs": [],
   "source": [
    "# categorical\n",
    "categorical = []\n",
    "for posi in posicao:\n",
    "    for team in times:\n",
    "        categorical.append(f\"champion_{posi}_{team}_side\")\n",
    "\n",
    "\n",
    "# numerical atributes\n",
    "num_attributes = base_train_pre.columns.drop(categorical)\n",
    "#num_attributes = base_train_pre.columns.drop(\"Tempo\")\n",
    "\n",
    "# separating the features\n",
    "base_train_pre_num = base_train_pre[num_attributes]\n",
    "base_train_pre_cat = base_train_pre[categorical]"
   ]
  },
  {
   "cell_type": "markdown",
   "id": "02213fc6",
   "metadata": {},
   "source": [
    "## 5.3 Pipeline"
   ]
  },
  {
   "cell_type": "code",
   "execution_count": 12,
   "id": "0c9cefac",
   "metadata": {},
   "outputs": [],
   "source": [
    "from sklearn.impute import SimpleImputer\n",
    "from sklearn.preprocessing import RobustScaler\n",
    "from sklearn.preprocessing import OneHotEncoder\n",
    "\n",
    "from sklearn.pipeline import Pipeline\n",
    "from sklearn.compose import ColumnTransformer\n",
    "\n",
    "num_pipeline = Pipeline([\n",
    "    ('imputer', SimpleImputer(strategy='median')),\n",
    "    ('robust_scaler', RobustScaler())\n",
    "])\n",
    "\n",
    "\n",
    "cat_pipeline = Pipeline([\n",
    "    ('imputer', SimpleImputer(strategy='most_frequent')),  # as the categories are numbers, we can use the SimpleImputer\n",
    "    ('one-hot-encoding', OneHotEncoder(handle_unknown='ignore'))\n",
    "])\n",
    "\n",
    "\n",
    "# (name, transformer, columns)\n",
    "preprocessed_pipeline = ColumnTransformer([\n",
    "    ('numerical', num_pipeline, num_attributes),\n",
    "    ('categorical', cat_pipeline, categorical)\n",
    "])"
   ]
  },
  {
   "cell_type": "markdown",
   "id": "81143143",
   "metadata": {},
   "source": [
    "## 5.4 Pipeline secundaria"
   ]
  },
  {
   "cell_type": "code",
   "execution_count": 13,
   "id": "81917ee6",
   "metadata": {},
   "outputs": [],
   "source": [
    "# categorical\n",
    "categorical_2 = []\n",
    "for posi in posicao:\n",
    "    for team in times:\n",
    "        categorical_2.append(f\"champion_{posi}_{team}_side\")\n",
    "\n",
    "# separating the features\n",
    "base_train_pre_num = base_train_pre[relevantes_10]\n",
    "base_train_pre_cat = base_train_pre[categorical_2]\n",
    "\n",
    "\n",
    "\n",
    "num_pipeline_2 = Pipeline([\n",
    "    ('imputer', SimpleImputer(strategy='median')),\n",
    "    ('robust_scaler', RobustScaler())\n",
    "])\n",
    "\n",
    "\n",
    "cat_pipeline_2 = Pipeline([\n",
    "    ('imputer', SimpleImputer(strategy='most_frequent')),  # as the categories are numbers, we can use the SimpleImputer\n",
    "    ('one-hot-encoding', OneHotEncoder(handle_unknown='ignore'))\n",
    "])\n",
    "\n",
    "\n",
    "# (name, transformer, columns)\n",
    "preprocessed_pipeline_nova = ColumnTransformer([\n",
    "    ('numerical', num_pipeline_2, relevantes_10),\n",
    "    ('categorical', cat_pipeline_2, categorical_2)\n",
    "])"
   ]
  },
  {
   "cell_type": "markdown",
   "id": "c9afbcad",
   "metadata": {},
   "source": [
    "# 6. Seleção de modelos inicial"
   ]
  },
  {
   "cell_type": "code",
   "execution_count": 14,
   "id": "26ccedca",
   "metadata": {},
   "outputs": [
    {
     "data": {
      "text/plain": [
       "(21981, 1680)"
      ]
     },
     "execution_count": 14,
     "metadata": {},
     "output_type": "execute_result"
    }
   ],
   "source": [
    "X_train = preprocessed_pipeline.fit_transform(base_train_pre)\n",
    "X_train.shape"
   ]
  },
  {
   "cell_type": "code",
   "execution_count": 15,
   "id": "ec9dfc64",
   "metadata": {},
   "outputs": [],
   "source": [
    "X_train_compress = preprocessed_pipeline_nova.fit_transform(base_train_pre[relevantes_10+categorical_2])"
   ]
  },
  {
   "cell_type": "code",
   "execution_count": 16,
   "id": "dc86c3d4",
   "metadata": {},
   "outputs": [],
   "source": [
    "y_train = base_train_target"
   ]
  },
  {
   "cell_type": "code",
   "execution_count": 14,
   "id": "09794b51",
   "metadata": {},
   "outputs": [],
   "source": [
    "# printing function\n",
    "import statistics\n",
    "def display_scores(scores):\n",
    "    print(\"Scores:\", scores)\n",
    "    try:\n",
    "        print(\"\\nMean:\", scores.mean())\n",
    "        print(\"Standard deviation:\", scores.std())\n",
    "    except:\n",
    "        print(\"\\nMean:\", statistics.mean(scores))\n",
    "        print(\"Standard deviation:\", statistics.stdev(scores))"
   ]
  },
  {
   "cell_type": "markdown",
   "id": "8527c8ed",
   "metadata": {},
   "source": [
    "## 6.1 Modelos classificadores"
   ]
  },
  {
   "cell_type": "code",
   "execution_count": 15,
   "id": "ce061125",
   "metadata": {},
   "outputs": [],
   "source": [
    "import warnings\n",
    "warnings.filterwarnings(\"ignore\")"
   ]
  },
  {
   "cell_type": "code",
   "execution_count": 16,
   "id": "83e9bf67",
   "metadata": {},
   "outputs": [],
   "source": [
    "from sklearn.model_selection import cross_val_score , cross_val_predict\n",
    "from sklearn.neighbors import KNeighborsClassifier\n",
    "from sklearn.svm import SVC, LinearSVC, NuSVC\n",
    "from sklearn.tree import DecisionTreeClassifier\n",
    "from sklearn.ensemble import RandomForestClassifier, AdaBoostClassifier, GradientBoostingClassifier\n",
    "from sklearn.linear_model import LogisticRegression\n",
    "from sklearn.metrics import f1_score\n",
    "from sklearn.model_selection import KFold"
   ]
  },
  {
   "cell_type": "code",
   "execution_count": 17,
   "id": "91d12631",
   "metadata": {},
   "outputs": [],
   "source": [
    "def teste_modelos( modelo , treino_full , treino_relevantes, treino_target):\n",
    "    print(\"---------- Treino Full -----------\")\n",
    "    avaliar_full = cross_val_score(modelo, treino_full, treino_target, scoring=\"f1\", cv=10)\n",
    "    display_scores(avaliar_full)\n",
    "    print(\"---------- Treino relevantes -----------\")\n",
    "    avaliar_compacto = cross_val_score(modelo, treino_relevantes, treino_target, scoring=\"f1\", cv=10)\n",
    "    display_scores(avaliar_compacto)"
   ]
  },
  {
   "cell_type": "markdown",
   "id": "3b1cb880",
   "metadata": {},
   "source": [
    "### 6.1.1 KNN"
   ]
  },
  {
   "cell_type": "code",
   "execution_count": 45,
   "id": "7a117638",
   "metadata": {},
   "outputs": [
    {
     "name": "stdout",
     "output_type": "stream",
     "text": [
      "---------- Treino Full -----------\n",
      "Scores: [0.92769953 0.93040991 0.92850511 0.93432007 0.91856061 0.92565056\n",
      " 0.92336802 0.92307692 0.93080569 0.91825095 0.91115312 0.91346154\n",
      " 0.93142857 0.93457944 0.92775665 0.9273743  0.92205323 0.91753555\n",
      " 0.93506494 0.92509363]\n",
      "\n",
      "Mean: 0.9253074170816186\n",
      "Standard deviation: 0.006701620729891724\n",
      "---------- Treino relevantes -----------\n",
      "Scores: [0.92465116 0.9280303  0.90926099 0.93023256 0.93245779 0.92063492\n",
      " 0.92526017 0.91557223 0.92107707 0.91690009 0.91369606 0.9111319\n",
      " 0.91471415 0.93572779 0.92       0.92048644 0.91627469 0.92469018\n",
      " 0.93106704 0.92931197]\n",
      "\n",
      "Mean: 0.9220588754585435\n",
      "Standard deviation: 0.007328048167011828\n"
     ]
    }
   ],
   "source": [
    "teste_modelos( KNeighborsClassifier() , X_train , X_train_compress, y_train)"
   ]
  },
  {
   "cell_type": "markdown",
   "id": "e49c0d37",
   "metadata": {},
   "source": [
    "### 6.1.2 SVC"
   ]
  },
  {
   "cell_type": "code",
   "execution_count": 46,
   "id": "2d7d753c",
   "metadata": {},
   "outputs": [
    {
     "name": "stdout",
     "output_type": "stream",
     "text": [
      "---------- Treino Full -----------\n",
      "Scores: [0.96545285 0.97282099 0.97191011 0.97378277 0.96707432 0.97089202\n",
      " 0.96986817 0.96635514 0.97744361 0.95692884 0.96545285 0.95798319\n",
      " 0.95970009 0.96525822 0.97276995 0.96089385 0.96525822 0.96310312\n",
      " 0.96913003 0.96157451]\n",
      "\n",
      "Mean: 0.9666826427954474\n",
      "Standard deviation: 0.0054838860441932735\n",
      "---------- Treino relevantes -----------\n",
      "Scores: [0.96992481 0.97110904 0.96060038 0.9637883  0.97185741 0.96545285\n",
      " 0.96030246 0.95732839 0.95586854 0.9544186  0.95497186 0.94924812\n",
      " 0.95586854 0.96240602 0.96135721 0.95530726 0.95813953 0.96091516\n",
      " 0.96435272 0.95692884]\n",
      "\n",
      "Mean: 0.9605073020579141\n",
      "Standard deviation: 0.005820406744395805\n"
     ]
    }
   ],
   "source": [
    "teste_modelos( SVC() , X_train , X_train_compress, y_train)"
   ]
  },
  {
   "cell_type": "markdown",
   "id": "c40dd9af",
   "metadata": {},
   "source": [
    "### 6.1.3 DecisionTreeClassifier"
   ]
  },
  {
   "cell_type": "code",
   "execution_count": 21,
   "id": "0a688f98",
   "metadata": {},
   "outputs": [
    {
     "name": "stdout",
     "output_type": "stream",
     "text": [
      "---------- Treino Full -----------\n",
      "Scores: [0.86228112 0.86614173 0.86903648 0.86276347 0.86344439 0.8489757\n",
      " 0.84713677 0.86087768 0.85700802 0.86647993]\n",
      "\n",
      "Mean: 0.8604145297659113\n",
      "Standard deviation: 0.006935950324615867\n",
      "---------- Treino relevantes -----------\n",
      "Scores: [0.87388654 0.86842105 0.86750349 0.87494189 0.8682243  0.85256712\n",
      " 0.8587624  0.86635071 0.86622391 0.86283816]\n",
      "\n",
      "Mean: 0.8659719570671539\n",
      "Standard deviation: 0.006310404079709598\n"
     ]
    }
   ],
   "source": [
    "teste_modelos( DecisionTreeClassifier() , X_train , X_train_compress, y_train)"
   ]
  },
  {
   "cell_type": "markdown",
   "id": "5059780c",
   "metadata": {},
   "source": [
    "### 6.1.4 RandomForestClassifier"
   ]
  },
  {
   "cell_type": "code",
   "execution_count": 22,
   "id": "38c9a67d",
   "metadata": {},
   "outputs": [
    {
     "name": "stdout",
     "output_type": "stream",
     "text": [
      "---------- Treino Full -----------\n",
      "Scores: [0.94607379 0.94057089 0.94412879 0.9402277  0.93655303 0.93604927\n",
      " 0.94418165 0.93879473 0.9379771  0.95026054]\n",
      "\n",
      "Mean: 0.9414817487813485\n",
      "Standard deviation: 0.004337734344776206\n",
      "---------- Treino relevantes -----------\n",
      "Scores: [0.94460094 0.93383388 0.93358279 0.9275911  0.92883895 0.93194707\n",
      " 0.93434105 0.93126177 0.93029872 0.93446488]\n",
      "\n",
      "Mean: 0.9330761145107932\n",
      "Standard deviation: 0.004444104356167958\n"
     ]
    }
   ],
   "source": [
    "teste_modelos( RandomForestClassifier() , X_train , X_train_compress, y_train)"
   ]
  },
  {
   "cell_type": "markdown",
   "id": "aa5639b7",
   "metadata": {},
   "source": [
    "### 6.1.5 AdaBoostClassifier"
   ]
  },
  {
   "cell_type": "code",
   "execution_count": 23,
   "id": "928a2476",
   "metadata": {},
   "outputs": [
    {
     "name": "stdout",
     "output_type": "stream",
     "text": [
      "---------- Treino Full -----------\n",
      "Scores: [0.94870588 0.9309057  0.94470478 0.94128699 0.93005671 0.93206651\n",
      " 0.93829487 0.93426573 0.93962264 0.93464974]\n",
      "\n",
      "Mean: 0.9374559548957251\n",
      "Standard deviation: 0.005864594122625226\n",
      "---------- Treino relevantes -----------\n",
      "Scores: [0.94007491 0.93208431 0.93314633 0.93056212 0.92602996 0.91975598\n",
      " 0.93527205 0.92329545 0.92772792 0.92531705]\n",
      "\n",
      "Mean: 0.9293266074112239\n",
      "Standard deviation: 0.005762531758220728\n"
     ]
    }
   ],
   "source": [
    "teste_modelos( AdaBoostClassifier() , X_train , X_train_compress, y_train)"
   ]
  },
  {
   "cell_type": "markdown",
   "id": "3f24dd06",
   "metadata": {},
   "source": [
    "### 6.1.6 GradientBoostingClassifier"
   ]
  },
  {
   "cell_type": "code",
   "execution_count": 24,
   "id": "2cd4856b",
   "metadata": {},
   "outputs": [
    {
     "name": "stdout",
     "output_type": "stream",
     "text": [
      "---------- Treino Full -----------\n",
      "Scores: [0.96094118 0.95393206 0.95725693 0.95287465 0.94894614 0.95040151\n",
      " 0.95291902 0.95023474 0.95130024 0.94889827]\n",
      "\n",
      "Mean: 0.952770472425424\n",
      "Standard deviation: 0.0036344729277052795\n",
      "---------- Treino relevantes -----------\n",
      "Scores: [0.95175644 0.94845361 0.94387278 0.94642857 0.93408135 0.93752936\n",
      " 0.9462771  0.94211765 0.9465721  0.94657919]\n",
      "\n",
      "Mean: 0.9443668143341302\n",
      "Standard deviation: 0.004968006740419588\n"
     ]
    }
   ],
   "source": [
    "teste_modelos( GradientBoostingClassifier() , X_train , X_train_compress, y_train)"
   ]
  },
  {
   "cell_type": "markdown",
   "id": "0b654120",
   "metadata": {},
   "source": [
    "### 6.1.7 Regressor logistico"
   ]
  },
  {
   "cell_type": "code",
   "execution_count": 26,
   "id": "c0c39691",
   "metadata": {},
   "outputs": [
    {
     "name": "stdout",
     "output_type": "stream",
     "text": [
      "---------- Treino Full -----------\n",
      "Scores: [0.97510568 0.97551789 0.97886332 0.97411765 0.96904315 0.96752941\n",
      " 0.97218293 0.96850024 0.96847059 0.97040864]\n",
      "\n",
      "Mean: 0.9719739499538264\n",
      "Standard deviation: 0.003600050975727407\n",
      "---------- Treino relevantes -----------\n",
      "Scores: [0.96567936 0.96123307 0.96946923 0.96411709 0.95765472 0.95028143\n",
      " 0.96244131 0.96219282 0.95750708 0.96275605]\n",
      "\n",
      "Mean: 0.9613332169741347\n",
      "Standard deviation: 0.004971395114296107\n"
     ]
    }
   ],
   "source": [
    "teste_modelos( LogisticRegression() , X_train , X_train_compress, y_train)"
   ]
  },
  {
   "cell_type": "markdown",
   "id": "f8cdb61d",
   "metadata": {},
   "source": [
    "## 6.3 Modelos selecionados"
   ]
  },
  {
   "cell_type": "markdown",
   "id": "3230ca4d",
   "metadata": {},
   "source": [
    "A Partir dos resultados tanto no dataset completo quanto no reduzido vamos seguir com os classificadores com maior score inicial\n",
    "Dos modelos restantes vamos escolher os que obtiveram melhores médias de score:\n",
    "- **LogisticRegression**\n",
    "- **SVC**\n",
    "- **GradientBoostingClassifier**"
   ]
  },
  {
   "cell_type": "markdown",
   "id": "827f36f5",
   "metadata": {},
   "source": [
    "# 7. Otimização de parâmetros "
   ]
  },
  {
   "cell_type": "markdown",
   "id": "e305b8c5",
   "metadata": {},
   "source": [
    "Com esses três modelos pré selecionados vamos seguir tentando melhorar ainda mais o resultado deles.\n",
    "criaremos uma função com os seguintes passos:\n",
    "- Separar treino em um novo treino/teste\n",
    "- Cirar a trasnformação do treino\n",
    "- Aplicar no teste\n",
    "- Testar modelo\n",
    "- Revisar threshold do melhor parâmetro\n",
    "- Modelo final\n",
    "\n",
    "Neste caso usaremos apenas a base reduzida, apenas com as features mais importantes"
   ]
  },
  {
   "cell_type": "markdown",
   "id": "93571254",
   "metadata": {},
   "source": [
    "## 7.1 Função"
   ]
  },
  {
   "cell_type": "markdown",
   "id": "322cf330",
   "metadata": {},
   "source": [
    "**Tentar criar a tabela auxiliarpensndo em quem é o adversário**"
   ]
  },
  {
   "cell_type": "code",
   "execution_count": 18,
   "id": "56ec3908",
   "metadata": {},
   "outputs": [],
   "source": [
    "from sklearn.model_selection import GridSearchCV, train_test_split, StratifiedKFold"
   ]
  },
  {
   "cell_type": "code",
   "execution_count": 19,
   "id": "e9095ae9",
   "metadata": {},
   "outputs": [],
   "source": [
    "base_train = pd.read_excel('s3://{}/{}'.format(bucket, \"treino.xlsx\"))"
   ]
  },
  {
   "cell_type": "code",
   "execution_count": 20,
   "id": "ea03a253",
   "metadata": {},
   "outputs": [],
   "source": [
    "base_train_final, base_test_final = train_test_split(base_train, test_size=0.2, stratify=base_train['Blue Team Victory'], random_state=42)\n"
   ]
  },
  {
   "cell_type": "code",
   "execution_count": 21,
   "id": "27dc1e13",
   "metadata": {},
   "outputs": [],
   "source": [
    "X_train = preprocessed_pipeline_nova.fit_transform(base_train_final[relevantes_10+categorical_2])\n",
    "y_train =  base_train_final['Blue Team Victory'].copy()\n",
    "X_test = preprocessed_pipeline_nova.transform(base_test_final[relevantes_10+categorical_2])\n",
    "y_test =  base_test_final['Blue Team Victory'].copy()"
   ]
  },
  {
   "cell_type": "code",
   "execution_count": 25,
   "id": "ea72c6f8",
   "metadata": {},
   "outputs": [],
   "source": [
    "def otimiza_modelos(modelo , parametros):\n",
    "    \n",
    "    \n",
    "    skf = StratifiedKFold(n_splits=5)\n",
    "    grid_search = GridSearchCV(modelo, parametros, scoring=\"f1\",\n",
    "                           cv=skf, return_train_score=True, n_jobs=-1)\n",
    "    grid_search.fit(X_train, y_train.values)\n",
    "\n",
    "    # make the predictions\n",
    "    y_pred = grid_search.predict(X_test)\n",
    "    print(f1_score(y_test, y_pred, zero_division=1))\n",
    "    print(grid_search.best_params_)\n",
    "    \n"
   ]
  },
  {
   "cell_type": "markdown",
   "id": "9040dd03",
   "metadata": {},
   "source": [
    "## 7.2 Logistic Regression"
   ]
  },
  {
   "cell_type": "code",
   "execution_count": 60,
   "id": "881545d2",
   "metadata": {},
   "outputs": [
    {
     "name": "stdout",
     "output_type": "stream",
     "text": [
      "0.9644789461303223\n"
     ]
    }
   ],
   "source": [
    "# Base Line\n",
    "clf = LogisticRegression()\n",
    "clf.fit(X_train,y_train)\n",
    "preds = clf.predict(X_test)\n",
    "print(f1_score(y_test, preds, zero_division=1))"
   ]
  },
  {
   "cell_type": "code",
   "execution_count": 44,
   "id": "f2e2afab",
   "metadata": {},
   "outputs": [],
   "source": [
    "pars = {\n",
    "    \n",
    "    'penalty' : ['l1', 'l2', 'elasticnet', 'none'],\n",
    "    'solver' : ['newton-cg', 'lbfgs', 'liblinear', 'sag', 'saga'],\n",
    "    'multi_class': ['auto'],\n",
    "    'max_iter': [500]\n",
    "}"
   ]
  },
  {
   "cell_type": "code",
   "execution_count": 45,
   "id": "636181a8",
   "metadata": {},
   "outputs": [
    {
     "name": "stdout",
     "output_type": "stream",
     "text": [
      "0.9644789461303223\n",
      "{'max_iter': 500, 'multi_class': 'auto', 'penalty': 'l2', 'solver': 'liblinear'}\n"
     ]
    }
   ],
   "source": [
    "otimiza_modelos(LogisticRegression() , pars)"
   ]
  },
  {
   "cell_type": "markdown",
   "id": "4fafbcb0",
   "metadata": {},
   "source": [
    "## 7.3 SVC"
   ]
  },
  {
   "cell_type": "code",
   "execution_count": 23,
   "id": "bb7f6b5d",
   "metadata": {},
   "outputs": [
    {
     "name": "stdout",
     "output_type": "stream",
     "text": [
      "0.9653558052434457\n"
     ]
    }
   ],
   "source": [
    "# Base Line\n",
    "clf = SVC()\n",
    "clf.fit(X_train,y_train)\n",
    "preds = clf.predict(X_test)\n",
    "print(f1_score(y_test, preds, zero_division=1))"
   ]
  },
  {
   "cell_type": "code",
   "execution_count": 28,
   "id": "01012a22",
   "metadata": {},
   "outputs": [],
   "source": [
    "pars_svc ={ \"C\" : [1,2],\n",
    "           'degree' : [1,3],\n",
    "          'decision_function_shape' : ['ovo', 'ovr']\n",
    "}"
   ]
  },
  {
   "cell_type": "code",
   "execution_count": 29,
   "id": "b91e2e45",
   "metadata": {},
   "outputs": [
    {
     "name": "stdout",
     "output_type": "stream",
     "text": [
      "0.9669402110199297\n",
      "{'C': 2, 'decision_function_shape': 'ovo', 'degree': 1}\n"
     ]
    }
   ],
   "source": [
    "otimiza_modelos(SVC() , pars_svc)"
   ]
  },
  {
   "cell_type": "markdown",
   "id": "48e3b51e",
   "metadata": {},
   "source": [
    "## 7.4 gradientebooster"
   ]
  },
  {
   "cell_type": "code",
   "execution_count": 30,
   "id": "1735b0bf",
   "metadata": {},
   "outputs": [
    {
     "name": "stdout",
     "output_type": "stream",
     "text": [
      "0.9451893672077158\n"
     ]
    }
   ],
   "source": [
    "# Base Line\n",
    "clf = GradientBoostingClassifier()\n",
    "clf.fit(X_train,y_train)\n",
    "preds = clf.predict(X_test)\n",
    "print(f1_score(y_test, preds, zero_division=1))"
   ]
  },
  {
   "cell_type": "code",
   "execution_count": 31,
   "id": "19e884ed",
   "metadata": {},
   "outputs": [],
   "source": [
    "pars_gradient ={ 'loss' : ['log_loss', 'exponential'] ,\n",
    "               'learning_rate' : [ 0.1 , 0.5 ],\n",
    "               'n_estimators': [ 100 , 300 ],\n",
    "               'criterion' :['friedman_mse', 'squared_error', 'mse'],\n",
    "               'max_depth' : [3 , 5]}"
   ]
  },
  {
   "cell_type": "code",
   "execution_count": null,
   "id": "145a77c2",
   "metadata": {},
   "outputs": [],
   "source": [
    "otimiza_modelos(GradientBoostingClassifier() , pars_gradient)"
   ]
  },
  {
   "cell_type": "markdown",
   "id": "ff4ec629",
   "metadata": {},
   "source": [
    "0.9552520018841262\n",
    "{'criterion': 'friedman_mse', 'learning_rate': 0.5, 'loss': 'exponential', 'max_depth': 3, 'n_estimators': 300}"
   ]
  },
  {
   "cell_type": "markdown",
   "id": "9fcca548",
   "metadata": {},
   "source": [
    "# 8. Otimização de threshold\n",
    "Apesar da base ser bem balanceada testaremos essa variação apenas por fins didáticos"
   ]
  },
  {
   "cell_type": "code",
   "execution_count": 62,
   "id": "ef676958",
   "metadata": {},
   "outputs": [],
   "source": [
    "teste = [ 0.4 , 0.42 , 0.44 , 0.46 , 0.48, 0.5 , 0.52 , 0.54 , 0.56 , 0.58, 0.6 ]\n",
    "def otimiza_thresold(modelo):\n",
    "    global predict_mine,preds\n",
    "    aux = []\n",
    "    modelo.fit(X_train,y_train)\n",
    "    preds = modelo.predict_proba(X_test)\n",
    "    new_preds = []\n",
    "    for i in range(len(preds)):\n",
    "        new_preds.append(list(list(preds)[i])[1])\n",
    "    preds = modelo.predict(X_test)\n",
    "\n",
    "    for i in teste: \n",
    "        dict_aux = {}\n",
    "        predict_mine = [1 if num>i else 0 for num in new_preds]\n",
    "        #predict_mine = np.where(preds > i, 1, 0)\n",
    "        dict_aux[\"TH\"] = i\n",
    "        dict_aux[\"F1\"] = f1_score(y_test, predict_mine, zero_division=1)\n",
    "        aux.append(dict_aux)\n",
    "    print(pd.DataFrame(aux).sort_values(by = \"F1\" , ascending= False).head())\n",
    "        "
   ]
  },
  {
   "cell_type": "markdown",
   "id": "ab82ec03",
   "metadata": {},
   "source": [
    "## 8.1 Regressão Logistica"
   ]
  },
  {
   "cell_type": "code",
   "execution_count": 63,
   "id": "fa4c9f1b",
   "metadata": {},
   "outputs": [
    {
     "name": "stdout",
     "output_type": "stream",
     "text": [
      "     TH        F1\n",
      "2  0.44  0.965081\n",
      "4  0.48  0.964496\n",
      "5  0.50  0.964479\n",
      "0  0.40  0.964244\n",
      "1  0.42  0.964194\n"
     ]
    }
   ],
   "source": [
    "modelo = LogisticRegression()\n",
    "otimiza_thresold(modelo)"
   ]
  },
  {
   "cell_type": "markdown",
   "id": "04f92d1c",
   "metadata": {},
   "source": [
    "## 8.2 SVC"
   ]
  },
  {
   "cell_type": "code",
   "execution_count": 66,
   "id": "cd14b64c",
   "metadata": {},
   "outputs": [
    {
     "name": "stdout",
     "output_type": "stream",
     "text": [
      "      TH        F1\n",
      "2   0.44  0.967125\n",
      "3   0.46  0.967064\n",
      "4   0.48  0.967002\n",
      "10  0.60  0.966825\n",
      "8   0.56  0.966690\n"
     ]
    }
   ],
   "source": [
    "modelo = SVC(C= 2, decision_function_shape = 'ovo', degree = 1,probability=True)\n",
    "otimiza_thresold(modelo)"
   ]
  },
  {
   "cell_type": "markdown",
   "id": "f78cc2fb",
   "metadata": {},
   "source": [
    "## 8.3 GradientBoostingClassifier"
   ]
  },
  {
   "cell_type": "code",
   "execution_count": 67,
   "id": "fc59c01a",
   "metadata": {},
   "outputs": [
    {
     "name": "stdout",
     "output_type": "stream",
     "text": [
      "      TH        F1\n",
      "1   0.42  0.957681\n",
      "0   0.40  0.957477\n",
      "2   0.44  0.957377\n",
      "10  0.60  0.956852\n",
      "3   0.46  0.956808\n"
     ]
    }
   ],
   "source": [
    "modelo = GradientBoostingClassifier(criterion= 'friedman_mse', learning_rate =  0.5, loss= 'exponential', max_depth= 3, n_estimators = 300)\n",
    "otimiza_thresold(modelo)\n"
   ]
  },
  {
   "cell_type": "markdown",
   "id": "894a7738",
   "metadata": {},
   "source": [
    "# 9. Modelo Final"
   ]
  },
  {
   "cell_type": "markdown",
   "id": "35dd9178",
   "metadata": {},
   "source": [
    "Apesar da busca para a otimização dos hyperparametros, nenhum dos usados foi efetivo, ou seja iremos utilizar o modelo padrão."
   ]
  },
  {
   "cell_type": "code",
   "execution_count": 71,
   "id": "5f59a74c",
   "metadata": {},
   "outputs": [],
   "source": [
    "# leitura das bases separadas inicialmente\n",
    "base_train = pd.read_excel('s3://{}/{}'.format(bucket, \"treino.xlsx\"))\n",
    "base_test = pd.read_excel('s3://{}/{}'.format(bucket, \"teste.xlsx\"))"
   ]
  },
  {
   "cell_type": "code",
   "execution_count": 72,
   "id": "a95f2698",
   "metadata": {},
   "outputs": [],
   "source": [
    "X_train = preprocessed_pipeline_nova.fit_transform(base_train[relevantes_10+categorical_2])\n",
    "y_train =  base_train['Blue Team Victory'].copy()\n",
    "X_test = preprocessed_pipeline_nova.transform(base_test[relevantes_10+categorical_2])\n",
    "y_test =  base_test['Blue Team Victory'].copy()"
   ]
  },
  {
   "cell_type": "markdown",
   "id": "d74fb6e9",
   "metadata": {},
   "source": [
    "## 9.1 Treino dos modelos"
   ]
  },
  {
   "cell_type": "code",
   "execution_count": 85,
   "id": "9b240025",
   "metadata": {},
   "outputs": [],
   "source": [
    "modelo_1 = LogisticRegression()\n",
    "modelo_1.fit(X_train,y_train)\n",
    "preds_1 = modelo_1.predict_proba(X_test)\n",
    "new_preds = []\n",
    "for i in range(len(preds_1)):\n",
    "    new_preds.append(list(list(preds_1)[i])[1])\n",
    "predict_mine_1 = [1 if num > 0.44 else 0 for num in new_preds]\n"
   ]
  },
  {
   "cell_type": "code",
   "execution_count": 84,
   "id": "caa385ce",
   "metadata": {},
   "outputs": [],
   "source": [
    "modelo_2 = SVC(C= 2, decision_function_shape = 'ovo', degree = 1,probability=True)\n",
    "modelo_2.fit(X_train,y_train)\n",
    "preds_2 = modelo_2.predict_proba(X_test)\n",
    "new_preds = []\n",
    "for i in range(len(preds_2)):\n",
    "    new_preds.append(list(list(preds_2)[i])[1])\n",
    "predict_mine_2 = [1 if num > 0.44 else 0 for num in new_preds]"
   ]
  },
  {
   "cell_type": "code",
   "execution_count": 86,
   "id": "8759ad53",
   "metadata": {},
   "outputs": [],
   "source": [
    "modelo_3 = GradientBoostingClassifier(criterion= 'friedman_mse', learning_rate =  0.5, loss= 'exponential', max_depth= 3, n_estimators = 300)\n",
    "modelo_3.fit(X_train,y_train)\n",
    "preds_3 = modelo_3.predict_proba(X_test)\n",
    "new_preds = []\n",
    "for i in range(len(preds_3)):\n",
    "    new_preds.append(list(list(preds_3)[i])[1])\n",
    "predict_mine_3 = [1 if num > 0.42 else 0 for num in new_preds]"
   ]
  },
  {
   "cell_type": "markdown",
   "id": "f32d6445",
   "metadata": {},
   "source": [
    "## 9.2 Majority voting"
   ]
  },
  {
   "cell_type": "code",
   "execution_count": 87,
   "id": "e0fac0de",
   "metadata": {},
   "outputs": [],
   "source": [
    "resultado_final = [ ]\n",
    "for i in range (len(predict_mine_1)):\n",
    "    if predict_mine_3[i]+predict_mine_2[i]+predict_mine_1[i]>=2:\n",
    "        resultado_final.append(1)\n",
    "    else:\n",
    "        resultado_final.append(0)"
   ]
  },
  {
   "cell_type": "markdown",
   "id": "8e7558ad",
   "metadata": {},
   "source": [
    "## 9.3 Resultados"
   ]
  },
  {
   "cell_type": "markdown",
   "id": "cfc8b56e",
   "metadata": {},
   "source": [
    "## 9.3.1 Majority voting"
   ]
  },
  {
   "cell_type": "code",
   "execution_count": 88,
   "id": "ae8c4114",
   "metadata": {},
   "outputs": [
    {
     "name": "stdout",
     "output_type": "stream",
     "text": [
      "-------------F1 Score---------------\n",
      "0.9665982459414071\n",
      "------------------------------------\n"
     ]
    },
    {
     "data": {
      "image/png": "[encoded data removed]",
      "text/plain": [
       "<Figure size 432x288 with 2 Axes>"
      ]
     },
     "metadata": {
      "needs_background": "light"
     },
     "output_type": "display_data"
    }
   ],
   "source": [
    "import matplotlib.pyplot as plt\n",
    "import numpy\n",
    "from sklearn import metrics\n",
    "\n",
    "actual = y_test\n",
    "predicted = resultado_final\n",
    "print(\"-------------F1 Score---------------\")\n",
    "print(f1_score(y_test, predicted, zero_division=1))\n",
    "print(\"------------------------------------\")\n",
    "confusion_matrix = metrics.confusion_matrix(actual, predicted)\n",
    "\n",
    "cm_display = metrics.ConfusionMatrixDisplay(confusion_matrix = confusion_matrix, display_labels = [False, True])\n",
    "\n",
    "cm_display.plot()\n",
    "plt.show()"
   ]
  },
  {
   "cell_type": "markdown",
   "id": "bfd0ba2f",
   "metadata": {},
   "source": [
    "## 9.3.2 Logistic"
   ]
  },
  {
   "cell_type": "code",
   "execution_count": 89,
   "id": "0272e0a4",
   "metadata": {},
   "outputs": [
    {
     "name": "stdout",
     "output_type": "stream",
     "text": [
      "-------------F1 Score---------------\n",
      "0.9613011777902412\n",
      "------------------------------------\n"
     ]
    },
    {
     "data": {
      "image/png": "[encoded data removed]",
      "text/plain": [
       "<Figure size 432x288 with 2 Axes>"
      ]
     },
     "metadata": {
      "needs_background": "light"
     },
     "output_type": "display_data"
    }
   ],
   "source": [
    "predicted = predict_mine_1\n",
    "print(\"-------------F1 Score---------------\")\n",
    "print(f1_score(y_test, predicted, zero_division=1))\n",
    "print(\"------------------------------------\")\n",
    "confusion_matrix = metrics.confusion_matrix(actual, predicted)\n",
    "\n",
    "cm_display = metrics.ConfusionMatrixDisplay(confusion_matrix = confusion_matrix, display_labels = [False, True])\n",
    "\n",
    "cm_display.plot()\n",
    "plt.show()\n"
   ]
  },
  {
   "cell_type": "markdown",
   "id": "37e570ca",
   "metadata": {},
   "source": [
    "## 9.3.3 svc"
   ]
  },
  {
   "cell_type": "code",
   "execution_count": 90,
   "id": "13895d47",
   "metadata": {},
   "outputs": [
    {
     "name": "stdout",
     "output_type": "stream",
     "text": [
      "-------------F1 Score---------------\n",
      "0.9654915127774669\n",
      "------------------------------------\n"
     ]
    },
    {
     "data": {
      "image/png": "[encoded data removed]",
      "text/plain": [
       "<Figure size 432x288 with 2 Axes>"
      ]
     },
     "metadata": {
      "needs_background": "light"
     },
     "output_type": "display_data"
    }
   ],
   "source": [
    "predicted = predict_mine_2\n",
    "print(\"-------------F1 Score---------------\")\n",
    "print(f1_score(y_test, predicted, zero_division=1))\n",
    "print(\"------------------------------------\")\n",
    "confusion_matrix = metrics.confusion_matrix(actual, predicted)\n",
    "\n",
    "cm_display = metrics.ConfusionMatrixDisplay(confusion_matrix = confusion_matrix, display_labels = [False, True])\n",
    "\n",
    "cm_display.plot()\n",
    "plt.show()"
   ]
  },
  {
   "cell_type": "markdown",
   "id": "d4f8b27f",
   "metadata": {},
   "source": [
    "## 9.3.4 gradient"
   ]
  },
  {
   "cell_type": "code",
   "execution_count": 91,
   "id": "d600c44d",
   "metadata": {},
   "outputs": [
    {
     "name": "stdout",
     "output_type": "stream",
     "text": [
      "-------------F1 Score---------------\n",
      "0.9563595673256248\n",
      "------------------------------------\n"
     ]
    },
    {
     "data": {
      "image/png": "[encoded data removed]",
      "text/plain": [
       "<Figure size 432x288 with 2 Axes>"
      ]
     },
     "metadata": {
      "needs_background": "light"
     },
     "output_type": "display_data"
    }
   ],
   "source": [
    "predicted = predict_mine_3\n",
    "print(\"-------------F1 Score---------------\")\n",
    "print(f1_score(y_test, predicted, zero_division=1))\n",
    "print(\"------------------------------------\")\n",
    "confusion_matrix = metrics.confusion_matrix(actual, predicted)\n",
    "\n",
    "cm_display = metrics.ConfusionMatrixDisplay(confusion_matrix = confusion_matrix, display_labels = [False, True])\n",
    "\n",
    "cm_display.plot()\n",
    "plt.show()"
   ]
  },
  {
   "cell_type": "markdown",
   "id": "491f0469",
   "metadata": {},
   "source": [
    "# 10. Sugestão de escolhas"
   ]
  },
  {
   "cell_type": "markdown",
   "id": "8fb439bf",
   "metadata": {},
   "source": [
    "Pensando que a sugestão ocorre antes de sabermos o desempenho de cada jogador em um jogo, vamos precisar estabelecer métricas médias de desempenho a partir de dados que já foram usados.\n",
    "Portanto criaremos uma tabela auxiliar com métricas de partidas passadas baseadas no campeao"
   ]
  },
  {
   "cell_type": "markdown",
   "id": "47d2abaf",
   "metadata": {},
   "source": [
    "## 10.1 Base auxiliar"
   ]
  },
  {
   "cell_type": "code",
   "execution_count": 112,
   "id": "800fab05",
   "metadata": {},
   "outputs": [],
   "source": [
    "def analise_auxiliar(posicao, time, campeao,base_train_final):\n",
    "    dicionario = {}\n",
    "    dicionario[\"campeao\"] = campeao\n",
    "    dicionario[\"time\"] = time\n",
    "    dicionario[\"posicao\"] = posicao\n",
    "    dicionario[\"kill\"] = statistics.mean(base_train_final.loc[base_train_final[f'champion_{posi}_{team}_side'] == campeao,   f'kill_{posicao}_{time}_side'])\n",
    "    dicionario[\"death\"] = statistics.mean(base_train_final.loc[base_train_final[f'champion_{posi}_{team}_side'] == campeao,   f'death_{posicao}_{time}_side'])\n",
    "    dicionario[\"assist\"] = statistics.mean(base_train_final.loc[base_train_final[f'champion_{posi}_{team}_side'] == campeao,   f'assist_{posicao}_{time}_side'])\n",
    "    dicionario[\"dano\"] = statistics.mean(base_train_final.loc[base_train_final[f'champion_{posi}_{team}_side'] == campeao,   f'damage_per_minute_{posicao}_{time}_side'])\n",
    "    dicionario[\"ouro\"] = statistics.mean(base_train_final.loc[base_train_final[f'champion_{posi}_{team}_side'] == campeao,   f'gold_per_minute_{posicao}_{time}_side'])\n",
    "    dicionario[\"visao\"] = statistics.mean(base_train_final.loc[base_train_final[f'champion_{posi}_{team}_side'] == campeao,   f'vision_per_minute_{posicao}_{time}_side'])\n",
    "    return dicionario"
   ]
  },
  {
   "cell_type": "code",
   "execution_count": 113,
   "id": "9f001a0f",
   "metadata": {},
   "outputs": [],
   "source": [
    "# Criação da nova base auxiliar \n",
    "\n",
    "lista_auxiliar = []\n",
    "for posi in posicao:\n",
    "    for team in times:\n",
    "        for campeao in base_train_pre[f'champion_{posi}_{team}_side'].unique():\n",
    "            lista_auxiliar.append(analise_auxiliar(posi, team, campeao,base_train_pre))\n",
    "            \n",
    "\n",
    "aux_exploratorio = pd.DataFrame(lista_auxiliar)"
   ]
  },
  {
   "cell_type": "markdown",
   "id": "63991493",
   "metadata": {},
   "source": [
    "## 10.2 Sugestão"
   ]
  },
  {
   "cell_type": "code",
   "execution_count": 200,
   "id": "a106c97b",
   "metadata": {},
   "outputs": [],
   "source": [
    "# input das escolhas já definidas\n",
    "escolhas = {\n",
    "            'champion_Top_red_side' :  \"Tryndamere\",\n",
    "            'champion_Top_blue_side' :  \"Illaoi\",\n",
    "            'champion_Jungle_red_side' :  \"Amumu\",\n",
    "            'champion_Jungle_blue_side' :  \"Rammus\",\n",
    "            'champion_Mid_red_side' :  None,\n",
    "            'champion_Mid_blue_side' : \"Lux\" ,\n",
    "            'champion_Adc_red_side' :  \"Xayah\",\n",
    "            'champion_Adc_blue_side' : \"Vayne\" ,\n",
    "            'champion_Sup_red_side' :  \"Singed\",\n",
    "            'champion_Sup_blue_side' : \"Renata\" \n",
    "}"
   ]
  },
  {
   "cell_type": "code",
   "execution_count": 181,
   "id": "aeb5f703",
   "metadata": {},
   "outputs": [],
   "source": [
    "def busca_aux(time, posicao, campeao, feature):\n",
    "    return aux_exploratorio.loc[(aux_exploratorio[\"campeao\"] == campeao) & (aux_exploratorio[\"time\"] == time) & (aux_exploratorio[\"posicao\"] == posicao),feature].values[0]"
   ]
  },
  {
   "cell_type": "code",
   "execution_count": 182,
   "id": "c2f2ccb1",
   "metadata": {},
   "outputs": [],
   "source": [
    "df = pd.DataFrame([escolhas])"
   ]
  },
  {
   "cell_type": "code",
   "execution_count": 183,
   "id": "83afecfc",
   "metadata": {},
   "outputs": [],
   "source": [
    "ja_escolhidos = []\n",
    "for posi in posicao:\n",
    "    for team in times:\n",
    "        if df.loc[0, f'champion_{posi}_{team}_side'] != None:\n",
    "            df[ f'kill_{posi}_{team}_side'] = df.apply(lambda x:busca_aux(team,posi,x[f'champion_{posi}_{team}_side'],\"kill\"),axis = 1)\n",
    "            df[f'death_{posi}_{team}_side'] = df.apply(lambda x:busca_aux(team,posi,x[f'champion_{posi}_{team}_side'],\"death\"),axis = 1)\n",
    "            df[f'assist_{posi}_{team}_side'] = df.apply(lambda x:busca_aux(team,posi,x[f'champion_{posi}_{team}_side'],\"assist\"),axis = 1)\n",
    "            df[f'damage_per_minute_{posi}_{team}_side'] = df.apply(lambda x:busca_aux(team,posi,x[f'champion_{posi}_{team}_side'],\"dano\"),axis = 1)\n",
    "            df[f'gold_per_minute_{posi}_{team}_side'] = df.apply(lambda x:busca_aux(team,posi,x[f'champion_{posi}_{team}_side'],\"ouro\"),axis = 1)\n",
    "            df[f'vision_per_minute_{posi}_{team}_side'] = df.apply(lambda x:busca_aux(team,posi,x[f'champion_{posi}_{team}_side'],\"visao\"),axis = 1)\n",
    "            ja_escolhidos.append(df.loc[0, f'champion_{posi}_{team}_side'])\n",
    "        else:\n",
    "            aux =  {'posicao' : posi , 'time' : team}"
   ]
  },
  {
   "cell_type": "code",
   "execution_count": 184,
   "id": "e991a4bb",
   "metadata": {},
   "outputs": [],
   "source": [
    "campeoes_restantes = [x for x in list(aux_exploratorio['campeao'].unique()) if x not in ja_escolhidos]\n"
   ]
  },
  {
   "cell_type": "code",
   "execution_count": 185,
   "id": "e74ccead",
   "metadata": {},
   "outputs": [],
   "source": [
    "lista_previsao = []\n",
    "for campeao in campeoes_restantes:\n",
    "    resposta = { }\n",
    "    copia_df = df.copy()\n",
    "    copia_df.loc[0,f'champion_{aux[\"posicao\"]}_{aux[\"time\"]}_side'] = campeao\n",
    "    resposta[\"campeao\"] = campeao\n",
    "    copia_df[ f'kill_{aux[\"posicao\"]}_{aux[\"time\"]}_side'] = copia_df.apply(lambda x:busca_aux(team,posi,campeao,\"kill\"),axis = 1)\n",
    "    copia_df[f'death_{aux[\"posicao\"]}_{aux[\"time\"]}_side'] = copia_df.apply(lambda x:busca_aux(team,posi,campeao,\"death\"),axis = 1)\n",
    "    copia_df[f'assist_{aux[\"posicao\"]}_{aux[\"time\"]}_side'] = copia_df.apply(lambda x:busca_aux(team,posi,campeao,\"assist\"),axis = 1)\n",
    "    copia_df[f'damage_per_minute_{aux[\"posicao\"]}_{aux[\"time\"]}_side'] = copia_df.apply(lambda x:busca_aux(team,posi,campeao,\"dano\"),axis = 1)\n",
    "    copia_df[f'gold_per_minute_{aux[\"posicao\"]}_{aux[\"time\"]}_side'] = copia_df.apply(lambda x:busca_aux(team,posi,campeao,\"ouro\"),axis = 1)\n",
    "    copia_df[f'vision_per_minute_{aux[\"posicao\"]}_{aux[\"time\"]}_side'] = copia_df.apply(lambda x:busca_aux(team,posi,campeao,\"visao\"),axis = 1)\n",
    "    \n",
    "    \n",
    "    if aux[\"time\"] == \"blue\":\n",
    "        number = 1\n",
    "    else:\n",
    "        number =0\n",
    "    X_test = preprocessed_pipeline_nova.transform(copia_df[relevantes_10+categorical_2])\n",
    "    \n",
    "    preds_1 = modelo_1.predict_proba(X_test)\n",
    "    new_preds = []\n",
    "    for i in range(len(preds_1)):\n",
    "        new_preds.append(list(list(preds_1)[i])[number])\n",
    "    predict_mine_1 = [num if num > 0.44 else num for num in new_preds]\n",
    "    \n",
    "    \n",
    "    preds_2 = modelo_2.predict_proba(X_test)\n",
    "    new_preds = []\n",
    "    for i in range(len(preds_2)):\n",
    "        new_preds.append(list(list(preds_2)[i])[number])\n",
    "    predict_mine_2 = [num if num > 0.44 else num for num in new_preds]\n",
    "    \n",
    "    \n",
    "    preds_3 = modelo_3.predict_proba(X_test)\n",
    "    new_preds = []\n",
    "    for i in range(len(preds_3)):\n",
    "        new_preds.append(list(list(preds_3)[i])[number])\n",
    "    predict_mine_3 = [num if num > 0.42 else num for num in new_preds]\n",
    "    \n",
    "    resposta[\"model 1\"] = predict_mine_1[0]\n",
    "    resposta[\"model 2\"] = predict_mine_2[0]\n",
    "    resposta[\"model 3\"] = predict_mine_3[0]\n",
    "    resposta[\"media\"] = (predict_mine_1[0] + predict_mine_2[0] + predict_mine_3[0])/3\n",
    "    \n",
    "    lista_previsao.append(resposta)"
   ]
  },
  {
   "cell_type": "code",
   "execution_count": 186,
   "id": "d2b0869d",
   "metadata": {},
   "outputs": [
    {
     "data": {
      "text/html": [
       "<div>\n",
       "<style scoped>\n",
       "    .dataframe tbody tr th:only-of-type {\n",
       "        vertical-align: middle;\n",
       "    }\n",
       "\n",
       "    .dataframe tbody tr th {\n",
       "        vertical-align: top;\n",
       "    }\n",
       "\n",
       "    .dataframe thead th {\n",
       "        text-align: right;\n",
       "    }\n",
       "</style>\n",
       "<table border=\"1\" class=\"dataframe\">\n",
       "  <thead>\n",
       "    <tr style=\"text-align: right;\">\n",
       "      <th></th>\n",
       "      <th>campeao</th>\n",
       "      <th>model 1</th>\n",
       "      <th>model 2</th>\n",
       "      <th>model 3</th>\n",
       "      <th>media</th>\n",
       "    </tr>\n",
       "  </thead>\n",
       "  <tbody>\n",
       "    <tr>\n",
       "      <th>74</th>\n",
       "      <td>Urgot</td>\n",
       "      <td>0.999997</td>\n",
       "      <td>0.999993</td>\n",
       "      <td>0.999999</td>\n",
       "      <td>0.999996</td>\n",
       "    </tr>\n",
       "    <tr>\n",
       "      <th>39</th>\n",
       "      <td>Jayce</td>\n",
       "      <td>0.999991</td>\n",
       "      <td>0.999988</td>\n",
       "      <td>0.999999</td>\n",
       "      <td>0.999993</td>\n",
       "    </tr>\n",
       "    <tr>\n",
       "      <th>115</th>\n",
       "      <td>KogMaw</td>\n",
       "      <td>0.999990</td>\n",
       "      <td>0.999987</td>\n",
       "      <td>0.999998</td>\n",
       "      <td>0.999992</td>\n",
       "    </tr>\n",
       "    <tr>\n",
       "      <th>47</th>\n",
       "      <td>Nilah</td>\n",
       "      <td>0.999989</td>\n",
       "      <td>0.999987</td>\n",
       "      <td>0.999998</td>\n",
       "      <td>0.999991</td>\n",
       "    </tr>\n",
       "    <tr>\n",
       "      <th>0</th>\n",
       "      <td>Rengar</td>\n",
       "      <td>0.999987</td>\n",
       "      <td>0.999986</td>\n",
       "      <td>0.999997</td>\n",
       "      <td>0.999990</td>\n",
       "    </tr>\n",
       "  </tbody>\n",
       "</table>\n",
       "</div>"
      ],
      "text/plain": [
       "    campeao   model 1   model 2   model 3     media\n",
       "74    Urgot  0.999997  0.999993  0.999999  0.999996\n",
       "39    Jayce  0.999991  0.999988  0.999999  0.999993\n",
       "115  KogMaw  0.999990  0.999987  0.999998  0.999992\n",
       "47    Nilah  0.999989  0.999987  0.999998  0.999991\n",
       "0    Rengar  0.999987  0.999986  0.999997  0.999990"
      ]
     },
     "execution_count": 186,
     "metadata": {},
     "output_type": "execute_result"
    }
   ],
   "source": [
    "pd.DataFrame(lista_previsao).sort_values(by = \"media\" , ascending = False).head()"
   ]
  },
  {
   "cell_type": "markdown",
   "id": "7c14e622",
   "metadata": {},
   "source": [
    "# 11. Conlusões"
   ]
  },
  {
   "cell_type": "markdown",
   "id": "48cb8992",
   "metadata": {},
   "source": [
    "O Modelo apesar de ser muito poderoso na previsão passa a não ter muita utilidade já que ele é muito bom com dados do passado.\n",
    "Quando passamos para o modelo de sugestão, apesar de não termos métricas para medir a efetividade dele, é possível notar que as recomendações não fazem tanto sentido assim, portanto é plausivel supor que a análise feita a partir das médais dos dados antigos não é boa, e seria e ncessário alguma alternativa para um modelo de recomendação decente\n",
    "\n",
    "Quanto a próximos passos, acredito que seja possível melhorar aina mais este modelo principalmente com hyperparametros e utilizando mais modelos para o voto majoritário.\n",
    "\n",
    "Outro ponto de melhoria seria rodar os modelos em paralelo a fim de otimizar o "
   ]
  }
 ],
 "metadata": {
  "kernelspec": {
   "display_name": "conda_python3",
   "language": "python",
   "name": "conda_python3"
  },
  "language_info": {
   "codemirror_mode": {
    "name": "ipython",
    "version": 3
   },
   "file_extension": ".py",
   "mimetype": "text/x-python",
   "name": "python",
   "nbconvert_exporter": "python",
   "pygments_lexer": "ipython3",
   "version": "3.8.12"
  }
 },
 "nbformat": 4,
 "nbformat_minor": 5
}
