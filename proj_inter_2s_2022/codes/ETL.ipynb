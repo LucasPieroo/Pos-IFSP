{
 "cells": [
  {
   "cell_type": "code",
   "execution_count": 1,
   "id": "e8977a85",
   "metadata": {},
   "outputs": [],
   "source": [
    "import numpy as np\n",
    "import matplotlib.pyplot as plt\n",
    "import pathlib\n",
    "import pandas as pd\n",
    "import seaborn as sns\n",
    "import tensorflow as tf\n",
    "import time\n",
    "from tensorflow import keras\n",
    "from riotwatcher import LolWatcher, ApiError,TftWatcher\n",
    "import time\n",
    "from tqdm import tqdm"
   ]
  },
  {
   "cell_type": "code",
   "execution_count": 2,
   "id": "1f66e68f",
   "metadata": {},
   "outputs": [],
   "source": [
    "api_key = \"----------------KEY--------------\"\n",
    "lol_watcher = LolWatcher(api_key)\n",
    "my_region = 'br1'"
   ]
  },
  {
   "cell_type": "code",
   "execution_count": 3,
   "id": "f0f96ef8",
   "metadata": {},
   "outputs": [],
   "source": [
    "de_para_lanes = {0:\"Top\",\n",
    "                 1:\"Jungle\",\n",
    "                 2:\"Mid\",\n",
    "                 3:\"Adc\",\n",
    "                 4:\"Sup\",\n",
    "                 5:\"Top\",\n",
    "                 6:\"Jungle\",\n",
    "                 7:\"Mid\",\n",
    "                 8:\"Adc\",\n",
    "                 9:\"Sup\",}\n",
    "\n",
    "\n",
    "def get_player_infos(players_list,id):\n",
    "    player_info = lol_watcher.summoner.by_id(my_region, id)\n",
    "    players_list.append(player_info)\n",
    "\n",
    "def get_matches(player_puu_id):\n",
    "    return lol_watcher.match.matchlist_by_puuid(my_region,player_puu_id,count  = 100) # trocar para 100 depois\n",
    "\n",
    "def matchs_colect(list_matchs, match):\n",
    "    dicionario = {}\n",
    "    partida = lol_watcher.match.by_id(my_region,match)\n",
    "    dicionario[\"Partida\"] = match\n",
    "    dicionario[\"Tempo\"] = partida[\"info\"][\"gameDuration\"]/60 #Tempo dado em segundos\n",
    "    dicionario[\"Blue Team Victory\"] =partida[\"info\"][\"teams\"][0][\"win\"]\n",
    "\n",
    "    for i in range (len(partida['info'][\"participants\"])):\n",
    "        lane = de_para_lanes[i] #partida['info'][\"participants\"][i][\"teamPosition\"]\n",
    "        team_id = partida['info'][\"participants\"][i][\"teamId\"]\n",
    "        status_by_position_by_side(dicionario, lane, team_id, i, partida)\n",
    "    list_matchs.append(dicionario)\n",
    "    \n",
    "def status_by_position_by_side(dict, lane, side_code, n, base):\n",
    "    if side_code == 100:\n",
    "        side = \"blue\"\n",
    "    else:\n",
    "        side = \"red\"\n",
    "    dict[f\"champion_id_{lane}_{side}_side\"] = base['info'][\"participants\"][n][\"championId\"]\n",
    "    dict[f\"champion_{lane}_{side}_side\"] = base['info'][\"participants\"][n][\"championName\"]\n",
    "    dict[f\"kill_{lane}_{side}_side\"] = base['info'][\"participants\"][n][\"kills\"]\n",
    "    dict[f\"death_{lane}_{side}_side\"] = base['info'][\"participants\"][n][\"deaths\"]\n",
    "    dict[f\"assist_{lane}_{side}_side\"] = base['info'][\"participants\"][n][\"assists\"]\n",
    "    dict[f\"damage_per_minute_{lane}_{side}_side\"] = base['info'][\"participants\"][n]['challenges'][\"damagePerMinute\"]\n",
    "    dict[f\"gold_per_minute_{lane}_{side}_side\"] = base['info'][\"participants\"][n]['challenges'][\"goldPerMinute\"]\n",
    "    dict[f\"vision_per_minute_{lane}_{side}_side\"] = base['info'][\"participants\"][n]['challenges'][\"visionScorePerMinute\"]\n"
   ]
  },
  {
   "cell_type": "code",
   "execution_count": 5,
   "id": "9e885af4",
   "metadata": {},
   "outputs": [],
   "source": [
    "def main(primeira_vez):\n",
    "    if primeira_vez:\n",
    "\n",
    "        players = lol_watcher.league.challenger_by_queue(my_region,'RANKED_SOLO_5x5')\n",
    "        time.sleep(1.25)\n",
    "        df = pd.DataFrame.from_dict(players[\"entries\"])\n",
    "        df.sort_values( by = \"leaguePoints\", ascending = False).reset_index(inplace= True,drop = True)\n",
    "        df.to_excel(\"challenger_list.xlsx\",index=False)\n",
    "        players_details = [ ]\n",
    "        for id in tqdm(df[\"summonerId\"]):\n",
    "            get_player_infos(players_details,id)\n",
    "            time.sleep(1.25)\n",
    "        players_details_df = pd.DataFrame.from_dict(players_details)\n",
    "        players_details_df.to_excel(\"players_details.xlsx\",index=False)\n",
    "\n",
    "        match_list = []\n",
    "        matchies_info = []\n",
    "        for puu_id in tqdm(players_details_df['puuid']):\n",
    "            matchies = get_matches(puu_id)\n",
    "            time.sleep(1.25) # para não chegarmos no limite de requisições da API\n",
    "            for match in matchies:\n",
    "                if match not in match_list:\n",
    "                    try:\n",
    "                        matchs_colect(matchies_info, match)\n",
    "                        match_list.append(match)\n",
    "                        time.sleep(1.25)\n",
    "                    except:\n",
    "                        pass\n",
    "        \n",
    "        partidas_coletadas = pd.DataFrame (match_list, columns = ['Partidas_coletadas'])\n",
    "        matchies_info_df = pd.DataFrame.from_dict(matchies_info)\n",
    "        partidas_coletadas.to_excel(\"partidas_coletadas.xlsx\",index=False)\n",
    "        matchies_info_df.to_excel(\"partidas_detalhadas.xlsx\",index=False)\n",
    "\n",
    "\n",
    "    else:\n",
    "        players_list_df = pd.read_excel(\"challenger_list.xlsx\")\n",
    "        players_details_df = pd.read_excel(\"players_details.xlsx\")\n",
    "        partidas_coletadas = pd.read_excel(\"partidas_coletadas.xlsx\")\n",
    "        matchies_info_df = pd.read_excel(\"partidas_detalhadas.xlsx\")\n",
    "        match_list = []\n",
    "        matchies_info = []\n",
    "        for puu_id in tqdm(players_details_df['puuid']):\n",
    "            matchies = get_matches(puu_id)\n",
    "            time.sleep(1.5) # para não chegarmos no limite de requisições da API\n",
    "            for match in matchies:\n",
    "                if match in list(matchies_info_df['Partida']):\n",
    "                    break\n",
    "                elif match not in match_list:\n",
    "                    try:\n",
    "                        matchs_colect(matchies_info, match)\n",
    "                        time.sleep(1.5)\n",
    "                    except:\n",
    "                        pass\n",
    "        novas_partidas_coletadas = pd.DataFrame (match_list, columns = ['Partidas_coletadas'])\n",
    "        new_matchies_info_df = pd.DataFrame.from_dict(matchies_info)\n",
    "        partidas = pd.concat([partidas_coletadas, novas_partidas_coletadas], ignore_index=True)\n",
    "        partidas_detail = pd.concat([matchies_info_df, new_matchies_info_df], ignore_index=True)\n",
    "        partidas.to_excel(\"partidas_coletadas.xlsx\",index=False)\n",
    "        partidas_detail.to_excel(\"partidas_detalhadas.xlsx\",index=False)"
   ]
  },
  {
   "cell_type": "code",
   "execution_count": 6,
   "id": "c19b8c09",
   "metadata": {},
   "outputs": [
    {
     "name": "stderr",
     "output_type": "stream",
     "text": [
      "100%|██████████| 200/200 [3:08:15<00:00, 56.48s/it]   \n"
     ]
    }
   ],
   "source": [
    "main(False)"
   ]
  },
  {
   "cell_type": "code",
   "execution_count": null,
   "id": "5531e414",
   "metadata": {},
   "outputs": [],
   "source": []
  }
 ],
 "metadata": {
  "kernelspec": {
   "display_name": "Python 3.9.7 ('base': conda)",
   "language": "python",
   "name": "python3"
  },
  "language_info": {
   "codemirror_mode": {
    "name": "ipython",
    "version": 3
   },
   "file_extension": ".py",
   "mimetype": "text/x-python",
   "name": "python",
   "nbconvert_exporter": "python",
   "pygments_lexer": "ipython3",
   "version": "3.9.13"
  },
  "vscode": {
   "interpreter": {
    "hash": "e51bf7b30ae95accd2c110cca7a1e73e72e9fccea4ec216681dc30b3090b3540"
   }
  }
 },
 "nbformat": 4,
 "nbformat_minor": 5
}
